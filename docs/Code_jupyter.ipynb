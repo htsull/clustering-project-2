{
 "cells": [
  {
   "cell_type": "markdown",
   "metadata": {},
   "source": [
    "# Projet méthode de scoring"
   ]
  },
  {
   "cell_type": "markdown",
   "metadata": {},
   "source": [
    "## partie 2: méthodes de Machine Learning"
   ]
  },
  {
   "cell_type": "code",
   "execution_count": 1,
   "metadata": {},
   "outputs": [],
   "source": [
    "# !pip install imblearn\n",
    "# !pip install sklearn\n",
    "# !pip install delayed\n",
    "\n",
    "#importation\n",
    "import pandas as pd\n",
    "import matplotlib.pyplot as plt\n",
    "import numpy as np\n",
    "import seaborn as sns\n",
    "\n",
    "from imblearn.under_sampling import RandomUnderSampler\n",
    "from collections import Counter\n",
    "\n",
    "from sklearn.model_selection import train_test_split, RandomizedSearchCV\n",
    "from sklearn.metrics import plot_roc_curve, auc, roc_curve, confusion_matrix\n",
    "from sklearn.ensemble import RandomForestClassifier\n",
    "from sklearn.svm import SVC"
   ]
  },
  {
   "cell_type": "code",
   "execution_count": 2,
   "metadata": {},
   "outputs": [
    {
     "data": {
      "text/html": [
       "<div>\n",
       "<style scoped>\n",
       "    .dataframe tbody tr th:only-of-type {\n",
       "        vertical-align: middle;\n",
       "    }\n",
       "\n",
       "    .dataframe tbody tr th {\n",
       "        vertical-align: top;\n",
       "    }\n",
       "\n",
       "    .dataframe thead th {\n",
       "        text-align: right;\n",
       "    }\n",
       "</style>\n",
       "<table border=\"1\" class=\"dataframe\">\n",
       "  <thead>\n",
       "    <tr style=\"text-align: right;\">\n",
       "      <th></th>\n",
       "      <th>csp_perphy</th>\n",
       "      <th>no_par_crypte</th>\n",
       "      <th>date_gest</th>\n",
       "      <th>date_dmd</th>\n",
       "      <th>WE12c</th>\n",
       "      <th>mt_finance</th>\n",
       "      <th>appo_cptt_cnt</th>\n",
       "      <th>nb_imp_an_0</th>\n",
       "      <th>nb_imp_tot</th>\n",
       "      <th>age_indv</th>\n",
       "      <th>...</th>\n",
       "      <th>MT_ECH</th>\n",
       "      <th>diag_cli_rnva</th>\n",
       "      <th>cpt_pai2_</th>\n",
       "      <th>secteur_</th>\n",
       "      <th>eta_civ_prtc</th>\n",
       "      <th>mod_habi_indv</th>\n",
       "      <th>region_</th>\n",
       "      <th>no_nat_prod</th>\n",
       "      <th>cd_natl_indv</th>\n",
       "      <th>new_client</th>\n",
       "    </tr>\n",
       "    <tr>\n",
       "      <th>no_cnt_crypte</th>\n",
       "      <th></th>\n",
       "      <th></th>\n",
       "      <th></th>\n",
       "      <th></th>\n",
       "      <th></th>\n",
       "      <th></th>\n",
       "      <th></th>\n",
       "      <th></th>\n",
       "      <th></th>\n",
       "      <th></th>\n",
       "      <th></th>\n",
       "      <th></th>\n",
       "      <th></th>\n",
       "      <th></th>\n",
       "      <th></th>\n",
       "      <th></th>\n",
       "      <th></th>\n",
       "      <th></th>\n",
       "      <th></th>\n",
       "      <th></th>\n",
       "      <th></th>\n",
       "    </tr>\n",
       "  </thead>\n",
       "  <tbody>\n",
       "    <tr>\n",
       "      <th>1</th>\n",
       "      <td>INGENIEURS</td>\n",
       "      <td>11241</td>\n",
       "      <td>2017-07-01</td>\n",
       "      <td>2017-01-01</td>\n",
       "      <td>0</td>\n",
       "      <td>1.140076e+06</td>\n",
       "      <td>0.00</td>\n",
       "      <td>0</td>\n",
       "      <td>0</td>\n",
       "      <td>56</td>\n",
       "      <td>...</td>\n",
       "      <td>23693</td>\n",
       "      <td>Moyen</td>\n",
       "      <td>Moyen</td>\n",
       "      <td>Biens de conso</td>\n",
       "      <td>Marié</td>\n",
       "      <td>Propriétaire</td>\n",
       "      <td>Nouvelle Aquitaine</td>\n",
       "      <td>Leasing</td>\n",
       "      <td>CEE</td>\n",
       "      <td>0</td>\n",
       "    </tr>\n",
       "    <tr>\n",
       "      <th>2</th>\n",
       "      <td>CADRES ADM MOY</td>\n",
       "      <td>9492</td>\n",
       "      <td>2017-05-01</td>\n",
       "      <td>2017-01-01</td>\n",
       "      <td>0</td>\n",
       "      <td>8.881260e+05</td>\n",
       "      <td>0.00</td>\n",
       "      <td>1</td>\n",
       "      <td>1</td>\n",
       "      <td>50</td>\n",
       "      <td>...</td>\n",
       "      <td>12747</td>\n",
       "      <td>Rédhibitoire</td>\n",
       "      <td>Mauvais</td>\n",
       "      <td>Autres</td>\n",
       "      <td>Marié</td>\n",
       "      <td>Propriétaire</td>\n",
       "      <td>Région Grand Est</td>\n",
       "      <td>Leasing</td>\n",
       "      <td>CEE</td>\n",
       "      <td>0</td>\n",
       "    </tr>\n",
       "    <tr>\n",
       "      <th>3</th>\n",
       "      <td>CADRES</td>\n",
       "      <td>8701</td>\n",
       "      <td>2017-07-01</td>\n",
       "      <td>2017-01-01</td>\n",
       "      <td>0</td>\n",
       "      <td>1.799952e+06</td>\n",
       "      <td>46.43</td>\n",
       "      <td>0</td>\n",
       "      <td>0</td>\n",
       "      <td>51</td>\n",
       "      <td>...</td>\n",
       "      <td>50000</td>\n",
       "      <td>Moyen</td>\n",
       "      <td>Moyen</td>\n",
       "      <td>Services</td>\n",
       "      <td>Marié</td>\n",
       "      <td>Propriétaire</td>\n",
       "      <td>Auvergne, Rhone, Alpes</td>\n",
       "      <td>Crédit</td>\n",
       "      <td>CEE</td>\n",
       "      <td>0</td>\n",
       "    </tr>\n",
       "    <tr>\n",
       "      <th>11</th>\n",
       "      <td>EMPLOYES</td>\n",
       "      <td>10913</td>\n",
       "      <td>2017-02-01</td>\n",
       "      <td>2017-01-01</td>\n",
       "      <td>0</td>\n",
       "      <td>1.000360e+06</td>\n",
       "      <td>49.23</td>\n",
       "      <td>0</td>\n",
       "      <td>0</td>\n",
       "      <td>51</td>\n",
       "      <td>...</td>\n",
       "      <td>25484</td>\n",
       "      <td>Inconnu</td>\n",
       "      <td>Bon</td>\n",
       "      <td>Services</td>\n",
       "      <td>Union libre, Concubinage ou Pacsé</td>\n",
       "      <td>Propriétaire</td>\n",
       "      <td>Normandie</td>\n",
       "      <td>Crédit</td>\n",
       "      <td>CEE</td>\n",
       "      <td>1</td>\n",
       "    </tr>\n",
       "    <tr>\n",
       "      <th>15</th>\n",
       "      <td>CADRES</td>\n",
       "      <td>5269</td>\n",
       "      <td>2017-04-01</td>\n",
       "      <td>2017-01-01</td>\n",
       "      <td>0</td>\n",
       "      <td>1.373776e+06</td>\n",
       "      <td>0.00</td>\n",
       "      <td>0</td>\n",
       "      <td>0</td>\n",
       "      <td>48</td>\n",
       "      <td>...</td>\n",
       "      <td>21018</td>\n",
       "      <td>Inconnu</td>\n",
       "      <td>Bon</td>\n",
       "      <td>Commerce de groupe</td>\n",
       "      <td>Séparé</td>\n",
       "      <td>Propriétaire</td>\n",
       "      <td>Ile de france</td>\n",
       "      <td>Leasing</td>\n",
       "      <td>CEE</td>\n",
       "      <td>1</td>\n",
       "    </tr>\n",
       "  </tbody>\n",
       "</table>\n",
       "<p>5 rows × 37 columns</p>\n",
       "</div>"
      ],
      "text/plain": [
       "                   csp_perphy  no_par_crypte  date_gest   date_dmd  WE12c  \\\n",
       "no_cnt_crypte                                                               \n",
       "1                  INGENIEURS          11241 2017-07-01 2017-01-01      0   \n",
       "2              CADRES ADM MOY           9492 2017-05-01 2017-01-01      0   \n",
       "3                      CADRES           8701 2017-07-01 2017-01-01      0   \n",
       "11                   EMPLOYES          10913 2017-02-01 2017-01-01      0   \n",
       "15                     CADRES           5269 2017-04-01 2017-01-01      0   \n",
       "\n",
       "                 mt_finance  appo_cptt_cnt  nb_imp_an_0  nb_imp_tot  age_indv  \\\n",
       "no_cnt_crypte                                                                   \n",
       "1              1.140076e+06           0.00            0           0        56   \n",
       "2              8.881260e+05           0.00            1           1        50   \n",
       "3              1.799952e+06          46.43            0           0        51   \n",
       "11             1.000360e+06          49.23            0           0        51   \n",
       "15             1.373776e+06           0.00            0           0        48   \n",
       "\n",
       "               ...  MT_ECH  diag_cli_rnva  cpt_pai2_             secteur_  \\\n",
       "no_cnt_crypte  ...                                                          \n",
       "1              ...   23693          Moyen      Moyen       Biens de conso   \n",
       "2              ...   12747   Rédhibitoire    Mauvais               Autres   \n",
       "3              ...   50000          Moyen      Moyen             Services   \n",
       "11             ...   25484        Inconnu        Bon             Services   \n",
       "15             ...   21018        Inconnu        Bon   Commerce de groupe   \n",
       "\n",
       "                                    eta_civ_prtc  mod_habi_indv  \\\n",
       "no_cnt_crypte                                                     \n",
       "1                                          Marié   Propriétaire   \n",
       "2                                          Marié   Propriétaire   \n",
       "3                                          Marié   Propriétaire   \n",
       "11             Union libre, Concubinage ou Pacsé   Propriétaire   \n",
       "15                                        Séparé   Propriétaire   \n",
       "\n",
       "                              region_  no_nat_prod  cd_natl_indv  new_client  \n",
       "no_cnt_crypte                                                                 \n",
       "1                  Nouvelle Aquitaine      Leasing           CEE           0  \n",
       "2                    Région Grand Est      Leasing           CEE           0  \n",
       "3              Auvergne, Rhone, Alpes       Crédit           CEE           0  \n",
       "11                          Normandie       Crédit           CEE           1  \n",
       "15                      Ile de france      Leasing           CEE           1  \n",
       "\n",
       "[5 rows x 37 columns]"
      ]
     },
     "execution_count": 2,
     "metadata": {},
     "output_type": "execute_result"
    }
   ],
   "source": [
    "base=pd.read_excel(\"D:/Documents/FAC/M2/semestre 9/3 - Projet/Projet RCI - meth de scoring/base.xlsx\")\n",
    "base = base.set_index('no_cnt_crypte')\n",
    "base.head()"
   ]
  },
  {
   "cell_type": "markdown",
   "metadata": {},
   "source": [
    "### Transformation des variables qualitatives en quantitatives"
   ]
  },
  {
   "cell_type": "code",
   "execution_count": 3,
   "metadata": {},
   "outputs": [
    {
     "data": {
      "text/html": [
       "<div>\n",
       "<style scoped>\n",
       "    .dataframe tbody tr th:only-of-type {\n",
       "        vertical-align: middle;\n",
       "    }\n",
       "\n",
       "    .dataframe tbody tr th {\n",
       "        vertical-align: top;\n",
       "    }\n",
       "\n",
       "    .dataframe thead th {\n",
       "        text-align: right;\n",
       "    }\n",
       "</style>\n",
       "<table border=\"1\" class=\"dataframe\">\n",
       "  <thead>\n",
       "    <tr style=\"text-align: right;\">\n",
       "      <th></th>\n",
       "      <th>WE12c</th>\n",
       "      <th>mt_finance</th>\n",
       "      <th>appo_cptt_cnt</th>\n",
       "      <th>nb_imp_an_0</th>\n",
       "      <th>nb_imp_tot</th>\n",
       "      <th>age_indv</th>\n",
       "      <th>anc_emp_indv</th>\n",
       "      <th>REV_TOT</th>\n",
       "      <th>mt_charges</th>\n",
       "      <th>part_ech</th>\n",
       "      <th>...</th>\n",
       "      <th>region__DOM/TOM</th>\n",
       "      <th>region__Hauts de france</th>\n",
       "      <th>region__Ile de france</th>\n",
       "      <th>region__Normandie</th>\n",
       "      <th>region__Nouvelle Aquitaine</th>\n",
       "      <th>region__Occitanie</th>\n",
       "      <th>region__PACA</th>\n",
       "      <th>region__Pays de la Loire</th>\n",
       "      <th>no_nat_prod_Crédit</th>\n",
       "      <th>cd_natl_indv_CEE</th>\n",
       "    </tr>\n",
       "    <tr>\n",
       "      <th>no_cnt_crypte</th>\n",
       "      <th></th>\n",
       "      <th></th>\n",
       "      <th></th>\n",
       "      <th></th>\n",
       "      <th></th>\n",
       "      <th></th>\n",
       "      <th></th>\n",
       "      <th></th>\n",
       "      <th></th>\n",
       "      <th></th>\n",
       "      <th></th>\n",
       "      <th></th>\n",
       "      <th></th>\n",
       "      <th></th>\n",
       "      <th></th>\n",
       "      <th></th>\n",
       "      <th></th>\n",
       "      <th></th>\n",
       "      <th></th>\n",
       "      <th></th>\n",
       "      <th></th>\n",
       "    </tr>\n",
       "  </thead>\n",
       "  <tbody>\n",
       "    <tr>\n",
       "      <th>1</th>\n",
       "      <td>0</td>\n",
       "      <td>1.140076e+06</td>\n",
       "      <td>0.00</td>\n",
       "      <td>0</td>\n",
       "      <td>0</td>\n",
       "      <td>56</td>\n",
       "      <td>76</td>\n",
       "      <td>283100.0</td>\n",
       "      <td>0</td>\n",
       "      <td>2.078195</td>\n",
       "      <td>...</td>\n",
       "      <td>0</td>\n",
       "      <td>0</td>\n",
       "      <td>0</td>\n",
       "      <td>0</td>\n",
       "      <td>1</td>\n",
       "      <td>0</td>\n",
       "      <td>0</td>\n",
       "      <td>0</td>\n",
       "      <td>0</td>\n",
       "      <td>1</td>\n",
       "    </tr>\n",
       "    <tr>\n",
       "      <th>2</th>\n",
       "      <td>0</td>\n",
       "      <td>8.881260e+05</td>\n",
       "      <td>0.00</td>\n",
       "      <td>1</td>\n",
       "      <td>1</td>\n",
       "      <td>50</td>\n",
       "      <td>97</td>\n",
       "      <td>267387.5</td>\n",
       "      <td>0</td>\n",
       "      <td>1.435269</td>\n",
       "      <td>...</td>\n",
       "      <td>0</td>\n",
       "      <td>0</td>\n",
       "      <td>0</td>\n",
       "      <td>0</td>\n",
       "      <td>0</td>\n",
       "      <td>0</td>\n",
       "      <td>0</td>\n",
       "      <td>0</td>\n",
       "      <td>0</td>\n",
       "      <td>1</td>\n",
       "    </tr>\n",
       "    <tr>\n",
       "      <th>3</th>\n",
       "      <td>0</td>\n",
       "      <td>1.799952e+06</td>\n",
       "      <td>46.43</td>\n",
       "      <td>0</td>\n",
       "      <td>0</td>\n",
       "      <td>51</td>\n",
       "      <td>47</td>\n",
       "      <td>1660000.0</td>\n",
       "      <td>220000</td>\n",
       "      <td>1.488095</td>\n",
       "      <td>...</td>\n",
       "      <td>0</td>\n",
       "      <td>0</td>\n",
       "      <td>0</td>\n",
       "      <td>0</td>\n",
       "      <td>0</td>\n",
       "      <td>0</td>\n",
       "      <td>0</td>\n",
       "      <td>0</td>\n",
       "      <td>1</td>\n",
       "      <td>1</td>\n",
       "    </tr>\n",
       "    <tr>\n",
       "      <th>11</th>\n",
       "      <td>0</td>\n",
       "      <td>1.000360e+06</td>\n",
       "      <td>49.23</td>\n",
       "      <td>0</td>\n",
       "      <td>0</td>\n",
       "      <td>51</td>\n",
       "      <td>343</td>\n",
       "      <td>352700.0</td>\n",
       "      <td>65900</td>\n",
       "      <td>1.293357</td>\n",
       "      <td>...</td>\n",
       "      <td>0</td>\n",
       "      <td>0</td>\n",
       "      <td>0</td>\n",
       "      <td>1</td>\n",
       "      <td>0</td>\n",
       "      <td>0</td>\n",
       "      <td>0</td>\n",
       "      <td>0</td>\n",
       "      <td>1</td>\n",
       "      <td>1</td>\n",
       "    </tr>\n",
       "    <tr>\n",
       "      <th>15</th>\n",
       "      <td>0</td>\n",
       "      <td>1.373776e+06</td>\n",
       "      <td>0.00</td>\n",
       "      <td>0</td>\n",
       "      <td>0</td>\n",
       "      <td>48</td>\n",
       "      <td>211</td>\n",
       "      <td>300000.0</td>\n",
       "      <td>0</td>\n",
       "      <td>1.529944</td>\n",
       "      <td>...</td>\n",
       "      <td>0</td>\n",
       "      <td>0</td>\n",
       "      <td>1</td>\n",
       "      <td>0</td>\n",
       "      <td>0</td>\n",
       "      <td>0</td>\n",
       "      <td>0</td>\n",
       "      <td>0</td>\n",
       "      <td>0</td>\n",
       "      <td>1</td>\n",
       "    </tr>\n",
       "  </tbody>\n",
       "</table>\n",
       "<p>5 rows × 60 columns</p>\n",
       "</div>"
      ],
      "text/plain": [
       "               WE12c    mt_finance  appo_cptt_cnt  nb_imp_an_0  nb_imp_tot  \\\n",
       "no_cnt_crypte                                                                \n",
       "1                  0  1.140076e+06           0.00            0           0   \n",
       "2                  0  8.881260e+05           0.00            1           1   \n",
       "3                  0  1.799952e+06          46.43            0           0   \n",
       "11                 0  1.000360e+06          49.23            0           0   \n",
       "15                 0  1.373776e+06           0.00            0           0   \n",
       "\n",
       "               age_indv  anc_emp_indv    REV_TOT  mt_charges  part_ech  ...  \\\n",
       "no_cnt_crypte                                                           ...   \n",
       "1                    56            76   283100.0           0  2.078195  ...   \n",
       "2                    50            97   267387.5           0  1.435269  ...   \n",
       "3                    51            47  1660000.0      220000  1.488095  ...   \n",
       "11                   51           343   352700.0       65900  1.293357  ...   \n",
       "15                   48           211   300000.0           0  1.529944  ...   \n",
       "\n",
       "               region__DOM/TOM  region__Hauts de france  \\\n",
       "no_cnt_crypte                                             \n",
       "1                            0                        0   \n",
       "2                            0                        0   \n",
       "3                            0                        0   \n",
       "11                           0                        0   \n",
       "15                           0                        0   \n",
       "\n",
       "               region__Ile de france  region__Normandie  \\\n",
       "no_cnt_crypte                                             \n",
       "1                                  0                  0   \n",
       "2                                  0                  0   \n",
       "3                                  0                  0   \n",
       "11                                 0                  1   \n",
       "15                                 1                  0   \n",
       "\n",
       "               region__Nouvelle Aquitaine  region__Occitanie  region__PACA  \\\n",
       "no_cnt_crypte                                                                \n",
       "1                                       1                  0             0   \n",
       "2                                       0                  0             0   \n",
       "3                                       0                  0             0   \n",
       "11                                      0                  0             0   \n",
       "15                                      0                  0             0   \n",
       "\n",
       "               region__Pays de la Loire  no_nat_prod_Crédit  cd_natl_indv_CEE  \n",
       "no_cnt_crypte                                                                  \n",
       "1                                     0                   0                 1  \n",
       "2                                     0                   0                 1  \n",
       "3                                     0                   1                 1  \n",
       "11                                    0                   1                 1  \n",
       "15                                    0                   0                 1  \n",
       "\n",
       "[5 rows x 60 columns]"
      ]
     },
     "execution_count": 3,
     "metadata": {},
     "output_type": "execute_result"
    }
   ],
   "source": [
    "#pour les variables qualitatives ordinales\n",
    "code_diag = {'Rédhibitoire': 0, 'Moyen': 1, 'Inconnu': 2,  'Bon': 3}\n",
    "code_cpt = {'Très mauvais': 0, 'Mauvais':1, 'Moyen': 2, 'Bon': 3} \n",
    "code_newcl = {'0': 0, '1': 1}\n",
    "base['diag_cli_rnva'] = base['diag_cli_rnva'].apply(lambda c: code_diag.get(c))\n",
    "base['cpt_pai2_'] = base['cpt_pai2_'].apply(lambda c: code_cpt.get(c))\n",
    "base['new_client'] = base['new_client'].apply(lambda c: code_newcl.get(c))\n",
    "\n",
    "#suppression des variables redondantes ou inutiles\n",
    "del base['no_par_crypte']  \n",
    "del base['date_gest']\n",
    "del base['date_dmd']\n",
    "del base['csp_perphy']\n",
    "del base['DEPMT_HABI_INDV']\n",
    "\n",
    "#pour les autres variables qualitatives\n",
    "#il faut créer des variables binaires.\n",
    "base = pd.get_dummies(base)\n",
    "del base['secteur__Autres']\n",
    "del base['eta_civ_prtc_Veuf']\n",
    "del base['mod_habi_indv_Propriétaire']\n",
    "del base['region__Région Grand Est']\n",
    "del base['no_nat_prod_Leasing']\n",
    "del base['cd_natl_indv_Hors CEE']\n",
    "\n",
    "base.head()"
   ]
  },
  {
   "cell_type": "markdown",
   "metadata": {},
   "source": [
    "### Normalisation des données"
   ]
  },
  {
   "cell_type": "code",
   "execution_count": 4,
   "metadata": {
    "scrolled": true
   },
   "outputs": [],
   "source": [
    "base1=(base-base.mean())/base.std()\n",
    "del base1['WE12c']\n",
    "\n",
    "# attention on garde les vraies valeurs de la variable de réponse\n",
    "Y=base['WE12c']"
   ]
  },
  {
   "cell_type": "markdown",
   "metadata": {},
   "source": [
    "### Under-sampling"
   ]
  },
  {
   "cell_type": "code",
   "execution_count": 5,
   "metadata": {},
   "outputs": [
    {
     "data": {
      "image/png": "[encoded data removed]",
      "text/plain": [
       "<Figure size 1080x432 with 2 Axes>"
      ]
     },
     "metadata": {
      "needs_background": "light"
     },
     "output_type": "display_data"
    }
   ],
   "source": [
    "#on a un évenment rare et en plus le nombre d'observations va être un problème pour réaliser des méthodes de Machine Learning\n",
    "#on va donc réaliser de l'under-sampling\n",
    "rUs = RandomUnderSampler(sampling_strategy=0.5)\n",
    "X_ru, y_ru = rUs.fit_resample(base1, Y)\n",
    "\n",
    "\n",
    "# préparer les données aux graphiques\n",
    "count=Counter(y_ru).most_common()\n",
    "graph=[count[0][1], count[1][1]]\n",
    "colors=['navajowhite', 'darkorange']\n",
    "labels=[\"0\",\"1\"]\n",
    "\n",
    "# séparation de la fenêtre\n",
    "fig, (ax1, ax2) = plt.subplots(1,2, figsize=(15,6))\n",
    "\n",
    "# histogramme\n",
    "ax1.bar(labels, graph,  color=colors)\n",
    "ax1.set_title('Distribution après sous-échantillonnage aléatoire')\n",
    "\n",
    "# diagramme\n",
    "ax2.pie(graph,labels=labels, autopct='%1.f%%', colors=colors)\n",
    "ax2.set_title('Pourcentages après sous-échantillonnage aléatoire')\n",
    "\n",
    "plt.show()"
   ]
  },
  {
   "cell_type": "markdown",
   "metadata": {},
   "source": [
    "### Création d'échantillons "
   ]
  },
  {
   "cell_type": "code",
   "execution_count": 6,
   "metadata": {},
   "outputs": [],
   "source": [
    "X_train, X_test, y_train, y_test = train_test_split(X_ru, y_ru, test_size=0.25, stratify=y_ru, random_state=1)"
   ]
  },
  {
   "cell_type": "markdown",
   "metadata": {},
   "source": [
    "# "
   ]
  },
  {
   "cell_type": "markdown",
   "metadata": {},
   "source": [
    "### SVM"
   ]
  },
  {
   "cell_type": "code",
   "execution_count": 7,
   "metadata": {},
   "outputs": [
    {
     "name": "stdout",
     "output_type": "stream",
     "text": [
      "Les paramètres optimaux sont {'gamma': 0.01, 'C': 0.98} \n"
     ]
    }
   ],
   "source": [
    "# fixons tout d'abord les hyper-paramètres c et gamma\n",
    "\n",
    "#nous allons réaliser une CV aléatoire, étant donné le temps nous allons reduire la taille de train, qui est pour\n",
    "#l'instant de plus de 16000. \n",
    "\n",
    "X_train2, X_reste, y_train2, y_reste= train_test_split(X_train, y_train, test_size=0.9)\n",
    "\n",
    "hyperparameters = {\n",
    "    \"C\" : np.arange(0.01,1,0.01),\n",
    "    \"gamma\" : np.arange(0.01,1,0.01)\n",
    "}\n",
    "\n",
    "SVM = SVC(kernel='rbf')\n",
    "SVM_hyp = RandomizedSearchCV(SVM, hyperparameters, cv=5, n_iter=20,random_state=4).fit(X_train2,y_train2)\n",
    "\n",
    "\n",
    "# afficher les paramètres optimaux\n",
    "print(\"Les paramètres optimaux sont {} \".format(SVM_hyp.best_params_))"
   ]
  },
  {
   "cell_type": "code",
   "execution_count": 8,
   "metadata": {
    "scrolled": true
   },
   "outputs": [
    {
     "data": {
      "image/png": "[encoded data removed]",
      "text/plain": [
       "<Figure size 432x288 with 1 Axes>"
      ]
     },
     "metadata": {
      "needs_background": "light"
     },
     "output_type": "display_data"
    }
   ],
   "source": [
    "#nous pouvons reprendre les échantillons complets, et les hyperparamètres trouvés.\n",
    "SVM_f=SVC(kernel='rbf', C =0.98, gamma=0.01, probability=True).fit(X_train, y_train)\n",
    "\n",
    "plot_roc_curve(SVM_f, X_test, y_test) \n",
    "plt.title(\"SVM - Courbe ROC sur l'échantillon test\")\n",
    "plt.show()\n",
    "\n",
    "#on garde cette ROC la car elle est basée sur les paires concordantes/ discordantes et liées comme la logistique"
   ]
  },
  {
   "cell_type": "code",
   "execution_count": 9,
   "metadata": {},
   "outputs": [
    {
     "name": "stdout",
     "output_type": "stream",
     "text": [
      "SVM: L'indice de Gini est de: 0.5471\n"
     ]
    }
   ],
   "source": [
    "y_probs_svm = SVM_f.predict_proba(X_test)[:,1]\n",
    "\n",
    "fp_rate, tp_rate, thresholds = roc_curve(y_test, y_probs_svm)\n",
    "gini_svm=2*auc(fp_rate, tp_rate)-1\n",
    "\n",
    "print(\"SVM: L'indice de Gini est de: {:.4f}\".format(gini_svm))"
   ]
  },
  {
   "cell_type": "code",
   "execution_count": 35,
   "metadata": {},
   "outputs": [],
   "source": [
    "# à cause du sous-échantillonage il faut trouver la bonne matrice de confusion\n",
    "\n",
    "#on trouve pi_0 et pi_1 les vraies probabilités de défaut\n",
    "count_vrai=Counter(Y).most_common()\n",
    "sum_vrai=count_vrai[0][1]+ count_vrai[1][1]\n",
    "pi_0=count_vrai[0][1]/sum_vrai\n",
    "pi_1=1-pi_0"
   ]
  },
  {
   "cell_type": "code",
   "execution_count": 49,
   "metadata": {},
   "outputs": [
    {
     "name": "stdout",
     "output_type": "stream",
     "text": [
      "cutoff: 0.1\n",
      "[[0.0237581  0.9762419 ]\n",
      " [0.00239923 0.99760077]]\n",
      "cutoff: 0.2\n",
      "[[0.51979842 0.48020158]\n",
      " [0.15642994 0.84357006]]\n",
      "cutoff: 0.30000000000000004\n",
      "[[0.7612191  0.2387809 ]\n",
      " [0.35172745 0.64827255]]\n",
      "cutoff: 0.4\n",
      "[[0.8387329  0.1612671 ]\n",
      " [0.46161228 0.53838772]]\n",
      "cutoff: 0.5\n",
      "[[0.89224862 0.10775138]\n",
      " [0.56333973 0.43666027]]\n",
      "cutoff: 0.6\n",
      "[[0.92632589 0.07367411]\n",
      " [0.6621881  0.3378119 ]]\n",
      "cutoff: 0.7000000000000001\n",
      "[[0.96016319 0.03983681]\n",
      " [0.75767754 0.24232246]]\n",
      "cutoff: 0.8\n",
      "[[0.98344132 0.01655868]\n",
      " [0.88291747 0.11708253]]\n",
      "cutoff: 0.9\n",
      "[[0.99856012 0.00143988]\n",
      " [0.98176583 0.01823417]]\n"
     ]
    }
   ],
   "source": [
    "# on doit fixer le cut-off\n",
    "I_cutoff = np.arange(0.1,1,0.1)\n",
    "for cutoff in I_cutoff:\n",
    "    print(\"cutoff: \" + str(cutoff))\n",
    "    y_pred_svm=(y_probs_svm>cutoff)\n",
    "    cm = confusion_matrix(y_test, y_pred_svm, normalize='true') \n",
    "    #ajustement lié au sous-échantillonage\n",
    "    cm[0]=cm[0]*pi_0 \n",
    "    cm[1]=cm[1]*pi_1\n",
    "    #pour avoir des pourcentages par ligne\n",
    "    cm[0][0]=cm[0][0]/(cm[0][0]+cm[0][1])\n",
    "    cm[0][1]=1-cm[0][0]\n",
    "    cm[1][0]=cm[1][0]/(cm[1][0]+cm[1][1])\n",
    "    cm[1][1]=1-cm[1][0]\n",
    "    print (cm)"
   ]
  },
  {
   "cell_type": "code",
   "execution_count": 51,
   "metadata": {},
   "outputs": [
    {
     "data": {
      "image/png": "[encoded data removed]",
      "text/plain": [
       "<Figure size 432x288 with 2 Axes>"
      ]
     },
     "metadata": {
      "needs_background": "light"
     },
     "output_type": "display_data"
    }
   ],
   "source": [
    "# on veut minimiser l'erreur \n",
    "# on fixe donc le cutoff à 0.3\n",
    "y_pred_svm=(y_probs_svm>0.3)\n",
    "\n",
    "#la matrice de confusion avant transformation\n",
    "cm = confusion_matrix(y_test, y_pred_svm, normalize='true')\n",
    "\n",
    "#ajustement lié au sous-échantillonage\n",
    "cm[0]=cm[0]*pi_0 \n",
    "cm[1]=cm[1]*pi_1\n",
    "\n",
    "#pour avoir des pourcentages par ligne\n",
    "cm[0][0]=cm[0][0]/(cm[0][0]+cm[0][1])\n",
    "cm[0][1]=1-cm[0][0]\n",
    "cm[1][0]=cm[1][0]/(cm[1][0]+cm[1][1])\n",
    "cm[1][1]=1-cm[1][0]\n",
    "\n",
    "f = sns.heatmap(cm, annot=True, cmap=plt.cm.Oranges)\n",
    "plt.title(\"SVM: matrice de confusion\")\n",
    "plt.show()"
   ]
  },
  {
   "cell_type": "markdown",
   "metadata": {},
   "source": [
    "#  "
   ]
  },
  {
   "cell_type": "markdown",
   "metadata": {},
   "source": [
    "### RandomForest "
   ]
  },
  {
   "cell_type": "code",
   "execution_count": 38,
   "metadata": {},
   "outputs": [
    {
     "data": {
      "image/png": "[encoded data removed]",
      "text/plain": [
       "<Figure size 432x288 with 1 Axes>"
      ]
     },
     "metadata": {
      "needs_background": "light"
     },
     "output_type": "display_data"
    }
   ],
   "source": [
    "Rf = RandomForestClassifier(criterion=\"gini\", n_estimators=1000, max_features=\"sqrt\").fit(X_train, y_train)\n",
    "\n",
    "plot_roc_curve(Rf, X_test, y_test) \n",
    "plt.title(\"RandomForest - Courbe ROC sur l'échantillon test\")\n",
    "plt.show()\n",
    "\n",
    "#on garde cette ROC la car elle est basée sur les paires concordantes/ discordantes et liées comme la logistique"
   ]
  },
  {
   "cell_type": "code",
   "execution_count": 39,
   "metadata": {},
   "outputs": [
    {
     "name": "stdout",
     "output_type": "stream",
     "text": [
      "RandomForest: L'indice de Gini est de: 0.5818\n"
     ]
    }
   ],
   "source": [
    "y_probs_Rf = Rf.predict_proba(X_test)[:,1]\n",
    "\n",
    "fp_rate, tp_rate, thresholds = roc_curve(y_test, y_probs_Rf)\n",
    "gini_Rf=2*auc(fp_rate, tp_rate)-1\n",
    "\n",
    "print(\"RandomForest: L'indice de Gini est de: {:.4f}\".format(gini_Rf))"
   ]
  },
  {
   "cell_type": "code",
   "execution_count": 52,
   "metadata": {
    "scrolled": true
   },
   "outputs": [
    {
     "name": "stdout",
     "output_type": "stream",
     "text": [
      "cutoff: 0.1\n",
      "[[0.19030478 0.80969522]\n",
      " [0.02543186 0.97456814]]\n",
      "cutoff: 0.2\n",
      "[[0.4550036  0.5449964 ]\n",
      " [0.10460653 0.89539347]]\n",
      "cutoff: 0.30000000000000004\n",
      "[[0.65586753 0.34413247]\n",
      " [0.22072937 0.77927063]]\n",
      "cutoff: 0.4\n",
      "[[0.79313655 0.20686345]\n",
      " [0.35988484 0.64011516]]\n",
      "cutoff: 0.5\n",
      "[[0.88360931 0.11639069]\n",
      " [0.5206334  0.4793666 ]]\n",
      "cutoff: 0.6\n",
      "[[0.94384449 0.05615551]\n",
      " [0.6828215  0.3171785 ]]\n",
      "cutoff: 0.7000000000000001\n",
      "[[0.98152148 0.01847852]\n",
      " [0.85268714 0.14731286]]\n",
      "cutoff: 0.8\n",
      "[[0.99640029 0.00359971]\n",
      " [0.95825336 0.04174664]]\n",
      "cutoff: 0.9\n",
      "[[1.         0.        ]\n",
      " [0.99424184 0.00575816]]\n"
     ]
    }
   ],
   "source": [
    "# on a les vraies probabilités\n",
    "# on doit fixer le cut-off\n",
    "I_cutoff = np.arange(0.1,1,0.1)\n",
    "for cutoff in I_cutoff:\n",
    "    print(\"cutoff: \" + str(cutoff))\n",
    "    y_pred_Rf=(y_probs_Rf>cutoff)\n",
    "    cm = confusion_matrix(y_test, y_pred_Rf, normalize='true') \n",
    "    #ajustement lié au sous-échantillonage\n",
    "    cm[0]=cm[0]*pi_0 \n",
    "    cm[1]=cm[1]*pi_1\n",
    "    #pour avoir des pourcentages par ligne\n",
    "    cm[0][0]=cm[0][0]/(cm[0][0]+cm[0][1])\n",
    "    cm[0][1]=1-cm[0][0]\n",
    "    cm[1][0]=cm[1][0]/(cm[1][0]+cm[1][1])\n",
    "    cm[1][1]=1-cm[1][0]\n",
    "    print (cm)"
   ]
  },
  {
   "cell_type": "code",
   "execution_count": 53,
   "metadata": {},
   "outputs": [
    {
     "data": {
      "image/png": "[encoded data removed]",
      "text/plain": [
       "<Figure size 432x288 with 2 Axes>"
      ]
     },
     "metadata": {
      "needs_background": "light"
     },
     "output_type": "display_data"
    }
   ],
   "source": [
    "# on veut minimiser l'erreur donc on fixe donc le cutoff à 0.3\n",
    "y_pred_Rf=(y_probs_Rf>0.3)\n",
    "\n",
    "#la matrice de confusion avant transformation\n",
    "cm = confusion_matrix(y_test, y_pred_Rf, normalize='true')\n",
    "\n",
    "#ajustement lié au sous-échantillonage\n",
    "cm[0]=cm[0]*pi_0 \n",
    "cm[1]=cm[1]*pi_1\n",
    "\n",
    "#pour avoir des pourcentages par ligne\n",
    "cm[0][0]=cm[0][0]/(cm[0][0]+cm[0][1])\n",
    "cm[0][1]=1-cm[0][0]\n",
    "cm[1][0]=cm[1][0]/(cm[1][0]+cm[1][1])\n",
    "cm[1][1]=1-cm[1][0]\n",
    "\n",
    "f = sns.heatmap(cm, annot=True, cmap=plt.cm.Oranges)\n",
    "plt.title(\"RandomForest: matrice de confusion\")\n",
    "plt.show()"
   ]
  }
 ],
 "metadata": {
  "kernelspec": {
   "display_name": "Python 3",
   "language": "python",
   "name": "python3"
  },
  "language_info": {
   "codemirror_mode": {
    "name": "ipython",
    "version": 3
   },
   "file_extension": ".py",
   "mimetype": "text/x-python",
   "name": "python",
   "nbconvert_exporter": "python",
   "pygments_lexer": "ipython3",
   "version": "3.8.5"
  }
 },
 "nbformat": 4,
 "nbformat_minor": 4
}
