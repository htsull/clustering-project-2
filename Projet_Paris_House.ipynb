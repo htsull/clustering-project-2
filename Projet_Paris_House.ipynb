{
 "cells": [
  {
   "cell_type": "code",
   "execution_count": 34,
   "metadata": {},
   "outputs": [],
   "source": [
    "import pandas as pd \n",
    "import numpy as np \n",
    "import seaborn as sns\n",
    "import matplotlib.pyplot as plt\n",
    "%matplotlib inline\n",
    "import warnings "
   ]
  },
  {
   "cell_type": "code",
   "execution_count": 6,
   "metadata": {},
   "outputs": [],
   "source": [
    "pd.set_option(\"max_rows\", 10) # max de ligne imprimer \n",
    "pd.set_option(\"max_columns\",10) # nombre de ligne à afficher \n",
    "pd.set_option(\"precision\", 5) # nombre de chiffre significatif des valeurs apres la virgule\n",
    "pd.set_option(\"colheader_justify\", \"center\")# pour centrer les variables "
   ]
  },
  {
   "cell_type": "code",
   "execution_count": 4,
   "metadata": {},
   "outputs": [],
   "source": [
    "filepath_or_buffer = \"ParisHousing.csv\"\n",
    "\n",
    "table = pd.read_csv(filepath_or_buffer, sep=',', delimiter=None, header='infer',\n",
    "names=None, index_col=None, usecols=None)"
   ]
  },
  {
   "cell_type": "code",
   "execution_count": 7,
   "metadata": {},
   "outputs": [
    {
     "data": {
      "text/html": [
       "<div>\n",
       "<style scoped>\n",
       "    .dataframe tbody tr th:only-of-type {\n",
       "        vertical-align: middle;\n",
       "    }\n",
       "\n",
       "    .dataframe tbody tr th {\n",
       "        vertical-align: top;\n",
       "    }\n",
       "\n",
       "    .dataframe thead th {\n",
       "        text-align: right;\n",
       "    }\n",
       "</style>\n",
       "<table border=\"1\" class=\"dataframe\">\n",
       "  <thead>\n",
       "    <tr style=\"text-align: center;\">\n",
       "      <th></th>\n",
       "      <th>Unnamed: 0</th>\n",
       "      <th>squareMeters</th>\n",
       "      <th>numberOfRooms</th>\n",
       "      <th>floors</th>\n",
       "      <th>cityCode</th>\n",
       "      <th>...</th>\n",
       "      <th>hasStorageRoom</th>\n",
       "      <th>hasGuestRoom</th>\n",
       "      <th>price</th>\n",
       "      <th>category</th>\n",
       "      <th>PoolAndYard</th>\n",
       "    </tr>\n",
       "  </thead>\n",
       "  <tbody>\n",
       "    <tr>\n",
       "      <th>0</th>\n",
       "      <td>0</td>\n",
       "      <td>75523</td>\n",
       "      <td>three</td>\n",
       "      <td>63</td>\n",
       "      <td>9373</td>\n",
       "      <td>...</td>\n",
       "      <td>False</td>\n",
       "      <td>7</td>\n",
       "      <td>7559081.5</td>\n",
       "      <td>Basic</td>\n",
       "      <td>has pool and no yard</td>\n",
       "    </tr>\n",
       "    <tr>\n",
       "      <th>1</th>\n",
       "      <td>1</td>\n",
       "      <td>80771</td>\n",
       "      <td>thirty-nine</td>\n",
       "      <td>98</td>\n",
       "      <td>39381</td>\n",
       "      <td>...</td>\n",
       "      <td>True</td>\n",
       "      <td>2</td>\n",
       "      <td>8085989.5</td>\n",
       "      <td>Luxury</td>\n",
       "      <td>has pool and has yard</td>\n",
       "    </tr>\n",
       "    <tr>\n",
       "      <th>2</th>\n",
       "      <td>2</td>\n",
       "      <td>55712</td>\n",
       "      <td>fifty-eight</td>\n",
       "      <td>19</td>\n",
       "      <td>34457</td>\n",
       "      <td>...</td>\n",
       "      <td>True</td>\n",
       "      <td>9</td>\n",
       "      <td>5574642.1</td>\n",
       "      <td>Basic</td>\n",
       "      <td>has pool and no yard</td>\n",
       "    </tr>\n",
       "    <tr>\n",
       "      <th>3</th>\n",
       "      <td>3</td>\n",
       "      <td>32316</td>\n",
       "      <td>forty-seven</td>\n",
       "      <td>6</td>\n",
       "      <td>27939</td>\n",
       "      <td>...</td>\n",
       "      <td>False</td>\n",
       "      <td>3</td>\n",
       "      <td>3232561.2</td>\n",
       "      <td>Basic</td>\n",
       "      <td>no pool and no yard</td>\n",
       "    </tr>\n",
       "    <tr>\n",
       "      <th>4</th>\n",
       "      <td>4</td>\n",
       "      <td>70429</td>\n",
       "      <td>nineteen</td>\n",
       "      <td>90</td>\n",
       "      <td>38045</td>\n",
       "      <td>...</td>\n",
       "      <td>True</td>\n",
       "      <td>4</td>\n",
       "      <td>7055052.0</td>\n",
       "      <td>Luxury</td>\n",
       "      <td>has pool and has yard</td>\n",
       "    </tr>\n",
       "    <tr>\n",
       "      <th>5</th>\n",
       "      <td>5</td>\n",
       "      <td>39223</td>\n",
       "      <td>thirty-six</td>\n",
       "      <td>17</td>\n",
       "      <td>39489</td>\n",
       "      <td>...</td>\n",
       "      <td>False</td>\n",
       "      <td>1</td>\n",
       "      <td>3926647.2</td>\n",
       "      <td>Basic</td>\n",
       "      <td>has pool and no yard</td>\n",
       "    </tr>\n",
       "    <tr>\n",
       "      <th>6</th>\n",
       "      <td>6</td>\n",
       "      <td>58682</td>\n",
       "      <td>ten</td>\n",
       "      <td>99</td>\n",
       "      <td>6450</td>\n",
       "      <td>...</td>\n",
       "      <td>False</td>\n",
       "      <td>5</td>\n",
       "      <td>5876376.5</td>\n",
       "      <td>Luxury</td>\n",
       "      <td>has pool and has yard</td>\n",
       "    </tr>\n",
       "    <tr>\n",
       "      <th>7</th>\n",
       "      <td>7</td>\n",
       "      <td>86929</td>\n",
       "      <td>one hundred</td>\n",
       "      <td>11</td>\n",
       "      <td>98155</td>\n",
       "      <td>...</td>\n",
       "      <td>False</td>\n",
       "      <td>10</td>\n",
       "      <td>8696869.3</td>\n",
       "      <td>Basic</td>\n",
       "      <td>no pool and has yard</td>\n",
       "    </tr>\n",
       "    <tr>\n",
       "      <th>8</th>\n",
       "      <td>8</td>\n",
       "      <td>51522</td>\n",
       "      <td>three</td>\n",
       "      <td>61</td>\n",
       "      <td>9047</td>\n",
       "      <td>...</td>\n",
       "      <td>True</td>\n",
       "      <td>5</td>\n",
       "      <td>5154055.2</td>\n",
       "      <td>Basic</td>\n",
       "      <td>no pool and no yard</td>\n",
       "    </tr>\n",
       "    <tr>\n",
       "      <th>9</th>\n",
       "      <td>9</td>\n",
       "      <td>39686</td>\n",
       "      <td>forty-two</td>\n",
       "      <td>15</td>\n",
       "      <td>71019</td>\n",
       "      <td>...</td>\n",
       "      <td>True</td>\n",
       "      <td>3</td>\n",
       "      <td>3970892.1</td>\n",
       "      <td>Basic</td>\n",
       "      <td>no pool and no yard</td>\n",
       "    </tr>\n",
       "  </tbody>\n",
       "</table>\n",
       "<p>10 rows × 18 columns</p>\n",
       "</div>"
      ],
      "text/plain": [
       "   Unnamed: 0  squareMeters numberOfRooms  floors  cityCode  ...  \\\n",
       "0       0          75523            three    63       9373   ...   \n",
       "1       1          80771      thirty-nine    98      39381   ...   \n",
       "2       2          55712      fifty-eight    19      34457   ...   \n",
       "3       3          32316      forty-seven     6      27939   ...   \n",
       "4       4          70429         nineteen    90      38045   ...   \n",
       "5       5          39223       thirty-six    17      39489   ...   \n",
       "6       6          58682              ten    99       6450   ...   \n",
       "7       7          86929      one hundred    11      98155   ...   \n",
       "8       8          51522            three    61       9047   ...   \n",
       "9       9          39686        forty-two    15      71019   ...   \n",
       "\n",
       "   hasStorageRoom  hasGuestRoom    price    category       PoolAndYard       \n",
       "0       False            7       7559081.5    Basic    has pool and no yard  \n",
       "1        True            2       8085989.5   Luxury   has pool and has yard  \n",
       "2        True            9       5574642.1    Basic    has pool and no yard  \n",
       "3       False            3       3232561.2    Basic     no pool and no yard  \n",
       "4        True            4       7055052.0   Luxury   has pool and has yard  \n",
       "5       False            1       3926647.2    Basic    has pool and no yard  \n",
       "6       False            5       5876376.5   Luxury   has pool and has yard  \n",
       "7       False           10       8696869.3    Basic    no pool and has yard  \n",
       "8        True            5       5154055.2    Basic     no pool and no yard  \n",
       "9        True            3       3970892.1    Basic     no pool and no yard  \n",
       "\n",
       "[10 rows x 18 columns]"
      ]
     },
     "execution_count": 7,
     "metadata": {},
     "output_type": "execute_result"
    }
   ],
   "source": [
    "table.head(10)"
   ]
  },
  {
   "cell_type": "code",
   "execution_count": 8,
   "metadata": {},
   "outputs": [
    {
     "data": {
      "text/plain": [
       "2"
      ]
     },
     "execution_count": 8,
     "metadata": {},
     "output_type": "execute_result"
    }
   ],
   "source": [
    "table.ndim # permet de savoir si on a une dataframe ou une serie si =1 serie , =2 dataframe "
   ]
  },
  {
   "cell_type": "code",
   "execution_count": 9,
   "metadata": {},
   "outputs": [
    {
     "name": "stdout",
     "output_type": "stream",
     "text": [
      "les dimensions de notre dataframe sont de : (10000, 18)\n"
     ]
    }
   ],
   "source": [
    "print(\"les dimensions de notre dataframe sont de :\", table.shape)"
   ]
  },
  {
   "cell_type": "code",
   "execution_count": 10,
   "metadata": {},
   "outputs": [
    {
     "name": "stdout",
     "output_type": "stream",
     "text": [
      "<class 'pandas.core.frame.DataFrame'>\n",
      "RangeIndex: 10000 entries, 0 to 9999\n",
      "Data columns (total 18 columns):\n",
      " #   Column             Non-Null Count  Dtype  \n",
      "---  ------             --------------  -----  \n",
      " 0   Unnamed: 0         10000 non-null  int64  \n",
      " 1   squareMeters       10000 non-null  int64  \n",
      " 2   numberOfRooms      10000 non-null  object \n",
      " 3   floors             10000 non-null  int64  \n",
      " 4   cityCode           10000 non-null  int64  \n",
      " 5   cityPartRange      10000 non-null  int64  \n",
      " 6   numPrevOwners      10000 non-null  int64  \n",
      " 7   made               10000 non-null  int64  \n",
      " 8   isNewBuilt         10000 non-null  bool   \n",
      " 9   hasStormProtector  10000 non-null  bool   \n",
      " 10  basement           10000 non-null  int64  \n",
      " 11  attic              10000 non-null  int64  \n",
      " 12  garage             10000 non-null  int64  \n",
      " 13  hasStorageRoom     10000 non-null  bool   \n",
      " 14  hasGuestRoom       10000 non-null  int64  \n",
      " 15  price              10000 non-null  float64\n",
      " 16  category           10000 non-null  object \n",
      " 17  PoolAndYard        10000 non-null  object \n",
      "dtypes: bool(3), float64(1), int64(11), object(3)\n",
      "memory usage: 1.2+ MB\n"
     ]
    }
   ],
   "source": [
    "table.info()"
   ]
  },
  {
   "cell_type": "code",
   "execution_count": 11,
   "metadata": {},
   "outputs": [
    {
     "data": {
      "text/plain": [
       "RangeIndex(start=0, stop=10000, step=1)"
      ]
     },
     "execution_count": 11,
     "metadata": {},
     "output_type": "execute_result"
    }
   ],
   "source": [
    "table.index"
   ]
  },
  {
   "cell_type": "code",
   "execution_count": 12,
   "metadata": {},
   "outputs": [
    {
     "data": {
      "text/plain": [
       "True"
      ]
     },
     "execution_count": 12,
     "metadata": {},
     "output_type": "execute_result"
    }
   ],
   "source": [
    "# Duplicate Label Detection¶\n",
    "table.columns.is_unique"
   ]
  },
  {
   "cell_type": "code",
   "execution_count": 13,
   "metadata": {},
   "outputs": [
    {
     "data": {
      "text/plain": [
       "True"
      ]
     },
     "execution_count": 13,
     "metadata": {},
     "output_type": "execute_result"
    }
   ],
   "source": [
    "table.index.is_unique"
   ]
  },
  {
   "cell_type": "code",
   "execution_count": 15,
   "metadata": {},
   "outputs": [
    {
     "data": {
      "text/html": [
       "<div>\n",
       "<style scoped>\n",
       "    .dataframe tbody tr th:only-of-type {\n",
       "        vertical-align: middle;\n",
       "    }\n",
       "\n",
       "    .dataframe tbody tr th {\n",
       "        vertical-align: top;\n",
       "    }\n",
       "\n",
       "    .dataframe thead th {\n",
       "        text-align: right;\n",
       "    }\n",
       "</style>\n",
       "<table border=\"1\" class=\"dataframe\">\n",
       "  <thead>\n",
       "    <tr style=\"text-align: center;\">\n",
       "      <th></th>\n",
       "      <th>Unnamed: 0</th>\n",
       "      <th>squareMeters</th>\n",
       "      <th>numberOfRooms</th>\n",
       "      <th>floors</th>\n",
       "      <th>cityCode</th>\n",
       "      <th>...</th>\n",
       "      <th>hasStorageRoom</th>\n",
       "      <th>hasGuestRoom</th>\n",
       "      <th>price</th>\n",
       "      <th>category</th>\n",
       "      <th>PoolAndYard</th>\n",
       "    </tr>\n",
       "  </thead>\n",
       "  <tbody>\n",
       "    <tr>\n",
       "      <th>0</th>\n",
       "      <td>0</td>\n",
       "      <td>75523</td>\n",
       "      <td>three</td>\n",
       "      <td>63</td>\n",
       "      <td>9373</td>\n",
       "      <td>...</td>\n",
       "      <td>False</td>\n",
       "      <td>7</td>\n",
       "      <td>7559081.5</td>\n",
       "      <td>Basic</td>\n",
       "      <td>has pool and no yard</td>\n",
       "    </tr>\n",
       "    <tr>\n",
       "      <th>1</th>\n",
       "      <td>1</td>\n",
       "      <td>80771</td>\n",
       "      <td>thirty-nine</td>\n",
       "      <td>98</td>\n",
       "      <td>39381</td>\n",
       "      <td>...</td>\n",
       "      <td>True</td>\n",
       "      <td>2</td>\n",
       "      <td>8085989.5</td>\n",
       "      <td>Luxury</td>\n",
       "      <td>has pool and has yard</td>\n",
       "    </tr>\n",
       "    <tr>\n",
       "      <th>2</th>\n",
       "      <td>2</td>\n",
       "      <td>55712</td>\n",
       "      <td>fifty-eight</td>\n",
       "      <td>19</td>\n",
       "      <td>34457</td>\n",
       "      <td>...</td>\n",
       "      <td>True</td>\n",
       "      <td>9</td>\n",
       "      <td>5574642.1</td>\n",
       "      <td>Basic</td>\n",
       "      <td>has pool and no yard</td>\n",
       "    </tr>\n",
       "    <tr>\n",
       "      <th>3</th>\n",
       "      <td>3</td>\n",
       "      <td>32316</td>\n",
       "      <td>forty-seven</td>\n",
       "      <td>6</td>\n",
       "      <td>27939</td>\n",
       "      <td>...</td>\n",
       "      <td>False</td>\n",
       "      <td>3</td>\n",
       "      <td>3232561.2</td>\n",
       "      <td>Basic</td>\n",
       "      <td>no pool and no yard</td>\n",
       "    </tr>\n",
       "    <tr>\n",
       "      <th>4</th>\n",
       "      <td>4</td>\n",
       "      <td>70429</td>\n",
       "      <td>nineteen</td>\n",
       "      <td>90</td>\n",
       "      <td>38045</td>\n",
       "      <td>...</td>\n",
       "      <td>True</td>\n",
       "      <td>4</td>\n",
       "      <td>7055052.0</td>\n",
       "      <td>Luxury</td>\n",
       "      <td>has pool and has yard</td>\n",
       "    </tr>\n",
       "    <tr>\n",
       "      <th>...</th>\n",
       "      <td>...</td>\n",
       "      <td>...</td>\n",
       "      <td>...</td>\n",
       "      <td>...</td>\n",
       "      <td>...</td>\n",
       "      <td>...</td>\n",
       "      <td>...</td>\n",
       "      <td>...</td>\n",
       "      <td>...</td>\n",
       "      <td>...</td>\n",
       "      <td>...</td>\n",
       "    </tr>\n",
       "    <tr>\n",
       "      <th>9995</th>\n",
       "      <td>9995</td>\n",
       "      <td>1726</td>\n",
       "      <td>eighty-nine</td>\n",
       "      <td>5</td>\n",
       "      <td>73133</td>\n",
       "      <td>...</td>\n",
       "      <td>False</td>\n",
       "      <td>4</td>\n",
       "      <td>176425.9</td>\n",
       "      <td>Basic</td>\n",
       "      <td>has pool and no yard</td>\n",
       "    </tr>\n",
       "    <tr>\n",
       "      <th>9996</th>\n",
       "      <td>9996</td>\n",
       "      <td>44403</td>\n",
       "      <td>twenty-nine</td>\n",
       "      <td>12</td>\n",
       "      <td>34606</td>\n",
       "      <td>...</td>\n",
       "      <td>False</td>\n",
       "      <td>0</td>\n",
       "      <td>4448474.0</td>\n",
       "      <td>Basic</td>\n",
       "      <td>has pool and has yard</td>\n",
       "    </tr>\n",
       "    <tr>\n",
       "      <th>9997</th>\n",
       "      <td>9997</td>\n",
       "      <td>83841</td>\n",
       "      <td>three</td>\n",
       "      <td>69</td>\n",
       "      <td>80933</td>\n",
       "      <td>...</td>\n",
       "      <td>True</td>\n",
       "      <td>9</td>\n",
       "      <td>8390030.5</td>\n",
       "      <td>Basic</td>\n",
       "      <td>no pool and no yard</td>\n",
       "    </tr>\n",
       "    <tr>\n",
       "      <th>9998</th>\n",
       "      <td>9998</td>\n",
       "      <td>59036</td>\n",
       "      <td>seventy</td>\n",
       "      <td>96</td>\n",
       "      <td>55856</td>\n",
       "      <td>...</td>\n",
       "      <td>True</td>\n",
       "      <td>4</td>\n",
       "      <td>5905107.0</td>\n",
       "      <td>Basic</td>\n",
       "      <td>no pool and no yard</td>\n",
       "    </tr>\n",
       "    <tr>\n",
       "      <th>9999</th>\n",
       "      <td>9999</td>\n",
       "      <td>1440</td>\n",
       "      <td>eighty-four</td>\n",
       "      <td>49</td>\n",
       "      <td>18412</td>\n",
       "      <td>...</td>\n",
       "      <td>True</td>\n",
       "      <td>6</td>\n",
       "      <td>146708.4</td>\n",
       "      <td>Basic</td>\n",
       "      <td>no pool and no yard</td>\n",
       "    </tr>\n",
       "  </tbody>\n",
       "</table>\n",
       "<p>10000 rows × 18 columns</p>\n",
       "</div>"
      ],
      "text/plain": [
       "      Unnamed: 0  squareMeters numberOfRooms  floors  cityCode  ...  \\\n",
       "0           0         75523            three    63       9373   ...   \n",
       "1           1         80771      thirty-nine    98      39381   ...   \n",
       "2           2         55712      fifty-eight    19      34457   ...   \n",
       "3           3         32316      forty-seven     6      27939   ...   \n",
       "4           4         70429         nineteen    90      38045   ...   \n",
       "...          ...           ...           ...     ...       ...  ...   \n",
       "9995     9995          1726      eighty-nine     5      73133   ...   \n",
       "9996     9996         44403      twenty-nine    12      34606   ...   \n",
       "9997     9997         83841            three    69      80933   ...   \n",
       "9998     9998         59036          seventy    96      55856   ...   \n",
       "9999     9999          1440      eighty-four    49      18412   ...   \n",
       "\n",
       "      hasStorageRoom  hasGuestRoom    price    category       PoolAndYard       \n",
       "0          False            7       7559081.5    Basic    has pool and no yard  \n",
       "1           True            2       8085989.5   Luxury   has pool and has yard  \n",
       "2           True            9       5574642.1    Basic    has pool and no yard  \n",
       "3          False            3       3232561.2    Basic     no pool and no yard  \n",
       "4           True            4       7055052.0   Luxury   has pool and has yard  \n",
       "...              ...           ...        ...       ...                    ...  \n",
       "9995       False            4        176425.9    Basic    has pool and no yard  \n",
       "9996       False            0       4448474.0    Basic   has pool and has yard  \n",
       "9997        True            9       8390030.5    Basic     no pool and no yard  \n",
       "9998        True            4       5905107.0    Basic     no pool and no yard  \n",
       "9999        True            6        146708.4    Basic     no pool and no yard  \n",
       "\n",
       "[10000 rows x 18 columns]"
      ]
     },
     "execution_count": 15,
     "metadata": {},
     "output_type": "execute_result"
    }
   ],
   "source": [
    "# pour supprimer les doublons s'il y en a\n",
    "table.loc[~table.index.duplicated(), :]"
   ]
  },
  {
   "cell_type": "code",
   "execution_count": 18,
   "metadata": {},
   "outputs": [],
   "source": [
    "#Commençons par les valeurs manquantes :\n",
    "\n",
    "def na(df):\n",
    "    # na_total = df.isnull().sum().sort_values(ascending = False)\n",
    "    na_pourcentage = df.isnull().sum().sort_values(ascending = False)/len(df)*100\n",
    "    return na_pourcentage"
   ]
  },
  {
   "cell_type": "code",
   "execution_count": 19,
   "metadata": {},
   "outputs": [
    {
     "data": {
      "text/plain": [
       "Unnamed: 0       0.0\n",
       "squareMeters     0.0\n",
       "category         0.0\n",
       "price            0.0\n",
       "hasGuestRoom     0.0\n",
       "                ... \n",
       "cityPartRange    0.0\n",
       "cityCode         0.0\n",
       "floors           0.0\n",
       "numberOfRooms    0.0\n",
       "PoolAndYard      0.0\n",
       "Length: 18, dtype: float64"
      ]
     },
     "execution_count": 19,
     "metadata": {},
     "output_type": "execute_result"
    }
   ],
   "source": [
    "na(table)"
   ]
  },
  {
   "cell_type": "code",
   "execution_count": 20,
   "metadata": {},
   "outputs": [
    {
     "data": {
      "text/plain": [
       "Unnamed: 0    0\n",
       "dtype: int64"
      ]
     },
     "execution_count": 20,
     "metadata": {},
     "output_type": "execute_result"
    }
   ],
   "source": [
    "table.isnull().sum().nlargest(1) #colonnes avec le plus grand nombre de données manquant"
   ]
  },
  {
   "cell_type": "markdown",
   "metadata": {},
   "source": [
    "## Valeurs Aberantes"
   ]
  },
  {
   "cell_type": "code",
   "execution_count": 37,
   "metadata": {},
   "outputs": [
    {
     "data": {
      "image/png": "[encoded data removed]",
      "text/plain": [
       "<Figure size 432x288 with 1 Axes>"
      ]
     },
     "metadata": {
      "needs_background": "light"
     },
     "output_type": "display_data"
    }
   ],
   "source": [
    "sns.boxplot(x=table['price']);\n",
    "# plt.show;"
   ]
  },
  {
   "cell_type": "code",
   "execution_count": 22,
   "metadata": {},
   "outputs": [
    {
     "data": {
      "image/png": "[encoded data removed]",
      "text/plain": [
       "<Figure size 432x288 with 1 Axes>"
      ]
     },
     "metadata": {
      "needs_background": "light"
     },
     "output_type": "display_data"
    }
   ],
   "source": [
    "#On cherche à savoir si la variable est symétrique ou pas\n",
    "sns.distplot(table['price'])\n",
    "plt.show;"
   ]
  },
  {
   "cell_type": "markdown",
   "metadata": {},
   "source": [
    "## Data Visualisation"
   ]
  },
  {
   "cell_type": "code",
   "execution_count": 23,
   "metadata": {},
   "outputs": [
    {
     "data": {
      "text/html": [
       "\n",
       "<style>\n",
       ".output_png {\n",
       "    display: table-cell;\n",
       "    text-align: center;\n",
       "    vertical-align: middle;\n",
       "}\n",
       "</style>\n"
      ],
      "text/plain": [
       "<IPython.core.display.HTML object>"
      ]
     },
     "execution_count": 23,
     "metadata": {},
     "output_type": "execute_result"
    }
   ],
   "source": [
    "### CENTRER LES GRAPHIQUES\n",
    "from IPython.core.display import HTML\n",
    "HTML(\"\"\"\n",
    "<style>\n",
    ".output_png {\n",
    "    display: table-cell;\n",
    "    text-align: center;\n",
    "    vertical-align: middle;\n",
    "}\n",
    "</style>\n",
    "\"\"\")"
   ]
  },
  {
   "cell_type": "code",
   "execution_count": 39,
   "metadata": {},
   "outputs": [
    {
     "data": {
      "image/png": "[encoded data removed]",
      "text/plain": [
       "<Figure size 432x288 with 1 Axes>"
      ]
     },
     "metadata": {},
     "output_type": "display_data"
    }
   ],
   "source": [
    "#Création d'un camembert de la variable Category pour les 2 modalités : Basic et Luxury\n",
    "plt.title(\"Camembert representant les modalités de la variable Category\", fontsize=14)\n",
    "labels =\"Basic\", \"Luxury\"\n",
    "colors = [\"#3791D7\", \"#D72626\"]\n",
    "table[\"category\"].value_counts().plot.pie(explode=[0,0.25], autopct='%1.2f%%', shadow=True, \n",
    "                                          colors=colors, labels=labels, fontsize=12, startangle=70);\n"
   ]
  },
  {
   "cell_type": "code",
   "execution_count": 40,
   "metadata": {},
   "outputs": [
    {
     "data": {
      "image/png": "[encoded data removed]",
      "text/plain": [
       "<Figure size 1152x864 with 2 Axes>"
      ]
     },
     "metadata": {
      "needs_background": "light"
     },
     "output_type": "display_data"
    }
   ],
   "source": [
    "fig = plt.figure(figsize=(16,12)) \n",
    "ax1 = fig.add_subplot(221)\n",
    "ax2 = fig.add_subplot(222)\n",
    "\n",
    "cmap = plt.cm.coolwarm_r\n",
    "\n",
    "loans_by_region = table.groupby(['hasStormProtector', 'category']).size()\n",
    "loans_by_region.unstack().plot(kind='bar', stacked=True, colormap=cmap, ax=ax1, grid=False)\n",
    "ax1.set_title('Protection contre les tempetes par categories', fontsize=14)\n",
    "\n",
    "loans_by_grade = table.groupby(['hasStorageRoom', 'category']).size()\n",
    "loans_by_grade.unstack().plot(kind='bar', stacked=True, colormap=cmap, ax=ax2, grid=False)\n",
    "ax2.set_title('Pièce de stockage par categories', fontsize=14);"
   ]
  },
  {
   "cell_type": "code",
   "execution_count": 46,
   "metadata": {},
   "outputs": [
    {
     "data": {
      "image/png": "[encoded data removed]",
      "text/plain": [
       "<Figure size 1440x720 with 2 Axes>"
      ]
     },
     "metadata": {
      "needs_background": "light"
     },
     "output_type": "display_data"
    }
   ],
   "source": [
    "from scipy.stats import norm\n",
    "\n",
    "plt.figure(figsize=(20,10))\n",
    "\n",
    "palette = ['#009393', '#930000']\n",
    "plt.subplot(221)\n",
    "ax = sns.countplot(x='PoolAndYard', data=table, \n",
    "                  palette=palette, hue='category')\n",
    "\n",
    "ax.set_title('Representation de la catégorie des maisons \\n en fonction de la variable PoolAndYard', fontsize=14)\n",
    "ax.set_xlabel('PoolAndYard', fontsize=12)\n",
    "ax.set_ylabel('Count')\n",
    "\n",
    "plt.subplot(222)\n",
    "ax1 = sns.countplot(x='category', data=table, \n",
    "                   palette=palette, hue='category')\n",
    "\n",
    "ax1.set_title('Representantion des modalités de la variable Category', fontsize=14)\n",
    "ax1.set_xlabel('Category', fontsize=12)\n",
    "ax1.set_ylabel('Count')  \n",
    "\n",
    "\n",
    "low = table['PoolAndYard'].loc[table['category'] == 'Basic'].values\n",
    "high = table['PoolAndYard'].loc[table['category'] == 'Luxury'].values\n",
    "\n"
   ]
  },
  {
   "cell_type": "markdown",
   "metadata": {},
   "source": [
    "# Statistiques descriptives"
   ]
  },
  {
   "cell_type": "code",
   "execution_count": 29,
   "metadata": {},
   "outputs": [
    {
     "data": {
      "text/html": [
       "<div>\n",
       "<style scoped>\n",
       "    .dataframe tbody tr th:only-of-type {\n",
       "        vertical-align: middle;\n",
       "    }\n",
       "\n",
       "    .dataframe tbody tr th {\n",
       "        vertical-align: top;\n",
       "    }\n",
       "\n",
       "    .dataframe thead th {\n",
       "        text-align: right;\n",
       "    }\n",
       "</style>\n",
       "<table border=\"1\" class=\"dataframe\">\n",
       "  <thead>\n",
       "    <tr style=\"text-align: center;\">\n",
       "      <th></th>\n",
       "      <th>Unnamed: 0</th>\n",
       "      <th>squareMeters</th>\n",
       "      <th>floors</th>\n",
       "      <th>cityCode</th>\n",
       "      <th>cityPartRange</th>\n",
       "      <th>...</th>\n",
       "      <th>basement</th>\n",
       "      <th>attic</th>\n",
       "      <th>garage</th>\n",
       "      <th>hasGuestRoom</th>\n",
       "      <th>price</th>\n",
       "    </tr>\n",
       "  </thead>\n",
       "  <tbody>\n",
       "    <tr>\n",
       "      <th>count</th>\n",
       "      <td>10000.00000</td>\n",
       "      <td>10000.00000</td>\n",
       "      <td>10000.00000</td>\n",
       "      <td>10000.0000</td>\n",
       "      <td>10000.00000</td>\n",
       "      <td>...</td>\n",
       "      <td>10000.00000</td>\n",
       "      <td>10000.00000</td>\n",
       "      <td>10000.00000</td>\n",
       "      <td>10000.00000</td>\n",
       "      <td>1.00000e+04</td>\n",
       "    </tr>\n",
       "    <tr>\n",
       "      <th>mean</th>\n",
       "      <td>4999.50000</td>\n",
       "      <td>49870.13120</td>\n",
       "      <td>50.27630</td>\n",
       "      <td>50225.4861</td>\n",
       "      <td>5.51010</td>\n",
       "      <td>...</td>\n",
       "      <td>5033.10390</td>\n",
       "      <td>5028.01060</td>\n",
       "      <td>553.12120</td>\n",
       "      <td>4.99460</td>\n",
       "      <td>4.99345e+06</td>\n",
       "    </tr>\n",
       "    <tr>\n",
       "      <th>std</th>\n",
       "      <td>2886.89568</td>\n",
       "      <td>28774.37535</td>\n",
       "      <td>28.88917</td>\n",
       "      <td>29006.6758</td>\n",
       "      <td>2.87202</td>\n",
       "      <td>...</td>\n",
       "      <td>2876.72954</td>\n",
       "      <td>2894.33221</td>\n",
       "      <td>262.05017</td>\n",
       "      <td>3.17641</td>\n",
       "      <td>2.87742e+06</td>\n",
       "    </tr>\n",
       "    <tr>\n",
       "      <th>min</th>\n",
       "      <td>0.00000</td>\n",
       "      <td>89.00000</td>\n",
       "      <td>1.00000</td>\n",
       "      <td>3.0000</td>\n",
       "      <td>1.00000</td>\n",
       "      <td>...</td>\n",
       "      <td>0.00000</td>\n",
       "      <td>1.00000</td>\n",
       "      <td>100.00000</td>\n",
       "      <td>0.00000</td>\n",
       "      <td>1.03135e+04</td>\n",
       "    </tr>\n",
       "    <tr>\n",
       "      <th>25%</th>\n",
       "      <td>2499.75000</td>\n",
       "      <td>25098.50000</td>\n",
       "      <td>25.00000</td>\n",
       "      <td>24693.7500</td>\n",
       "      <td>3.00000</td>\n",
       "      <td>...</td>\n",
       "      <td>2559.75000</td>\n",
       "      <td>2512.00000</td>\n",
       "      <td>327.75000</td>\n",
       "      <td>2.00000</td>\n",
       "      <td>2.51640e+06</td>\n",
       "    </tr>\n",
       "    <tr>\n",
       "      <th>50%</th>\n",
       "      <td>4999.50000</td>\n",
       "      <td>50105.50000</td>\n",
       "      <td>50.00000</td>\n",
       "      <td>50693.0000</td>\n",
       "      <td>5.00000</td>\n",
       "      <td>...</td>\n",
       "      <td>5092.50000</td>\n",
       "      <td>5045.00000</td>\n",
       "      <td>554.00000</td>\n",
       "      <td>5.00000</td>\n",
       "      <td>5.01618e+06</td>\n",
       "    </tr>\n",
       "    <tr>\n",
       "      <th>75%</th>\n",
       "      <td>7499.25000</td>\n",
       "      <td>74609.75000</td>\n",
       "      <td>76.00000</td>\n",
       "      <td>75683.2500</td>\n",
       "      <td>8.00000</td>\n",
       "      <td>...</td>\n",
       "      <td>7511.25000</td>\n",
       "      <td>7540.50000</td>\n",
       "      <td>777.25000</td>\n",
       "      <td>8.00000</td>\n",
       "      <td>7.46909e+06</td>\n",
       "    </tr>\n",
       "    <tr>\n",
       "      <th>max</th>\n",
       "      <td>9999.00000</td>\n",
       "      <td>99999.00000</td>\n",
       "      <td>100.00000</td>\n",
       "      <td>99953.0000</td>\n",
       "      <td>10.00000</td>\n",
       "      <td>...</td>\n",
       "      <td>10000.00000</td>\n",
       "      <td>10000.00000</td>\n",
       "      <td>1000.00000</td>\n",
       "      <td>10.00000</td>\n",
       "      <td>1.00068e+07</td>\n",
       "    </tr>\n",
       "  </tbody>\n",
       "</table>\n",
       "<p>8 rows × 12 columns</p>\n",
       "</div>"
      ],
      "text/plain": [
       "       Unnamed: 0   squareMeters    floors      cityCode   cityPartRange  ...  \\\n",
       "count  10000.00000   10000.00000  10000.00000  10000.0000   10000.00000   ...   \n",
       "mean    4999.50000   49870.13120     50.27630  50225.4861       5.51010   ...   \n",
       "std     2886.89568   28774.37535     28.88917  29006.6758       2.87202   ...   \n",
       "min        0.00000      89.00000      1.00000      3.0000       1.00000   ...   \n",
       "25%     2499.75000   25098.50000     25.00000  24693.7500       3.00000   ...   \n",
       "50%     4999.50000   50105.50000     50.00000  50693.0000       5.00000   ...   \n",
       "75%     7499.25000   74609.75000     76.00000  75683.2500       8.00000   ...   \n",
       "max     9999.00000   99999.00000    100.00000  99953.0000      10.00000   ...   \n",
       "\n",
       "        basement       attic       garage     hasGuestRoom     price     \n",
       "count  10000.00000  10000.00000  10000.00000   10000.00000  1.00000e+04  \n",
       "mean    5033.10390   5028.01060    553.12120       4.99460  4.99345e+06  \n",
       "std     2876.72954   2894.33221    262.05017       3.17641  2.87742e+06  \n",
       "min        0.00000      1.00000    100.00000       0.00000  1.03135e+04  \n",
       "25%     2559.75000   2512.00000    327.75000       2.00000  2.51640e+06  \n",
       "50%     5092.50000   5045.00000    554.00000       5.00000  5.01618e+06  \n",
       "75%     7511.25000   7540.50000    777.25000       8.00000  7.46909e+06  \n",
       "max    10000.00000  10000.00000   1000.00000      10.00000  1.00068e+07  \n",
       "\n",
       "[8 rows x 12 columns]"
      ]
     },
     "execution_count": 29,
     "metadata": {},
     "output_type": "execute_result"
    }
   ],
   "source": [
    "table.describe() # description des valeurs numériques "
   ]
  },
  {
   "cell_type": "code",
   "execution_count": 49,
   "metadata": {},
   "outputs": [
    {
     "name": "stdout",
     "output_type": "stream",
     "text": [
      "Les variables catégorielles de la DataFrame sont :  ['numberOfRooms', 'category', 'PoolAndYard']\n"
     ]
    }
   ],
   "source": [
    "var_cate = [col for col in table.columns if table[col].dtype=='O']\n",
    "\n",
    "print(\"Les variables catégorielles de la DataFrame sont : \", var_cate)"
   ]
  },
  {
   "cell_type": "code",
   "execution_count": 50,
   "metadata": {},
   "outputs": [
    {
     "name": "stdout",
     "output_type": "stream",
     "text": [
      "La variable numberOfRooms contient 100 modalités\n",
      "La variable category contient 2 modalités\n",
      "La variable PoolAndYard contient 4 modalités\n"
     ]
    }
   ],
   "source": [
    "for col in var_cate:\n",
    "    \n",
    "    print(f\"La variable {col} contient {table[col].nunique()} modalités\") "
   ]
  },
  {
   "cell_type": "code",
   "execution_count": 51,
   "metadata": {},
   "outputs": [
    {
     "data": {
      "text/html": [
       "<div>\n",
       "<style scoped>\n",
       "    .dataframe tbody tr th:only-of-type {\n",
       "        vertical-align: middle;\n",
       "    }\n",
       "\n",
       "    .dataframe tbody tr th {\n",
       "        vertical-align: top;\n",
       "    }\n",
       "\n",
       "    .dataframe thead th {\n",
       "        text-align: right;\n",
       "    }\n",
       "</style>\n",
       "<table border=\"1\" class=\"dataframe\">\n",
       "  <thead>\n",
       "    <tr style=\"text-align: center;\">\n",
       "      <th></th>\n",
       "      <th>numberOfRooms</th>\n",
       "      <th>category</th>\n",
       "      <th>PoolAndYard</th>\n",
       "    </tr>\n",
       "  </thead>\n",
       "  <tbody>\n",
       "    <tr>\n",
       "      <th>count</th>\n",
       "      <td>10000</td>\n",
       "      <td>10000</td>\n",
       "      <td>10000</td>\n",
       "    </tr>\n",
       "    <tr>\n",
       "      <th>unique</th>\n",
       "      <td>100</td>\n",
       "      <td>2</td>\n",
       "      <td>4</td>\n",
       "    </tr>\n",
       "    <tr>\n",
       "      <th>top</th>\n",
       "      <td>fifty-four</td>\n",
       "      <td>Basic</td>\n",
       "      <td>has pool and has yard</td>\n",
       "    </tr>\n",
       "    <tr>\n",
       "      <th>freq</th>\n",
       "      <td>129</td>\n",
       "      <td>8735</td>\n",
       "      <td>2566</td>\n",
       "    </tr>\n",
       "  </tbody>\n",
       "</table>\n",
       "</div>"
      ],
      "text/plain": [
       "       numberOfRooms category      PoolAndYard      \n",
       "count         10000    10000                   10000\n",
       "unique          100        2                       4\n",
       "top      fifty-four    Basic   has pool and has yard\n",
       "freq            129     8735                    2566"
      ]
     },
     "execution_count": 51,
     "metadata": {},
     "output_type": "execute_result"
    }
   ],
   "source": [
    "table.describe(include=['object']) # description des objects "
   ]
  },
  {
   "cell_type": "code",
   "execution_count": 53,
   "metadata": {},
   "outputs": [
    {
     "data": {
      "image/png": "[encoded data removed]",
      "text/plain": [
       "<Figure size 1080x720 with 2 Axes>"
      ]
     },
     "metadata": {
      "needs_background": "light"
     },
     "output_type": "display_data"
    }
   ],
   "source": [
    "plt.subplots(figsize=(15, 10));\n",
    "sns.heatmap(table.corr(), annot = True, cmap = \"coolwarm\");\n",
    "plt.title(\"Matrice de corrélation\")\n",
    "plt.xlabel(\"Variables\")\n",
    "plt.ylabel(\"Variables\");"
   ]
  },
  {
   "cell_type": "markdown",
   "metadata": {},
   "source": [
    "### Encodage de certaines variables"
   ]
  },
  {
   "cell_type": "code",
   "execution_count": 54,
   "metadata": {},
   "outputs": [],
   "source": [
    "# Traitement de la varible numberOfRooms\n",
    "\n",
    "def parse_int(textnum, numwords={}):\n",
    "    # create our default word-lists\n",
    "    if not numwords:\n",
    "\n",
    "      # singles\n",
    "      units = [\n",
    "        \"zero\", \"one\", \"two\", \"three\", \"four\", \"five\", \"six\", \"seven\", \"eight\",\n",
    "        \"nine\", \"ten\", \"eleven\", \"twelve\", \"thirteen\", \"fourteen\", \"fifteen\",\n",
    "        \"sixteen\", \"seventeen\", \"eighteen\", \"nineteen\",\n",
    "      ]\n",
    "\n",
    "      # tens\n",
    "      tens = [\"\", \"\", \"twenty\", \"thirty\", \"forty\", \"fifty\", \"sixty\", \"seventy\", \"eighty\", \"ninety\"]\n",
    "\n",
    "      # larger scales\n",
    "      scales = [\"hundred\", \"thousand\", \"million\", \"billion\", \"trillion\"]\n",
    "\n",
    "      # divisors\n",
    "      numwords[\"and\"] = (1, 0)\n",
    "\n",
    "      # perform our loops and start the swap\n",
    "      for idx, word in enumerate(units):    numwords[word] = (1, idx)\n",
    "      for idx, word in enumerate(tens):     numwords[word] = (1, idx * 10)\n",
    "      for idx, word in enumerate(scales):   numwords[word] = (10 ** (idx * 3 or 2), 0)\n",
    "\n",
    "    # primary loop\n",
    "    current = result = 0\n",
    "    # loop while splitting to break into individual words\n",
    "    for word in textnum.replace(\"-\",\" \").split():\n",
    "        # if problem then fail-safe\n",
    "        if word not in numwords:\n",
    "          raise Exception(\"Illegal word: \" + word)\n",
    "\n",
    "        # use the index by the multiplier\n",
    "        scale, increment = numwords[word]\n",
    "        current = current * scale + increment\n",
    "       \n",
    "        # if larger than 100 then push for a round 2\n",
    "        if scale > 100:\n",
    "            result += current\n",
    "            current = 0\n",
    "\n",
    "    # return the result plus the current\n",
    "    return result + current"
   ]
  },
  {
   "cell_type": "code",
   "execution_count": 55,
   "metadata": {},
   "outputs": [
    {
     "name": "stdout",
     "output_type": "stream",
     "text": [
      "[3, 39, 58, 47, 19, 36, 10, 100, 3, 42, 21, 74, 31, 44, 3, 60, 88, 31, 37, 43, 64, 12, 64, 47, 51, 56, 46, 72, 43, 7, 98, 40, 78, 89, 47, 29, 87, 8, 88, 27, 19, 59, 29, 39, 38, 49, 66, 22, 97, 47, 25, 10, 52, 11, 29, 6, 89, 82, 8, 60, 60, 17, 57, 66, 74, 9, 15, 27, 48, 74, 5, 48, 43, 28, 20, 52, 60, 67, 99, 73, 50, 69, 31, 46, 43, 4, 75, 100, 74, 37, 61, 20, 29, 64, 55, 64, 60, 36, 9, 19, 92, 23, 49, 72, 59, 93, 73, 71, 35, 71, 94, 24, 81, 91, 15, 57, 77, 50, 29, 15, 68, 70, 54, 12, 44, 45, 20, 63, 84, 81, 40, 34, 76, 66, 96, 63, 94, 69, 1, 66, 25, 47, 21, 50, 46, 51, 19, 82, 56, 22, 21, 35, 22, 45, 64, 17, 47, 90, 37, 98, 98, 95, 73, 49, 95, 18, 84, 10, 22, 2, 28, 53, 88, 64, 64, 98, 4, 48, 75, 100, 98, 97, 100, 91, 9, 72, 69, 41, 59, 37, 84, 38, 26, 49, 46, 60, 57, 76, 77, 93, 36, 3, 38, 16, 40, 38, 34, 12, 43, 47, 13, 5, 95, 7, 88, 42, 18, 72, 21, 96, 67, 34, 11, 41, 52, 20, 76, 71, 22, 84, 99, 5, 95, 65, 83, 96, 62, 65, 41, 62, 43, 67, 48, 87, 95, 79, 78, 36, 94, 31, 78, 65, 65, 41, 48, 26, 56, 26, 50, 19, 92, 28, 36, 36, 43, 89, 6, 36, 97, 47, 21, 70, 34, 34, 58, 46, 67, 17, 98, 41, 24, 64, 40, 63, 74, 28, 64, 44, 38, 41, 15, 59, 12, 55, 97, 30, 96, 4, 37, 63, 55, 76, 99, 37, 17, 85, 80, 85, 78, 100, 65, 52, 51, 71, 18, 11, 41, 26, 16, 10, 60, 12, 39, 53, 33, 25, 81, 14, 28, 96, 56, 14, 52, 7, 2, 64, 84, 46, 58, 39, 61, 28, 45, 46, 48, 59, 35, 75, 28, 42, 11, 16, 64, 76, 71, 30, 88, 41, 1, 58, 76, 4, 83, 75, 10, 9, 57, 98, 76, 69, 23, 74, 22, 21, 39, 31, 30, 65, 35, 21, 82, 6, 100, 58, 2, 39, 70, 99, 71, 1, 50, 51, 91, 4, 58, 34, 62, 32, 45, 3, 67, 59, 5, 27, 32, 2, 82, 53, 46, 20, 98, 53, 51, 43, 12, 82, 49, 30, 24, 48, 85, 69, 37, 68, 17, 7, 90, 91, 7, 59, 100, 25, 25, 86, 50, 66, 92, 63, 61, 98, 14, 66, 98, 49, 25, 96, 78, 47, 70, 19, 52, 54, 17, 22, 66, 24, 78, 76, 60, 59, 60, 100, 78, 45, 44, 34, 68, 57, 18, 54, 12, 77, 98, 52, 26, 45, 3, 50, 63, 77, 82, 83, 48, 20, 1, 60, 83, 91, 85, 100, 8, 58, 76, 82, 51, 61, 7, 62, 23, 48, 53, 60, 18, 92, 42, 51, 66, 45, 21, 19, 47, 41, 18, 47, 8, 44, 59, 27, 52, 93, 60, 71, 82, 7, 85, 35, 5, 14, 35, 72, 65, 32, 30, 87, 8, 27, 21, 73, 17, 77, 49, 1, 36, 76, 30, 54, 28, 51, 49, 25, 34, 64, 27, 38, 68, 11, 59, 7, 54, 7, 99, 78, 65, 49, 38, 45, 75, 69, 99, 30, 53, 37, 13, 15, 75, 14, 98, 7, 48, 2, 95, 41, 32, 99, 2, 51, 32, 93, 27, 37, 83, 54, 16, 31, 57, 40, 3, 68, 40, 43, 89, 80, 28, 17, 10, 37, 41, 23, 9, 80, 88, 29, 19, 42, 26, 22, 90, 1, 60, 24, 35, 61, 61, 67, 63, 58, 10, 13, 60, 73, 77, 83, 44, 98, 43, 42, 100, 38, 86, 87, 1, 89, 38, 26, 4, 41, 89, 31, 9, 31, 100, 99, 34, 77, 70, 90, 17, 34, 58, 60, 75, 72, 60, 36, 97, 71, 34, 13, 96, 69, 64, 63, 95, 68, 52, 18, 97, 9, 88, 35, 89, 76, 3, 72, 52, 67, 63, 3, 53, 18, 2, 20, 36, 83, 36, 66, 27, 61, 57, 56, 94, 10, 37, 5, 50, 27, 14, 39, 4, 4, 55, 35, 98, 68, 70, 91, 5, 28, 97, 75, 50, 7, 44, 50, 39, 32, 74, 10, 92, 47, 1, 51, 60, 74, 9, 14, 63, 5, 99, 58, 33, 29, 98, 9, 16, 48, 15, 89, 30, 64, 91, 53, 30, 35, 46, 77, 21, 78, 63, 96, 11, 22, 7, 66, 79, 1, 64, 85, 53, 2, 34, 84, 91, 10, 72, 72, 58, 55, 61, 97, 17, 1, 11, 32, 68, 36, 20, 46, 62, 25, 16, 65, 74, 11, 69, 38, 12, 88, 70, 9, 89, 77, 87, 23, 46, 99, 77, 22, 96, 34, 30, 70, 76, 97, 35, 81, 11, 55, 18, 53, 81, 93, 70, 22, 24, 18, 71, 77, 88, 16, 38, 28, 68, 35, 79, 93, 49, 27, 29, 81, 77, 83, 95, 59, 69, 91, 19, 47, 12, 81, 100, 7, 54, 69, 18, 68, 25, 7, 90, 51, 46, 15, 50, 72, 63, 57, 92, 43, 65, 75, 95, 68, 83, 11, 40, 73, 47, 54, 87, 54, 36, 71, 66, 86, 23, 24, 33, 12, 97, 70, 31, 69, 34, 100, 29, 64, 10, 88, 48, 80, 5, 3, 5, 23, 15, 1, 13, 61, 95, 89, 49, 100, 24, 88, 37, 89, 73, 78, 3, 49, 61, 4, 2, 38, 66, 12, 89, 5, 35, 62, 86, 38, 79, 54, 84, 63, 54, 79, 36, 42, 3, 45, 60, 56, 74, 58, 79, 18, 74, 69, 10, 94, 32, 31, 22, 77, 20, 7, 84, 27, 89, 54, 28, 92, 54, 2, 63, 34, 19, 60, 100, 7, 76, 34, 18, 94, 88, 88, 45, 97, 10, 57, 79, 53, 50, 72, 7, 41, 62, 89, 44, 56, 70, 33, 11, 18, 58, 39, 53, 75, 31, 1, 37, 41, 46, 16, 96, 36, 69, 42, 88, 40, 96, 13, 85, 89, 48, 67, 22, 54, 77, 20, 4, 12, 89, 35, 22, 71, 70, 26, 5, 10, 87, 92, 66, 33, 59, 95, 63, 80, 72, 75, 90, 54, 79, 7, 90, 88, 14, 47, 98, 3, 53, 75, 36, 38, 57, 66, 99, 60, 37, 69, 39, 20, 97, 12, 14, 73, 45, 30, 5, 79, 43, 76, 59, 19, 19, 68, 20, 75, 73, 70, 26, 28, 57, 81, 96, 27, 89, 42, 67, 37, 63, 77, 30, 42, 81, 81, 65, 55, 66, 28, 94, 98, 84, 24, 35, 11, 82, 88, 100, 8, 47, 19, 80, 85, 43, 92, 11, 8, 22, 5, 92, 6, 4, 25, 60, 38, 99, 58, 84, 57, 77, 5, 30, 20, 79, 82, 4, 66, 17, 70, 67, 43, 54, 91, 94, 97, 93, 11, 73, 68, 65, 38, 73, 33, 2, 39, 43, 70, 13, 17, 35, 70, 36, 28, 77, 78, 36, 25, 98, 20, 32, 61, 1, 60, 87, 100, 44, 79, 70, 83, 35, 75, 32, 18, 67, 6, 57, 81, 96, 84, 57, 4, 100, 86, 62, 27, 14, 23, 13, 36, 70, 67, 54, 100, 30, 97, 47, 54, 91, 73, 48, 55, 70, 86, 87, 27, 86, 9, 49, 61, 92, 55, 24, 85, 43, 36, 56, 82, 20, 54, 18, 84, 21, 45, 2, 56, 72, 40, 14, 62, 67, 18, 43, 19, 37, 85, 43, 99, 67, 5, 40, 23, 31, 87, 70, 68, 66, 98, 39, 38, 38, 50, 33, 91, 3, 60, 29, 15, 95, 42, 85, 78, 4, 5, 64, 96, 29, 30, 15, 36, 3, 76, 84, 26, 80, 14, 52, 7, 85, 6, 86, 24, 11, 12, 50, 37, 1, 4, 82, 93, 4, 46, 49, 44, 24, 29, 27, 39, 88, 48, 64, 49, 12, 94, 44, 47, 1, 85, 15, 69, 78, 72, 19, 99, 16, 16, 83, 44, 76, 40, 36, 98, 16, 46, 94, 73, 65, 1, 59, 1, 86, 52, 12, 19, 5, 10, 7, 86, 21, 29, 71, 31, 88, 29, 44, 15, 67, 64, 99, 31, 97, 64, 60, 13, 61, 85, 59, 20, 36, 3, 88, 18, 70, 8, 13, 40, 34, 98, 79, 57, 19, 97, 76, 78, 11, 32, 98, 24, 50, 51, 96, 54, 9, 50, 79, 67, 100, 46, 87, 62, 6, 27, 67, 95, 96, 43, 23, 26, 54, 24, 26, 44, 20, 100, 2, 38, 49, 1, 16, 76, 12, 8, 16, 31, 95, 57, 3, 9, 34, 78, 86, 10, 52, 73, 44, 23, 43, 42, 79, 28, 58, 8, 98, 68, 28, 29, 14, 42, 1, 6, 77, 97, 14, 3, 44, 83, 75, 6, 56, 46, 73, 87, 67, 65, 84, 98, 99, 95, 64, 43, 47, 69, 17, 39, 18, 64, 51, 22, 11, 96, 7, 98, 13, 81, 28, 11, 14, 38, 2, 97, 16, 99, 64, 76, 72, 83, 92, 51, 88, 90, 44, 87, 96, 45, 90, 38, 35, 4, 14, 99, 58, 34, 79, 82, 14, 37, 95, 60, 97, 81, 95, 36, 77, 34, 71, 25, 30, 43, 2, 42, 21, 23, 97, 24, 83, 95, 5, 73, 92, 37, 42, 71, 62, 44, 30, 24, 85, 84, 3, 75, 29, 97, 89, 24, 35, 6, 90, 99, 33, 88, 54, 7, 20, 2, 31, 74, 99, 15, 97, 56, 84, 56, 18, 80, 95, 40, 4, 81, 39, 99, 59, 54, 49, 27, 26, 22, 45, 27, 33, 55, 80, 32, 53, 91, 41, 29, 90, 86, 68, 54, 92, 26, 39, 92, 3, 90, 40, 1, 42, 9, 6, 27, 22, 53, 51, 3, 71, 33, 48, 81, 18, 33, 64, 99, 27, 28, 56, 69, 25, 89, 59, 43, 23, 28, 100, 76, 33, 45, 61, 55, 48, 87, 43, 12, 65, 97, 37, 23, 67, 3, 39, 33, 81, 79, 62, 5, 12, 68, 70, 23, 97, 54, 12, 27, 79, 13, 80, 38, 71, 61, 60, 9, 5, 26, 93, 40, 42, 94, 62, 16, 51, 52, 72, 36, 80, 61, 46, 87, 96, 83, 85, 27, 6, 96, 57, 89, 52, 46, 74, 35, 66, 64, 56, 37, 14, 15, 84, 53, 6, 97, 100, 34, 26, 59, 64, 22, 58, 16, 7, 75, 26, 77, 38, 17, 38, 68, 36, 1, 11, 36, 14, 92, 4, 57, 62, 1, 93, 73, 93, 98, 26, 96, 90, 38, 77, 62, 27, 92, 96, 27, 69, 65, 41, 98, 92, 15, 48, 37, 19, 62, 25, 31, 56, 98, 56, 23, 87, 45, 9, 64, 93, 46, 82, 8, 4, 58, 43, 50, 94, 81, 78, 22, 78, 94, 59, 8, 96, 57, 54, 5, 8, 75, 17, 28, 82, 98, 69, 81, 54, 97, 22, 44, 94, 70, 79, 44, 40, 49, 94, 46, 44, 88, 73, 84, 94, 28, 55, 55, 42, 95, 11, 90, 15, 66, 42, 35, 89, 14, 41, 29, 14, 57, 17, 21, 76, 65, 38, 83, 75, 86, 24, 7, 13, 98, 71, 53, 52, 29, 74, 15, 74, 93, 90, 63, 51, 70, 43, 24, 48, 77, 98, 20, 92, 40, 11, 73, 25, 42, 2, 87, 54, 78, 3, 94, 51, 84, 32, 94, 17, 55, 13, 70, 22, 40, 56, 100, 18, 63, 33, 36, 8, 43, 15, 68, 13, 62, 80, 21, 33, 76, 47, 54, 63, 33, 24, 87, 30, 50, 43, 80, 16, 27, 68, 21, 85, 65, 58, 17, 26, 20, 69, 84, 12, 6, 69, 82, 54, 23, 35, 53, 4, 31, 59, 52, 76, 64, 46, 45, 45, 94, 96, 55, 79, 12, 66, 53, 89, 100, 13, 37, 75, 13, 99, 85, 100, 7, 39, 78, 17, 55, 92, 95, 92, 32, 36, 33, 14, 15, 85, 12, 12, 88, 60, 9, 69, 30, 55, 29, 49, 80, 44, 7, 12, 45, 38, 75, 68, 24, 57, 91, 47, 11, 26, 71, 51, 2, 26, 77, 50, 52, 69, 4, 86, 62, 60, 42, 29, 1, 95, 92, 94, 48, 85, 39, 24, 26, 93, 38, 16, 45, 85, 46, 12, 92, 55, 4, 99, 91, 79, 49, 29, 34, 12, 59, 56, 89, 11, 57, 80, 21, 73, 33, 92, 82, 2, 44, 35, 7, 85, 17, 97, 88, 56, 27, 1, 85, 77, 24, 20, 9, 45, 32, 62, 3, 75, 95, 76, 41, 43, 99, 92, 62, 61, 20, 17, 18, 9, 87, 57, 28, 96, 58, 34, 98, 69, 19, 47, 27, 15, 61, 72, 100, 61, 7, 23, 51, 71, 2, 89, 94, 83, 2, 86, 35, 37, 8, 32, 46, 59, 20, 11, 6, 77, 100, 24, 75, 82, 86, 36, 3, 7, 63, 66, 89, 54, 99, 29, 94, 48, 10, 19, 19, 18, 70, 51, 35, 46, 26, 81, 10, 65, 4, 59, 28, 20, 41, 68, 45, 48, 59, 10, 13, 31, 65, 47, 32, 80, 46, 7, 65, 3, 9, 72, 53, 66, 1, 67, 54, 4, 39, 60, 82, 22, 79, 52, 69, 1, 40, 24, 50, 85, 87, 16, 32, 93, 97, 83, 93, 82, 97, 16, 69, 54, 97, 54, 49, 28, 25, 67, 33, 100, 81, 23, 89, 93, 41, 91, 98, 69, 84, 84, 44, 19, 65, 59, 63, 32, 70, 91, 33, 78, 94, 15, 77, 3, 93, 42, 67, 61, 47, 49, 65, 10, 78, 65, 2, 94, 99, 77, 35, 50, 99, 53, 74, 45, 55, 44, 33, 78, 48, 35, 59, 85, 77, 25, 81, 15, 18, 5, 77, 32, 42, 8, 65, 69, 15, 89, 89, 86, 21, 96, 84, 99, 48, 61, 75, 34, 2, 58, 83, 52, 49, 23, 77, 80, 64, 48, 98, 48, 79, 13, 50, 4, 48, 58, 79, 84, 58, 82, 72, 14, 94, 3, 14, 90, 56, 88, 61, 61, 20, 76, 30, 92, 16, 53, 71, 94, 91, 82, 34, 69, 24, 81, 92, 13, 76, 50, 67, 42, 48, 28, 54, 4, 16, 23, 26, 15, 84, 21, 52, 54, 16, 59, 67, 56, 69, 20, 32, 43, 90, 16, 84, 9, 33, 58, 53, 21, 54, 97, 92, 100, 28, 23, 91, 91, 84, 14, 27, 34, 33, 9, 73, 14, 82, 56, 3, 22, 52, 78, 98, 59, 45, 45, 1, 55, 2, 19, 54, 51, 92, 37, 99, 57, 47, 73, 58, 39, 83, 7, 28, 96, 19, 55, 82, 90, 46, 85, 86, 27, 90, 4, 61, 49, 91, 45, 84, 51, 91, 20, 98, 52, 85, 30, 8, 57, 29, 69, 34, 41, 14, 12, 74, 77, 36, 38, 30, 18, 19, 56, 39, 30, 98, 43, 33, 42, 59, 49, 24, 30, 66, 81, 51, 96, 83, 66, 51, 64, 54, 10, 21, 4, 28, 81, 15, 64, 25, 32, 47, 91, 66, 75, 97, 90, 24, 100, 31, 45, 99, 28, 64, 96, 4, 68, 69, 20, 31, 34, 97, 15, 71, 73, 98, 44, 17, 31, 4, 71, 92, 27, 65, 11, 32, 62, 55, 67, 4, 54, 70, 68, 63, 36, 97, 68, 29, 33, 77, 8, 7, 38, 93, 59, 31, 6, 4, 34, 45, 64, 46, 94, 88, 21, 39, 90, 87, 98, 98, 42, 97, 89, 83, 75, 42, 18, 42, 8, 35, 52, 74, 18, 83, 58, 7, 36, 23, 78, 88, 86, 84, 24, 94, 21, 8, 88, 72, 24, 60, 47, 2, 24, 46, 72, 15, 16, 41, 96, 93, 67, 33, 38, 22, 70, 38, 54, 72, 69, 54, 75, 64, 51, 4, 23, 96, 43, 100, 43, 17, 20, 75, 63, 17, 21, 9, 75, 8, 97, 14, 19, 97, 21, 57, 81, 92, 11, 75, 9, 61, 26, 91, 93, 56, 17, 28, 100, 16, 43, 52, 5, 35, 90, 45, 30, 27, 36, 2, 94, 88, 77, 71, 98, 3, 12, 24, 48, 6, 22, 3, 93, 85, 23, 55, 91, 80, 49, 24, 2, 85, 100, 22, 41, 56, 73, 21, 34, 7, 2, 33, 93, 60, 1, 79, 96, 90, 66, 86, 85, 56, 83, 87, 24, 75, 80, 50, 7, 54, 27, 70, 7, 92, 25, 63, 77, 69, 73, 33, 57, 71, 60, 62, 67, 64, 34, 69, 100, 68, 91, 25, 23, 60, 41, 59, 37, 29, 51, 84, 90, 70, 99, 78, 17, 25, 27, 66, 64, 24, 70, 46, 35, 69, 27, 27, 55, 30, 56, 36, 94, 17, 93, 85, 92, 88, 90, 92, 13, 85, 27, 23, 9, 45, 15, 83, 70, 58, 6, 87, 53, 65, 86, 9, 95, 67, 27, 49, 90, 72, 59, 4, 5, 22, 98, 38, 69, 58, 34, 5, 5, 68, 21, 12, 97, 72, 36, 30, 12, 72, 70, 6, 90, 57, 68, 37, 6, 73, 44, 19, 28, 21, 21, 37, 6, 20, 77, 29, 40, 72, 44, 6, 47, 49, 57, 79, 89, 98, 75, 73, 37, 5, 27, 80, 4, 78, 30, 84, 72, 4, 68, 70, 80, 82, 24, 16, 5, 88, 56, 66, 9, 73, 97, 51, 97, 35, 64, 86, 49, 28, 20, 9, 34, 22, 25, 53, 84, 51, 84, 62, 82, 72, 23, 23, 38, 36, 25, 31, 17, 86, 56, 24, 70, 24, 46, 52, 55, 54, 86, 59, 30, 41, 19, 67, 65, 47, 41, 6, 48, 18, 8, 71, 96, 15, 10, 26, 77, 17, 51, 20, 17, 63, 11, 96, 46, 53, 50, 45, 4, 60, 59, 85, 42, 85, 14, 88, 54, 75, 14, 21, 98, 54, 26, 60, 11, 61, 16, 89, 67, 44, 21, 82, 94, 2, 90, 18, 75, 8, 23, 74, 74, 71, 90, 94, 83, 51, 60, 33, 99, 68, 61, 80, 87, 91, 23, 8, 67, 31, 75, 6, 49, 47, 95, 75, 20, 99, 28, 81, 87, 32, 68, 41, 38, 99, 30, 21, 47, 77, 53, 37, 54, 50, 10, 80, 46, 24, 1, 51, 29, 84, 80, 36, 63, 43, 7, 25, 13, 23, 70, 22, 40, 60, 73, 89, 77, 31, 25, 55, 39, 31, 22, 8, 69, 56, 62, 96, 16, 68, 76, 47, 20, 84, 95, 93, 63, 15, 86, 25, 71, 68, 54, 42, 10, 71, 32, 4, 54, 52, 16, 53, 74, 21, 33, 72, 11, 58, 34, 27, 85, 40, 98, 60, 52, 64, 34, 60, 23, 33, 81, 56, 51, 40, 78, 89, 65, 37, 87, 65, 6, 72, 58, 51, 98, 16, 4, 45, 42, 12, 31, 44, 73, 18, 1, 83, 16, 79, 24, 71, 44, 50, 88, 6, 2, 18, 19, 59, 58, 72, 4, 30, 56, 4, 49, 18, 14, 97, 57, 49, 16, 54, 81, 52, 41, 44, 10, 87, 56, 74, 41, 32, 23, 22, 8, 85, 8, 61, 64, 43, 73, 88, 7, 89, 88, 84, 13, 91, 71, 8, 69, 45, 51, 15, 71, 54, 25, 92, 3, 33, 100, 32, 58, 87, 25, 55, 35, 81, 47, 58, 58, 84, 49, 44, 36, 8, 39, 61, 50, 10, 94, 82, 24, 87, 49, 4, 96, 5, 77, 41, 35, 59, 64, 56, 79, 27, 3, 80, 98, 72, 42, 12, 59, 45, 59, 18, 54, 38, 55, 92, 84, 95, 72, 9, 37, 13, 37, 98, 2, 78, 95, 83, 13, 55, 92, 16, 85, 19, 53, 78, 3, 12, 29, 72, 35, 85, 56, 99, 36, 42, 26, 67, 28, 83, 67, 89, 28, 42, 38, 69, 29, 42, 94, 20, 24, 11, 59, 18, 83, 23, 80, 66, 69, 64, 27, 6, 91, 14, 100, 35, 24, 40, 64, 16, 94, 96, 12, 56, 11, 16, 65, 32, 34, 98, 61, 69, 55, 50, 91, 96, 74, 3, 64, 15, 84, 11, 32, 95, 16, 61, 61, 40, 25, 95, 3, 92, 62, 21, 87, 37, 17, 80, 41, 15, 34, 54, 5, 51, 53, 80, 32, 35, 79, 37, 30, 29, 35, 50, 44, 65, 26, 57, 64, 40, 68, 90, 32, 17, 67, 65, 25, 91, 76, 94, 97, 90, 71, 99, 69, 63, 78, 39, 29, 81, 32, 36, 25, 57, 5, 17, 32, 27, 36, 93, 5, 83, 93, 49, 91, 60, 53, 30, 25, 27, 51, 65, 20, 1, 79, 77, 68, 85, 78, 15, 73, 52, 50, 15, 91, 98, 47, 62, 18, 21, 54, 58, 25, 46, 78, 71, 52, 26, 94, 72, 18, 10, 20, 73, 57, 43, 56, 13, 51, 6, 43, 76, 3, 69, 41, 80, 37, 26, 37, 99, 62, 31, 62, 75, 7, 15, 89, 100, 53, 22, 83, 96, 56, 66, 100, 6, 37, 2, 70, 27, 22, 39, 4, 99, 84, 4, 43, 97, 63, 67, 3, 79, 66, 74, 61, 90, 90, 30, 55, 63, 9, 3, 100, 65, 5, 92, 74, 68, 79, 5, 36, 33, 17, 40, 54, 58, 26, 13, 88, 86, 87, 57, 59, 15, 65, 25, 5, 93, 62, 89, 64, 96, 80, 25, 8, 11, 64, 73, 95, 52, 3, 77, 28, 4, 32, 10, 71, 56, 53, 75, 5, 56, 31, 16, 10, 58, 77, 62, 61, 72, 4, 93, 61, 34, 1, 91, 41, 51, 54, 1, 99, 34, 7, 74, 85, 99, 48, 50, 2, 49, 45, 57, 18, 21, 37, 51, 93, 11, 14, 71, 35, 59, 63, 48, 36, 3, 59, 76, 44, 53, 6, 86, 3, 54, 67, 7, 98, 17, 67, 23, 60, 37, 83, 10, 76, 23, 15, 90, 8, 29, 60, 74, 6, 65, 59, 97, 55, 90, 46, 13, 35, 45, 30, 66, 94, 2, 20, 5, 71, 48, 13, 42, 59, 21, 58, 4, 92, 35, 96, 76, 69, 27, 14, 17, 93, 70, 76, 18, 4, 61, 82, 42, 43, 17, 44, 77, 52, 58, 75, 14, 98, 79, 5, 10, 84, 41, 62, 91, 53, 28, 18, 31, 94, 95, 89, 62, 53, 14, 61, 29, 38, 20, 29, 40, 55, 48, 95, 53, 6, 66, 35, 30, 30, 18, 69, 10, 72, 2, 31, 7, 27, 85, 88, 54, 23, 15, 48, 21, 35, 50, 58, 97, 58, 61, 9, 5, 86, 79, 93, 64, 81, 93, 21, 76, 63, 50, 24, 23, 71, 94, 18, 11, 59, 73, 82, 8, 14, 13, 54, 12, 62, 22, 79, 60, 45, 4, 100, 9, 60, 15, 40, 1, 11, 54, 39, 78, 15, 61, 2, 50, 8, 68, 56, 55, 95, 97, 72, 67, 83, 13, 2, 30, 31, 32, 62, 8, 64, 41, 71, 52, 17, 27, 46, 4, 10, 22, 82, 40, 18, 59, 6, 79, 81, 63, 73, 40, 100, 31, 46, 15, 55, 51, 56, 17, 83, 82, 65, 48, 78, 38, 80, 24, 82, 2, 39, 42, 54, 37, 28, 87, 72, 28, 58, 12, 34, 100, 91, 100, 29, 71, 12, 70, 8, 97, 32, 16, 42, 4, 49, 95, 7, 48, 66, 60, 20, 94, 39, 13, 57, 19, 79, 65, 42, 44, 73, 15, 97, 78, 15, 52, 76, 28, 54, 69, 93, 29, 21, 77, 43, 70, 8, 61, 55, 67, 73, 97, 36, 86, 49, 84, 15, 63, 98, 75, 48, 82, 96, 8, 6, 73, 35, 79, 19, 1, 10, 38, 45, 24, 28, 18, 59, 96, 72, 37, 47, 42, 56, 93, 89, 72, 80, 54, 29, 60, 24, 27, 45, 30, 16, 72, 5, 87, 34, 54, 9, 12, 100, 95, 86, 71, 90, 44, 93, 100, 61, 43, 71, 55, 88, 72, 35, 90, 30, 56, 67, 18, 11, 26, 38, 16, 8, 53, 52, 73, 61, 25, 86, 12, 80, 22, 25, 99, 81, 71, 58, 33, 69, 76, 8, 89, 59, 61, 77, 59, 54, 95, 32, 11, 25, 100, 66, 74, 84, 71, 21, 27, 57, 32, 74, 24, 8, 18, 88, 69, 91, 60, 74, 85, 56, 49, 73, 74, 59, 91, 72, 6, 33, 15, 26, 67, 93, 73, 9, 24, 39, 43, 34, 22, 75, 54, 73, 75, 74, 23, 89, 58, 84, 12, 84, 49, 82, 19, 5, 81, 46, 96, 6, 97, 78, 99, 39, 6, 4, 37, 56, 55, 31, 77, 100, 81, 14, 4, 16, 19, 100, 64, 92, 29, 77, 53, 57, 97, 79, 42, 49, 53, 49, 91, 5, 21, 30, 54, 81, 61, 64, 29, 26, 27, 90, 45, 4, 47, 27, 88, 53, 50, 10, 57, 92, 10, 74, 13, 83, 46, 2, 68, 92, 26, 43, 49, 36, 66, 55, 25, 12, 100, 23, 58, 45, 63, 84, 65, 10, 82, 89, 74, 84, 38, 22, 77, 22, 58, 41, 43, 86, 92, 25, 80, 93, 29, 88, 56, 42, 63, 93, 1, 77, 80, 39, 49, 81, 94, 7, 2, 84, 1, 33, 83, 68, 97, 74, 21, 40, 73, 75, 21, 13, 76, 24, 16, 69, 73, 70, 26, 93, 19, 63, 86, 89, 88, 100, 49, 20, 41, 37, 15, 75, 20, 67, 10, 65, 76, 41, 53, 44, 96, 95, 65, 58, 37, 17, 11, 3, 68, 34, 34, 1, 60, 8, 40, 86, 30, 31, 68, 47, 23, 17, 55, 54, 5, 29, 1, 54, 48, 41, 77, 83, 57, 56, 19, 60, 71, 13, 13, 33, 8, 58, 47, 9, 93, 64, 7, 78, 92, 91, 41, 1, 75, 67, 99, 20, 84, 39, 8, 36, 63, 39, 77, 27, 6, 35, 47, 57, 41, 7, 57, 84, 2, 16, 66, 92, 43, 32, 10, 1, 100, 27, 20, 22, 90, 51, 90, 50, 1, 51, 56, 9, 76, 54, 30, 93, 57, 21, 77, 65, 55, 37, 1, 94, 46, 14, 20, 86, 10, 3, 89, 68, 85, 30, 59, 77, 95, 73, 47, 54, 50, 72, 66, 89, 27, 55, 30, 44, 95, 79, 76, 94, 50, 60, 10, 90, 43, 96, 81, 1, 24, 90, 60, 68, 81, 97, 73, 41, 32, 68, 95, 16, 11, 2, 25, 19, 15, 5, 26, 29, 24, 81, 25, 59, 35, 59, 38, 30, 76, 33, 64, 65, 47, 95, 79, 54, 20, 71, 94, 45, 2, 70, 59, 57, 21, 35, 42, 9, 30, 80, 33, 16, 61, 89, 67, 4, 44, 4, 54, 50, 79, 91, 82, 36, 52, 35, 35, 57, 39, 9, 10, 58, 43, 11, 94, 91, 69, 57, 54, 19, 88, 10, 16, 75, 55, 41, 45, 11, 53, 47, 26, 91, 41, 4, 16, 7, 85, 38, 16, 70, 62, 51, 50, 37, 41, 41, 32, 44, 39, 40, 38, 54, 3, 7, 25, 28, 39, 87, 48, 44, 87, 24, 7, 60, 38, 77, 43, 58, 91, 19, 70, 89, 47, 98, 58, 32, 50, 3, 50, 2, 47, 35, 30, 90, 89, 67, 59, 15, 33, 3, 84, 66, 53, 58, 92, 35, 22, 88, 55, 72, 86, 80, 31, 32, 22, 38, 96, 22, 33, 83, 30, 24, 2, 30, 10, 30, 30, 10, 98, 10, 58, 17, 70, 2, 43, 55, 10, 76, 14, 71, 49, 24, 75, 31, 45, 58, 57, 94, 29, 19, 99, 67, 39, 87, 85, 29, 39, 57, 54, 47, 64, 94, 6, 97, 91, 10, 60, 45, 69, 56, 100, 80, 93, 28, 55, 68, 100, 62, 28, 80, 52, 4, 16, 17, 52, 59, 27, 87, 89, 32, 52, 27, 6, 60, 63, 91, 15, 100, 37, 13, 52, 87, 21, 63, 37, 95, 96, 43, 32, 4, 74, 36, 63, 100, 33, 64, 22, 15, 1, 95, 19, 30, 20, 11, 61, 67, 98, 53, 62, 17, 49, 96, 95, 87, 19, 61, 64, 78, 78, 97, 83, 56, 14, 4, 40, 55, 92, 93, 27, 87, 12, 90, 52, 44, 85, 62, 10, 73, 24, 24, 38, 9, 100, 40, 10, 99, 14, 73, 36, 42, 88, 59, 25, 68, 95, 13, 97, 15, 92, 52, 50, 26, 41, 96, 38, 61, 81, 30, 66, 57, 52, 33, 65, 91, 29, 61, 78, 74, 42, 61, 48, 27, 8, 69, 80, 46, 52, 21, 54, 72, 61, 87, 6, 3, 57, 85, 17, 16, 88, 72, 82, 47, 28, 43, 38, 22, 83, 83, 100, 51, 83, 51, 56, 26, 51, 44, 7, 5, 53, 21, 8, 44, 5, 46, 23, 77, 32, 80, 42, 69, 27, 79, 54, 18, 37, 100, 14, 79, 15, 99, 12, 87, 17, 88, 57, 21, 86, 61, 10, 28, 50, 99, 94, 70, 46, 36, 45, 81, 12, 50, 4, 7, 56, 88, 17, 15, 71, 63, 71, 56, 91, 76, 66, 44, 90, 74, 33, 50, 79, 42, 77, 7, 45, 5, 61, 90, 93, 49, 97, 30, 68, 40, 22, 76, 71, 12, 48, 61, 42, 4, 48, 21, 98, 88, 68, 47, 13, 82, 70, 26, 86, 6, 37, 63, 2, 38, 1, 22, 51, 15, 8, 47, 78, 80, 11, 60, 8, 21, 10, 27, 8, 78, 84, 82, 53, 10, 48, 98, 4, 30, 58, 19, 47, 84, 54, 58, 54, 97, 31, 13, 87, 10, 9, 76, 97, 80, 74, 88, 89, 97, 52, 46, 86, 5, 27, 69, 58, 66, 26, 60, 67, 78, 63, 48, 74, 86, 92, 41, 13, 49, 63, 33, 35, 92, 45, 12, 38, 59, 56, 37, 100, 50, 86, 65, 37, 89, 45, 96, 54, 68, 65, 22, 50, 74, 81, 38, 91, 56, 31, 37, 88, 75, 88, 33, 83, 68, 58, 59, 56, 17, 88, 19, 26, 17, 18, 8, 90, 83, 99, 85, 100, 90, 26, 87, 67, 98, 30, 66, 51, 84, 97, 21, 99, 72, 69, 10, 29, 10, 33, 87, 60, 63, 74, 76, 45, 99, 22, 5, 67, 37, 39, 24, 61, 63, 55, 23, 58, 84, 4, 31, 49, 23, 79, 32, 82, 69, 30, 31, 7, 75, 85, 57, 26, 62, 56, 79, 5, 23, 92, 24, 40, 57, 71, 85, 38, 27, 21, 41, 87, 69, 22, 81, 22, 61, 87, 77, 8, 4, 65, 71, 23, 38, 30, 36, 26, 8, 76, 83, 65, 34, 6, 57, 55, 35, 14, 82, 84, 41, 23, 32, 90, 75, 53, 63, 84, 18, 42, 97, 90, 24, 20, 91, 82, 48, 78, 38, 59, 75, 35, 49, 61, 55, 17, 67, 41, 10, 37, 85, 99, 7, 60, 50, 4, 91, 10, 34, 7, 30, 91, 18, 65, 46, 34, 19, 5, 22, 22, 58, 36, 26, 11, 59, 90, 65, 99, 43, 27, 71, 1, 34, 26, 86, 29, 75, 27, 38, 50, 18, 99, 90, 10, 89, 42, 8, 27, 93, 29, 38, 74, 94, 22, 45, 59, 50, 32, 96, 91, 3, 87, 62, 91, 54, 64, 97, 6, 8, 64, 59, 16, 51, 24, 74, 95, 37, 67, 94, 46, 63, 86, 84, 35, 100, 62, 25, 95, 60, 80, 99, 66, 83, 26, 72, 93, 25, 8, 55, 33, 38, 54, 26, 98, 69, 14, 4, 9, 74, 15, 21, 1, 36, 81, 24, 43, 12, 90, 43, 95, 52, 9, 67, 87, 68, 13, 24, 35, 31, 59, 97, 100, 52, 36, 88, 2, 59, 79, 44, 6, 78, 94, 45, 36, 65, 68, 53, 67, 90, 43, 14, 86, 43, 41, 53, 48, 3, 45, 100, 50, 10, 3, 85, 51, 37, 33, 86, 64, 97, 10, 25, 82, 100, 84, 63, 62, 30, 4, 79, 16, 86, 91, 46, 67, 7, 50, 47, 47, 26, 47, 26, 100, 100, 73, 99, 13, 97, 53, 72, 58, 11, 7, 99, 46, 81, 48, 8, 58, 33, 28, 33, 35, 21, 20, 15, 82, 18, 66, 52, 65, 15, 89, 3, 89, 9, 38, 90, 52, 97, 74, 96, 66, 18, 70, 85, 35, 16, 81, 65, 38, 62, 57, 55, 83, 32, 7, 4, 73, 29, 41, 47, 94, 8, 27, 66, 95, 38, 18, 35, 13, 62, 33, 71, 55, 76, 16, 46, 16, 84, 26, 50, 44, 15, 95, 47, 92, 68, 8, 28, 60, 84, 86, 67, 60, 10, 94, 98, 53, 28, 4, 69, 26, 25, 40, 23, 42, 67, 100, 5, 67, 39, 78, 14, 43, 19, 23, 74, 60, 34, 98, 2, 89, 48, 96, 4, 13, 20, 24, 59, 3, 65, 2, 73, 19, 27, 81, 39, 4, 14, 90, 39, 56, 59, 96, 87, 79, 57, 10, 81, 33, 85, 23, 43, 42, 95, 97, 58, 26, 30, 45, 3, 52, 65, 53, 2, 53, 41, 2, 16, 78, 43, 29, 77, 70, 14, 64, 98, 69, 80, 33, 83, 78, 45, 7, 41, 95, 91, 50, 78, 57, 68, 94, 93, 57, 16, 42, 80, 80, 86, 74, 16, 12, 59, 60, 70, 33, 87, 39, 4, 58, 53, 21, 85, 5, 61, 14, 16, 31, 58, 61, 51, 11, 45, 93, 57, 86, 87, 16, 63, 9, 56, 71, 3, 31, 9, 37, 25, 16, 77, 29, 61, 54, 97, 11, 60, 91, 97, 52, 99, 82, 58, 61, 23, 15, 73, 25, 28, 3, 47, 14, 18, 30, 15, 66, 18, 63, 59, 7, 24, 34, 66, 28, 86, 12, 4, 49, 96, 29, 3, 65, 51, 63, 90, 13, 30, 39, 60, 32, 60, 40, 41, 14, 53, 33, 17, 63, 20, 28, 53, 54, 31, 68, 19, 27, 25, 15, 61, 65, 20, 89, 41, 88, 49, 41, 34, 53, 85, 77, 28, 52, 55, 61, 95, 98, 20, 10, 37, 92, 11, 55, 89, 13, 55, 20, 86, 18, 81, 95, 30, 91, 14, 43, 7, 43, 69, 74, 69, 49, 61, 53, 24, 82, 43, 100, 26, 93, 37, 5, 76, 89, 22, 38, 49, 31, 16, 74, 58, 97, 45, 81, 77, 39, 13, 72, 97, 32, 16, 21, 45, 4, 25, 33, 93, 27, 50, 4, 92, 51, 46, 99, 70, 18, 4, 51, 51, 47, 61, 91, 99, 10, 11, 47, 20, 89, 85, 58, 17, 22, 20, 89, 68, 22, 9, 3, 64, 94, 91, 50, 98, 61, 13, 19, 46, 48, 37, 44, 7, 92, 23, 13, 20, 15, 95, 100, 5, 19, 73, 62, 58, 81, 30, 8, 100, 71, 41, 64, 33, 36, 28, 11, 49, 22, 95, 88, 84, 17, 74, 60, 62, 16, 77, 22, 74, 33, 7, 63, 12, 28, 46, 53, 2, 63, 96, 27, 51, 55, 81, 15, 8, 42, 14, 1, 42, 60, 38, 19, 90, 19, 11, 49, 72, 13, 60, 66, 96, 1, 41, 82, 75, 86, 59, 93, 54, 86, 51, 77, 41, 62, 26, 28, 90, 63, 43, 24, 54, 38, 100, 27, 59, 44, 11, 19, 32, 76, 89, 8, 29, 17, 14, 27, 98, 30, 84, 50, 17, 87, 62, 98, 44, 29, 22, 45, 45, 18, 41, 13, 65, 23, 10, 94, 87, 63, 19, 87, 9, 73, 16, 43, 35, 71, 85, 10, 39, 37, 75, 15, 17, 48, 77, 18, 86, 60, 82, 82, 23, 13, 94, 87, 66, 30, 16, 78, 76, 86, 95, 5, 23, 3, 21, 8, 19, 40, 30, 28, 10, 47, 43, 42, 23, 91, 5, 53, 18, 55, 7, 32, 98, 47, 23, 98, 33, 78, 79, 96, 31, 96, 70, 98, 57, 39, 55, 96, 15, 14, 44, 8, 95, 63, 10, 25, 20, 50, 22, 40, 78, 43, 54, 14, 38, 31, 71, 7, 83, 100, 9, 17, 24, 35, 85, 88, 43, 39, 54, 79, 36, 85, 53, 80, 95, 80, 10, 31, 48, 41, 42, 42, 68, 85, 55, 91, 98, 90, 11, 76, 49, 47, 22, 35, 1, 14, 48, 25, 52, 81, 32, 98, 13, 95, 94, 77, 92, 42, 33, 97, 77, 10, 63, 28, 4, 43, 25, 30, 13, 17, 83, 99, 54, 16, 3, 6, 96, 67, 87, 93, 68, 22, 51, 53, 99, 65, 91, 70, 12, 44, 15, 73, 29, 19, 78, 59, 10, 74, 96, 2, 64, 41, 100, 85, 38, 5, 16, 53, 22, 50, 27, 54, 6, 5, 59, 19, 49, 50, 4, 95, 32, 21, 50, 51, 84, 93, 45, 26, 46, 10, 17, 90, 23, 36, 96, 59, 57, 13, 94, 27, 3, 74, 31, 47, 62, 25, 87, 34, 87, 51, 40, 75, 38, 30, 100, 5, 73, 85, 55, 38, 20, 5, 6, 46, 86, 25, 32, 85, 60, 4, 89, 64, 91, 66, 77, 86, 68, 3, 18, 87, 79, 45, 94, 17, 85, 62, 22, 58, 32, 22, 35, 70, 33, 78, 31, 12, 61, 78, 95, 51, 89, 23, 28, 70, 22, 93, 50, 34, 41, 60, 63, 66, 12, 14, 77, 77, 50, 7, 14, 60, 55, 15, 76, 42, 28, 74, 84, 68, 76, 2, 37, 63, 69, 70, 96, 70, 11, 82, 9, 6, 99, 85, 65, 87, 26, 98, 60, 74, 64, 12, 53, 53, 97, 25, 40, 2, 60, 7, 26, 59, 48, 39, 10, 38, 49, 35, 34, 42, 41, 20, 32, 65, 69, 92, 17, 89, 15, 87, 91, 42, 63, 31, 86, 2, 68, 40, 33, 23, 8, 99, 36, 23, 22, 6, 8, 85, 96, 46, 23, 83, 31, 95, 89, 48, 45, 87, 4, 49, 43, 61, 66, 8, 30, 53, 26, 64, 53, 2, 79, 56, 4, 38, 36, 85, 4, 68, 46, 35, 99, 83, 99, 14, 86, 76, 89, 61, 52, 38, 55, 78, 67, 58, 71, 57, 57, 76, 58, 94, 61, 56, 5, 15, 39, 53, 28, 81, 72, 84, 54, 36, 36, 71, 63, 68, 8, 36, 7, 86, 48, 54, 83, 52, 55, 94, 26, 65, 67, 45, 21, 20, 71, 15, 10, 49, 68, 47, 27, 22, 48, 18, 25, 21, 76, 76, 17, 74, 5, 91, 69, 28, 38, 64, 97, 20, 53, 24, 91, 45, 16, 3, 67, 40, 55, 8, 14, 7, 75, 24, 7, 99, 35, 45, 33, 82, 50, 20, 10, 71, 80, 41, 73, 19, 26, 28, 63, 1, 56, 44, 31, 37, 18, 16, 79, 69, 77, 68, 32, 71, 64, 11, 56, 20, 3, 84, 45, 63, 98, 67, 3, 54, 50, 30, 66, 78, 56, 9, 48, 9, 36, 32, 29, 51, 72, 60, 30, 79, 30, 79, 64, 97, 21, 81, 3, 87, 21, 58, 92, 21, 100, 28, 68, 12, 90, 59, 74, 34, 9, 54, 69, 76, 58, 77, 59, 60, 43, 85, 37, 60, 46, 14, 75, 46, 83, 95, 55, 66, 31, 45, 4, 70, 19, 33, 4, 87, 37, 78, 32, 84, 55, 21, 2, 33, 49, 69, 57, 17, 43, 26, 39, 59, 70, 37, 92, 84, 40, 69, 4, 15, 39, 70, 18, 47, 98, 80, 23, 70, 7, 95, 79, 38, 32, 79, 64, 50, 62, 27, 46, 77, 61, 96, 86, 33, 43, 4, 100, 20, 80, 83, 3, 49, 56, 86, 77, 49, 29, 96, 31, 59, 63, 56, 7, 2, 91, 12, 61, 63, 32, 63, 6, 24, 12, 86, 33, 87, 91, 91, 22, 5, 46, 4, 79, 33, 59, 16, 87, 46, 91, 3, 18, 73, 33, 35, 17, 95, 65, 8, 7, 90, 19, 45, 40, 65, 18, 29, 5, 21, 25, 88, 87, 89, 43, 61, 30, 53, 98, 53, 55, 20, 55, 2, 16, 30, 47, 7, 65, 43, 43, 12, 62, 28, 47, 57, 88, 60, 48, 57, 17, 7, 46, 69, 70, 66, 74, 77, 35, 38, 49, 32, 30, 50, 26, 46, 8, 26, 66, 75, 12, 39, 98, 10, 84, 72, 71, 5, 14, 42, 82, 86, 55, 49, 12, 63, 83, 36, 1, 93, 10, 23, 29, 55, 64, 87, 77, 46, 13, 20, 16, 69, 100, 4, 44, 19, 75, 88, 80, 40, 26, 57, 73, 23, 45, 53, 24, 8, 10, 82, 56, 58, 86, 58, 18, 100, 92, 75, 71, 43, 94, 15, 65, 19, 92, 72, 56, 15, 50, 74, 65, 16, 54, 90, 43, 54, 31, 72, 12, 73, 70, 8, 81, 14, 11, 75, 47, 55, 23, 100, 2, 38, 69, 19, 76, 79, 10, 43, 81, 71, 49, 16, 51, 14, 15, 58, 11, 27, 72, 4, 3, 86, 7, 5, 16, 91, 78, 87, 33, 21, 73, 22, 99, 40, 52, 87, 56, 17, 65, 83, 84, 73, 71, 74, 67, 21, 30, 17, 32, 37, 70, 41, 25, 81, 22, 19, 8, 10, 41, 59, 91, 77, 78, 47, 22, 16, 58, 13, 40, 63, 95, 43, 48, 6, 77, 88, 88, 56, 20, 40, 50, 70, 4, 30, 83, 80, 96, 46, 98, 31, 27, 29, 58, 92, 21, 22, 41, 22, 28, 18, 8, 89, 19, 19, 22, 25, 40, 9, 27, 88, 96, 37, 89, 9, 92, 52, 67, 76, 34, 83, 3, 80, 47, 57, 78, 27, 90, 77, 14, 45, 58, 45, 93, 45, 86, 36, 58, 28, 38, 51, 42, 53, 11, 17, 6, 54, 50, 38, 95, 62, 49, 56, 95, 80, 69, 87, 55, 19, 39, 60, 87, 56, 68, 51, 6, 39, 43, 26, 6, 18, 50, 54, 88, 39, 26, 30, 75, 12, 21, 56, 5, 76, 97, 10, 40, 98, 95, 98, 83, 49, 2, 21, 29, 13, 87, 52, 26, 17, 84, 76, 90, 43, 48, 78, 55, 35, 66, 81, 68, 71, 28, 47, 53, 42, 69, 2, 72, 43, 22, 18, 92, 58, 54, 47, 80, 90, 76, 19, 17, 99, 20, 40, 78, 10, 24, 48, 8, 97, 52, 40, 52, 49, 86, 82, 58, 92, 72, 90, 45, 73, 66, 91, 14, 79, 19, 93, 24, 41, 3, 81, 2, 40, 41, 53, 37, 38, 15, 100, 2, 46, 74, 81, 79, 2, 99, 3, 73, 60, 1, 30, 1, 77, 63, 49, 87, 45, 54, 5, 27, 90, 61, 57, 94, 28, 57, 15, 16, 37, 78, 26, 73, 13, 58, 51, 73, 47, 22, 12, 24, 74, 90, 71, 64, 19, 92, 9, 91, 98, 80, 18, 42, 75, 33, 57, 7, 37, 44, 47, 84, 46, 46, 92, 54, 23, 6, 37, 11, 74, 79, 30, 2, 16, 39, 39, 30, 16, 9, 23, 21, 36, 48, 89, 22, 16, 11, 59, 28, 33, 12, 20, 100, 12, 19, 14, 79, 64, 79, 50, 89, 71, 49, 15, 14, 95, 55, 4, 3, 56, 41, 2, 78, 86, 20, 38, 58, 13, 99, 49, 33, 100, 52, 89, 49, 75, 51, 2, 12, 34, 41, 65, 88, 23, 2, 33, 95, 43, 50, 14, 34, 39, 70, 78, 36, 41, 54, 58, 48, 94, 70, 82, 84, 23, 68, 34, 98, 17, 59, 74, 85, 9, 92, 88, 16, 83, 88, 69, 58, 39, 64, 29, 64, 70, 85, 72, 47, 93, 25, 28, 23, 22, 39, 9, 48, 56, 17, 57, 2, 91, 20, 96, 47, 81, 91, 20, 19, 35, 88, 17, 96, 32, 92, 36, 6, 96, 34, 93, 58, 44, 45, 63, 36, 19, 6, 76, 60, 48, 97, 6, 24, 80, 40, 80, 23, 70, 27, 25, 61, 85, 71, 64, 47, 42, 58, 45, 72, 96, 52, 37, 3, 12, 79, 70, 76, 19, 20, 46, 41, 44, 53, 71, 13, 81, 27, 11, 58, 64, 37, 59, 48, 91, 28, 82, 29, 49, 19, 9, 26, 90, 19, 60, 20, 80, 9, 89, 3, 38, 22, 97, 2, 44, 57, 47, 18, 20, 61, 33, 37, 2, 64, 82, 64, 87, 100, 51, 40, 9, 95, 50, 81, 40, 85, 70, 53, 65, 53, 100, 83, 65, 30, 56, 22, 61, 50, 73, 74, 63, 15, 40, 15, 15, 6, 3, 21, 48, 16, 56, 36, 36, 60, 38, 26, 31, 60, 94, 83, 57, 26, 59, 84, 6, 12, 64, 23, 35, 30, 35, 26, 83, 17, 56, 38, 42, 64, 97, 80, 12, 14, 2, 82, 23, 8, 49, 21, 23, 97, 85, 72, 78, 83, 46, 22, 75, 5, 99, 1, 70, 32, 49, 74, 84, 33, 24, 9, 14, 76, 85, 83, 23, 1, 91, 84, 55, 2, 71, 99, 24, 63, 15, 87, 1, 85, 1, 50, 93, 72, 42, 47, 23, 57, 13, 24, 80, 59, 85, 84, 2, 56, 71, 32, 81, 14, 12, 18, 94, 82, 54, 52, 1, 60, 36, 74, 99, 92, 11, 28, 80, 97, 13, 81, 54, 24, 99, 48, 87, 58, 21, 16, 72, 62, 12, 69, 76, 65, 37, 75, 63, 73, 14, 21, 75, 81, 48, 24, 13, 90, 93, 64, 44, 7, 80, 93, 18, 19, 9, 77, 32, 22, 42, 79, 52, 33, 67, 47, 82, 60, 23, 27, 52, 17, 40, 22, 3, 41, 17, 72, 83, 99, 74, 74, 64, 95, 46, 41, 55, 10, 1, 47, 100, 91, 44, 90, 75, 87, 98, 86, 19, 65, 58, 55, 46, 70, 69, 6, 90, 78, 32, 91, 66, 22, 21, 96, 80, 43, 94, 81, 66, 25, 83, 52, 95, 13, 14, 81, 38, 97, 23, 4, 84, 26, 51, 47, 85, 33, 96, 44, 81, 17, 45, 32, 62, 2, 3, 62, 96, 53, 62, 19, 22, 94, 82, 30, 17, 50, 31, 26, 90, 25, 44, 97, 92, 54, 60, 25, 4, 55, 15, 97, 96, 75, 5, 51, 47, 61, 66, 77, 1, 11, 52, 12, 23, 16, 91, 27, 81, 95, 49, 70, 43, 25, 5, 95, 23, 58, 23, 22, 8, 1, 2, 24, 14, 53, 85, 97, 15, 71, 22, 27, 91, 35, 97, 21, 100, 86, 92, 36, 60, 47, 76, 70, 10, 80, 55, 50, 62, 91, 64, 81, 10, 83, 1, 79, 60, 26, 29, 39, 41, 29, 92, 43, 49, 93, 16, 26, 12, 37, 71, 45, 20, 80, 21, 75, 35, 48, 7, 43, 83, 50, 30, 9, 76, 45, 99, 31, 15, 44, 55, 13, 60, 30, 22, 64, 3, 25, 93, 74, 70, 95, 65, 74, 92, 83, 40, 7, 65, 54, 3, 34, 41, 63, 34, 77, 2, 14, 6, 26, 48, 70, 3, 96, 74, 22, 28, 3, 77, 71, 87, 17, 67, 97, 91, 63, 16, 13, 46, 40, 32, 37, 19, 26, 50, 67, 92, 99, 79, 34, 47, 56, 82, 44, 27, 96, 99, 45, 8, 31, 100, 38, 6, 27, 38, 59, 7, 98, 54, 59, 62, 12, 72, 74, 21, 37, 88, 84, 69, 48, 55, 60, 85, 9, 18, 56, 13, 6, 40, 33, 82, 36, 24, 62, 43, 28, 89, 49, 80, 13, 25, 31, 25, 13, 46, 84, 96, 25, 63, 49, 72, 56, 1, 94, 97, 31, 13, 39, 77, 76, 80, 94, 26, 51, 79, 3, 58, 18, 63, 99, 31, 63, 58, 42, 47, 39, 1, 19, 81, 54, 94, 35, 98, 90, 1, 15, 32, 17, 87, 25, 36, 61, 56, 28, 16, 63, 55, 74, 82, 16, 37, 82, 86, 3, 8, 54, 68, 14, 93, 93, 15, 81, 82, 75, 16, 76, 63, 32, 37, 91, 37, 94, 47, 100, 96, 52, 4, 49, 59, 8, 12, 53, 18, 43, 80, 75, 100, 92, 18, 35, 70, 60, 64, 7, 78, 16, 48, 75, 87, 54, 47, 25, 56, 90, 29, 67, 5, 3, 64, 55, 41, 25, 70, 26, 12, 39, 4, 29, 79, 98, 68, 34, 35, 99, 52, 25, 37, 4, 63, 13, 96, 66, 5, 68, 91, 69, 28, 82, 15, 52, 55, 38, 8, 1, 89, 41, 88, 36, 18, 21, 35, 96, 97, 82, 84, 90, 56, 96, 19, 53, 62, 39, 35, 11, 67, 42, 26, 82, 22, 88, 19, 55, 3, 22, 29, 64, 77, 55, 24, 47, 35, 93, 89, 64, 76, 62, 91, 15, 94, 33, 66, 91, 43, 51, 94, 7, 62, 62, 73, 79, 94, 65, 90, 21, 25, 44, 10, 49, 97, 67, 2, 87, 54, 7, 16, 71, 30, 47, 95, 44, 8, 14, 87, 7, 50, 35, 79, 68, 13, 44, 34, 57, 14, 3, 80, 2, 21, 90, 46, 42, 99, 94, 89, 55, 23, 54, 43, 39, 33, 92, 22, 5, 62, 22, 7, 36, 66, 71, 16, 37, 47, 3, 48, 43, 21, 35, 26, 33, 85, 66, 72, 24, 69, 74, 97, 41, 17, 84, 39, 21, 44, 1, 14, 8, 39, 64, 4, 7, 41, 52, 58, 80, 68, 74, 5, 35, 46, 29, 61, 91, 53, 44, 1, 79, 90, 53, 92, 86, 6, 25, 39, 51, 94, 48, 92, 75, 90, 100, 40, 41, 18, 3, 75, 15, 20, 94, 35, 25, 56, 1, 86, 25, 70, 36, 32, 91, 72, 9, 72, 87, 58, 55, 33, 5, 24, 55, 26, 22, 92, 68, 78, 73, 22, 77, 48, 9, 78, 64, 41, 13, 61, 36, 38, 56, 9, 95, 77, 95, 72, 94, 24, 32, 95, 46, 61, 1, 19, 54, 24, 23, 78, 25, 29, 87, 34, 60, 14, 28, 56, 66, 65, 79, 50, 53, 11, 92, 15, 62, 48, 64, 26, 33, 78, 37, 68, 87, 2, 92, 51, 25, 76, 49, 19, 92, 22, 91, 34, 50, 12, 32, 45, 16, 56, 62, 29, 53, 7, 22, 58, 47, 79, 3, 53, 15, 9, 69, 37, 38, 36, 39, 46, 17, 34, 4, 74, 16, 93, 93, 70, 89, 98, 2, 23, 62, 59, 25, 3, 5, 45, 83, 57, 19, 37, 22, 54, 42, 61, 10, 37, 43, 93, 59, 28, 74, 16, 96, 57, 82, 10, 14, 85, 6, 19, 52, 24, 22, 66, 67, 27, 83, 89, 28, 72, 94, 24, 49, 8, 15, 14, 78, 79, 40, 2, 15, 47, 89, 2, 26, 50, 75, 66, 56, 49, 73, 14, 94, 11, 23, 12, 60, 56, 99, 2, 28, 72, 22, 15, 50, 74, 56, 68, 22, 56, 23, 93, 55, 92, 12, 98, 40, 35, 68, 62, 83, 63, 38, 12, 100, 37, 22, 84, 11, 77, 74, 73, 44, 3, 75, 50, 83, 85, 30, 49, 9, 12, 19, 8, 95, 79, 79, 30, 5, 85, 7, 38, 8, 99, 2, 79, 15, 91, 4, 92, 66, 4, 70, 41, 18, 73, 15, 94, 86, 62, 69, 24, 54, 13, 24, 52, 100, 89, 46, 69, 52, 89, 17, 51, 68, 93, 32, 41, 63, 6, 15, 15, 48, 22, 93, 26, 6, 81, 24, 66, 84, 11, 47, 85, 44, 76, 35, 4, 11, 34, 28, 6, 93, 61, 55, 40, 73, 2, 46, 100, 13, 84, 52, 38, 2, 58, 8, 82, 11, 19, 96, 33, 15, 69, 70, 22, 47, 70, 2, 74, 74, 53, 47, 5, 10, 8, 3, 17, 76, 18, 86, 88, 47, 63, 45, 94, 27, 54, 8, 87, 93, 71, 45, 23, 45, 57, 11, 41, 47, 33, 12, 41, 88, 42, 83, 76, 95, 18, 34, 47, 65, 16, 25, 62, 98, 24, 19, 63, 91, 57, 4, 42, 76, 81, 27, 68, 64, 35, 50, 3, 52, 76, 63, 63, 69, 45, 83, 4, 22, 89, 21, 33, 86, 65, 93, 21, 35, 66, 51, 55, 22, 61, 98, 47, 25, 37, 38, 42, 46, 29, 39, 12, 19, 42, 34, 1, 22, 33, 50, 38, 62, 69, 66, 1, 70, 30, 62, 39, 6, 7, 75, 96, 92, 63, 48, 54, 56, 45, 36, 69, 6, 27, 47, 37, 85, 18, 4, 47, 61, 42, 30, 44, 87, 92, 44, 49, 71, 35, 19, 10, 29, 61, 100, 32, 16, 59, 88, 7, 13, 72, 66, 31, 29, 45, 24, 32, 75, 30, 27, 3, 7, 27, 84, 86, 13, 61, 57, 61, 79, 96, 100, 44, 20, 4, 43, 12, 44, 38, 98, 9, 51, 36, 81, 60, 32, 53, 67, 46, 20, 39, 11, 78, 95, 47, 98, 43, 51, 39, 67, 70, 73, 76, 66, 21, 19, 74, 50, 86, 26, 24, 61, 100, 68, 44, 82, 65, 58, 47, 43, 76, 74, 78, 18, 71, 5, 38, 15, 43, 53, 8, 38, 83, 95, 65, 68, 71, 100, 22, 100, 94, 32, 87, 77, 59, 94, 78, 64, 62, 65, 40, 58, 64, 80, 64, 70, 68, 53, 74, 5, 46, 19, 41, 59, 3, 59, 6, 27, 36, 28, 69, 94, 91, 62, 20, 24, 82, 37, 82, 21, 9, 67, 78, 94, 96, 18, 100, 24, 13, 65, 95, 72, 80, 65, 49, 21, 94, 67, 86, 10, 1, 35, 3, 20, 13, 84, 43, 87, 73, 22, 89, 92, 99, 78, 34, 23, 73, 13, 3, 25, 97, 51, 55, 82, 49, 25, 45, 55, 64, 77, 55, 13, 3, 21, 69, 43, 64, 31, 27, 29, 100, 20, 9, 98, 39, 54, 65, 78, 98, 97, 3, 59, 42, 3, 13, 5, 29, 100, 38, 10, 99, 79, 16, 29, 23, 31, 74, 40, 65, 39, 67, 86, 9, 99, 63, 48, 48, 47, 63, 43, 47, 6, 1, 69, 48, 27, 46, 44, 84, 51, 86, 95, 72, 35, 91, 99, 87, 3, 18, 75, 8, 68, 67, 1, 94, 74, 15, 23, 32, 46, 18, 6, 60, 21, 24, 74, 31, 96, 46, 65, 32, 8, 98, 31, 27, 100, 89, 76, 84, 89, 31, 24, 44, 85, 95, 87, 91, 60, 34, 23, 57, 6, 23, 18, 63, 44, 2, 13, 96, 30, 33, 60, 32, 85, 39, 91, 61, 93, 27, 64, 42, 85, 88, 29, 47, 51, 37, 20, 35, 35, 36, 52, 54, 27, 63, 34, 3, 42, 86, 80, 29, 19, 44, 5, 34, 18, 39, 74, 19, 36, 23, 45, 35, 55, 57, 52, 35, 26, 77, 15, 73, 11, 28, 97, 28, 63, 8, 11, 99, 25, 81, 29, 29, 84, 50, 47, 26, 3, 66, 50, 100, 87, 51, 26, 86, 34, 74, 84, 74, 81, 5, 98, 88, 81, 67, 23, 56, 4, 25, 83, 24, 52, 86, 14, 74, 63, 53, 23, 82, 80, 18, 34, 81, 59, 47, 60, 83, 91, 71, 60, 1, 53, 65, 30, 38, 99, 7, 58, 59, 40, 4, 85, 51, 55, 4, 55, 30, 88, 68, 70, 98, 7, 76, 97, 14, 27, 63, 51, 4, 33, 39, 68, 28, 100, 89, 95, 52, 54, 41, 49, 7, 84, 62, 98, 75, 85, 43, 22, 38, 7, 77, 79, 30, 76, 100, 38, 88, 76, 85, 10, 18, 21, 89, 47, 86, 47, 24, 68, 50, 66, 20, 92, 93, 93, 84, 6, 57, 74, 36, 3, 86, 25, 44, 64, 50, 20, 39, 24, 57, 65, 31, 29, 14, 81, 43, 69, 87, 10, 92, 4, 85, 52, 91, 83, 48, 4, 82, 43, 55, 43, 13, 33, 14, 18, 17, 54, 23, 13, 62, 10, 24, 89, 55, 83, 33, 93, 71, 77, 10, 24, 67, 98, 16, 7, 73, 17, 6, 50, 38, 28, 70, 64, 34, 53, 58, 73, 53, 11, 70, 62, 64, 31, 67, 86, 28, 57, 46, 76, 98, 52, 99, 37, 64, 3, 45, 34, 91, 26, 40, 58, 45, 29, 90, 88, 97, 50, 86, 96, 52, 28, 12, 49, 58, 80, 89, 43, 96, 26, 4, 44, 87, 46, 60, 83, 42, 5, 75, 31, 28, 30, 47, 56, 40, 94, 99, 97, 73, 82, 32, 12, 90, 68, 98, 88, 55, 7, 71, 79, 30, 38, 98, 58, 80, 10, 25, 100, 46, 52, 39, 86, 37, 4, 46, 8, 98, 33, 8, 74, 81, 95, 8, 26, 25, 84, 20, 64, 63, 27, 62, 87, 43, 83, 68, 14, 64, 29, 83, 77, 94, 94, 93, 43, 59, 33, 34, 51, 44, 55, 50, 73, 68, 17, 2, 86, 28, 54, 76, 62, 74, 57, 56, 79, 3, 65, 86, 49, 45, 64, 85, 8, 1, 37, 95, 36, 6, 89, 74, 4, 79, 13, 62, 30, 60, 63, 2, 50, 8, 95, 84, 42, 36, 61, 20, 98, 52, 87, 82, 79, 96, 89, 51, 20, 28, 12, 92, 88, 74, 97, 86, 32, 28, 10, 48, 73, 52, 16, 42, 54, 75, 15, 100, 42, 78, 24, 38, 14, 48, 57, 60, 8, 5, 60, 58, 73, 61, 69, 23, 32, 8, 86, 79, 63, 49, 42, 65, 77, 15, 58, 73, 62, 7, 41, 81, 31, 48, 35, 80, 57, 51, 94, 92, 11, 8, 84, 91, 78, 86, 46, 25, 24, 34, 85, 47, 44, 67, 72, 20, 7, 3, 50, 61, 81, 87, 21, 76, 13, 1, 70, 85, 4, 11, 89, 64, 30, 82, 44, 63, 45, 36, 93, 77, 18, 86, 43, 63, 93, 18, 26, 41, 69, 31, 33, 80, 18, 34, 18, 78, 22, 72, 99, 19, 25, 41, 21, 61, 3, 62, 80, 99, 45, 77, 45, 82, 61, 64, 66, 60, 72, 75, 95, 13, 22, 36, 39, 50, 97, 12, 68, 83, 1, 70, 52, 3, 30, 91, 2, 14, 38, 96, 8, 58, 33, 79, 13, 69, 35, 93, 6, 60, 81, 27, 89, 55, 16, 37, 57, 21, 20, 7, 3, 38, 96, 74, 29, 95, 70, 3, 54, 19, 49, 20, 83, 1, 15, 80, 73, 69, 53, 38, 67, 19, 31, 74, 72, 96, 52, 69, 74, 46, 63, 58, 78, 67, 10, 99, 55, 57, 32, 65, 48, 20, 78, 38, 16, 16, 73, 89, 25, 74, 40, 36, 11, 50, 71, 83, 4, 47, 51, 44, 72, 85, 48, 45, 31, 38, 84, 97, 28, 17, 25, 16, 22, 36, 81, 24, 19, 100, 51, 97, 27, 86, 36, 53, 58, 7, 42, 83, 6, 41, 60, 29, 83, 12, 45, 48, 97, 71, 50, 85, 16, 1, 65, 97, 14, 27, 74, 66, 77, 57, 88, 10, 10, 4, 61, 54, 76, 30, 16, 83, 20, 99, 51, 32, 80, 28, 18, 67, 58, 71, 27, 83, 1, 48, 24, 33, 20, 93, 75, 53, 54, 92, 11, 66, 58, 57, 74, 26, 33, 61, 46, 36, 24, 22, 85, 15, 25, 9, 80, 26, 60, 18, 81, 48, 33, 64, 46, 95, 84, 91, 1, 45, 31, 31, 4, 53, 91, 46, 23, 100, 25, 53, 2, 73, 13, 79, 36, 66, 43, 33, 33, 21, 12, 63, 36, 40, 53, 57, 83, 56, 88, 44, 87, 11, 21, 68, 46, 38, 99, 48, 45, 45, 94, 33, 97, 61, 89, 98, 29, 15, 10, 59, 6, 51, 13, 88, 40, 83, 64, 100, 47, 37, 92, 68, 27, 1, 67, 33, 52, 56, 94, 40, 72, 71, 39, 51, 51, 68, 92, 74, 85, 41, 33, 38, 53, 80, 73, 75, 77, 13, 87, 58, 81, 75, 14, 25, 36, 84, 82, 5, 90, 54, 83, 10, 59, 68, 41, 37, 14, 82, 11, 96, 81, 47, 51, 51, 96, 47, 45, 87, 31, 18, 3, 48, 69, 74, 75, 41, 79, 78, 72, 8, 53, 5, 44, 80, 81, 57, 81, 53, 15, 40, 58, 92, 66, 45, 35, 8, 45, 93, 26, 49, 79, 2, 14, 21, 53, 67, 71, 40, 65, 46, 83, 57, 96, 57, 96, 60, 1, 71, 27, 66, 37, 89, 79, 87, 26, 62, 61, 63, 48, 97, 26, 78, 20, 6, 72, 96, 28, 68, 24, 51, 81, 40, 35, 35, 92, 24, 71, 35, 21, 94, 66, 17, 53, 47, 67, 62, 87, 91, 78, 78, 74, 60, 48, 19, 42, 66, 15, 14, 36, 82, 13, 12, 10, 63, 18, 98, 30, 41, 37, 76, 31, 56, 96, 22, 26, 5, 76, 95, 97, 62, 7, 44, 90, 79, 20, 5, 55, 70, 35, 24, 59, 85, 98, 26, 60, 87, 66, 51, 32, 35, 88, 100, 34, 71, 28, 11, 69, 87, 6, 18, 26, 64, 22, 11, 51, 79, 45, 57, 98, 71, 19, 66, 51, 71, 91, 21, 54, 70, 47, 68, 90, 38, 84, 83, 75, 14, 53, 34, 100, 5, 26, 89, 79, 87, 94, 50, 87, 11, 88, 30, 44, 28, 32, 76, 71, 60, 81, 3, 75, 24, 90, 50, 37, 83, 32, 24, 80, 32, 48, 44, 6, 32, 36, 71, 95, 65, 67, 92, 52, 55, 53, 14, 2, 3, 60, 73, 83, 27, 50, 83, 8, 45, 13, 86, 8, 31, 100, 10, 33, 46, 19, 76, 26, 26, 21, 68, 48, 79, 60, 81, 56, 44, 90, 21, 14, 50, 2, 41, 39, 37, 92, 19, 45, 25, 75, 65, 16, 41, 16, 33, 45, 73, 39, 45, 26, 64, 57, 74, 56, 98, 40, 65, 28, 97, 55, 56, 82, 98, 65, 11, 47, 81, 65, 12, 55, 83, 5, 89, 29, 3, 70, 84]\n"
     ]
    }
   ],
   "source": [
    "a = []\n",
    "for i in table['numberOfRooms']:\n",
    "    a.append(parse_int(i, numwords={}))\n",
    "print(a)"
   ]
  },
  {
   "cell_type": "code",
   "execution_count": 56,
   "metadata": {},
   "outputs": [],
   "source": [
    "table[\"numberOfRooms\"]=a"
   ]
  },
  {
   "cell_type": "code",
   "execution_count": 57,
   "metadata": {},
   "outputs": [],
   "source": [
    "#Encodage de la target:Category\n",
    "bin_encoding1 = {'Basic':0, 'Luxury':1}\n",
    "table['category'] = table['category'].map(bin_encoding1)"
   ]
  },
  {
   "cell_type": "code",
   "execution_count": 58,
   "metadata": {},
   "outputs": [],
   "source": [
    "#Encodage de la variable:hasStormProtector\n",
    "table=table.replace(False, 0)\n",
    "table=table.replace(True, 1)"
   ]
  },
  {
   "cell_type": "markdown",
   "metadata": {},
   "source": [
    "### Suppression des varibles fortement correlés entre elles et les varaibles jugées non pertinentes\n",
    "- price vs squareMeters\n",
    "- hasStormProtector vs hasStorageRoom\n",
    "- cityCode; numPrevOwners; made ; Unnamed: 0"
   ]
  },
  {
   "cell_type": "code",
   "execution_count": 59,
   "metadata": {},
   "outputs": [],
   "source": [
    "table.drop([\"squareMeters\", \"hasStorageRoom\", \"cityCode\", \"numPrevOwners\",  \"made\", \"Unnamed: 0\"], axis=1, inplace=True)"
   ]
  },
  {
   "cell_type": "markdown",
   "metadata": {},
   "source": [
    "## One Hot Encoding de la varible PoolAndYard"
   ]
  },
  {
   "cell_type": "code",
   "execution_count": 60,
   "metadata": {},
   "outputs": [
    {
     "name": "stdout",
     "output_type": "stream",
     "text": [
      "Les variables catégorielles de la DataFrame sont :  ['PoolAndYard']\n"
     ]
    }
   ],
   "source": [
    "var_OHE = [col for col in table.columns if table[col].dtype=='O']\n",
    "\n",
    "print(\"Les variables catégorielles de la DataFrame sont : \", var_OHE)"
   ]
  },
  {
   "cell_type": "code",
   "execution_count": 61,
   "metadata": {},
   "outputs": [],
   "source": [
    "for col in var_OHE:\n",
    "    table = pd.get_dummies(table, columns = [col], prefix=col+'_')"
   ]
  },
  {
   "cell_type": "code",
   "execution_count": 62,
   "metadata": {},
   "outputs": [
    {
     "data": {
      "text/html": [
       "<div>\n",
       "<style scoped>\n",
       "    .dataframe tbody tr th:only-of-type {\n",
       "        vertical-align: middle;\n",
       "    }\n",
       "\n",
       "    .dataframe tbody tr th {\n",
       "        vertical-align: top;\n",
       "    }\n",
       "\n",
       "    .dataframe thead th {\n",
       "        text-align: right;\n",
       "    }\n",
       "</style>\n",
       "<table border=\"1\" class=\"dataframe\">\n",
       "  <thead>\n",
       "    <tr style=\"text-align: center;\">\n",
       "      <th></th>\n",
       "      <th>numberOfRooms</th>\n",
       "      <th>floors</th>\n",
       "      <th>cityPartRange</th>\n",
       "      <th>isNewBuilt</th>\n",
       "      <th>hasStormProtector</th>\n",
       "      <th>...</th>\n",
       "      <th>category</th>\n",
       "      <th>PoolAndYard__has pool and has yard</th>\n",
       "      <th>PoolAndYard__has pool and no yard</th>\n",
       "      <th>PoolAndYard__no pool and has yard</th>\n",
       "      <th>PoolAndYard__no pool and no yard</th>\n",
       "    </tr>\n",
       "  </thead>\n",
       "  <tbody>\n",
       "    <tr>\n",
       "      <th>0</th>\n",
       "      <td>3</td>\n",
       "      <td>63</td>\n",
       "      <td>3</td>\n",
       "      <td>0</td>\n",
       "      <td>1</td>\n",
       "      <td>...</td>\n",
       "      <td>0</td>\n",
       "      <td>0</td>\n",
       "      <td>1</td>\n",
       "      <td>0</td>\n",
       "      <td>0</td>\n",
       "    </tr>\n",
       "    <tr>\n",
       "      <th>1</th>\n",
       "      <td>39</td>\n",
       "      <td>98</td>\n",
       "      <td>8</td>\n",
       "      <td>1</td>\n",
       "      <td>0</td>\n",
       "      <td>...</td>\n",
       "      <td>1</td>\n",
       "      <td>1</td>\n",
       "      <td>0</td>\n",
       "      <td>0</td>\n",
       "      <td>0</td>\n",
       "    </tr>\n",
       "    <tr>\n",
       "      <th>2</th>\n",
       "      <td>58</td>\n",
       "      <td>19</td>\n",
       "      <td>6</td>\n",
       "      <td>0</td>\n",
       "      <td>0</td>\n",
       "      <td>...</td>\n",
       "      <td>0</td>\n",
       "      <td>0</td>\n",
       "      <td>1</td>\n",
       "      <td>0</td>\n",
       "      <td>0</td>\n",
       "    </tr>\n",
       "    <tr>\n",
       "      <th>3</th>\n",
       "      <td>47</td>\n",
       "      <td>6</td>\n",
       "      <td>10</td>\n",
       "      <td>0</td>\n",
       "      <td>1</td>\n",
       "      <td>...</td>\n",
       "      <td>0</td>\n",
       "      <td>0</td>\n",
       "      <td>0</td>\n",
       "      <td>0</td>\n",
       "      <td>1</td>\n",
       "    </tr>\n",
       "    <tr>\n",
       "      <th>4</th>\n",
       "      <td>19</td>\n",
       "      <td>90</td>\n",
       "      <td>3</td>\n",
       "      <td>1</td>\n",
       "      <td>0</td>\n",
       "      <td>...</td>\n",
       "      <td>1</td>\n",
       "      <td>1</td>\n",
       "      <td>0</td>\n",
       "      <td>0</td>\n",
       "      <td>0</td>\n",
       "    </tr>\n",
       "    <tr>\n",
       "      <th>...</th>\n",
       "      <td>...</td>\n",
       "      <td>...</td>\n",
       "      <td>...</td>\n",
       "      <td>...</td>\n",
       "      <td>...</td>\n",
       "      <td>...</td>\n",
       "      <td>...</td>\n",
       "      <td>...</td>\n",
       "      <td>...</td>\n",
       "      <td>...</td>\n",
       "      <td>...</td>\n",
       "    </tr>\n",
       "    <tr>\n",
       "      <th>9995</th>\n",
       "      <td>89</td>\n",
       "      <td>5</td>\n",
       "      <td>7</td>\n",
       "      <td>0</td>\n",
       "      <td>1</td>\n",
       "      <td>...</td>\n",
       "      <td>0</td>\n",
       "      <td>0</td>\n",
       "      <td>1</td>\n",
       "      <td>0</td>\n",
       "      <td>0</td>\n",
       "    </tr>\n",
       "    <tr>\n",
       "      <th>9996</th>\n",
       "      <td>29</td>\n",
       "      <td>12</td>\n",
       "      <td>9</td>\n",
       "      <td>0</td>\n",
       "      <td>1</td>\n",
       "      <td>...</td>\n",
       "      <td>0</td>\n",
       "      <td>1</td>\n",
       "      <td>0</td>\n",
       "      <td>0</td>\n",
       "      <td>0</td>\n",
       "    </tr>\n",
       "    <tr>\n",
       "      <th>9997</th>\n",
       "      <td>3</td>\n",
       "      <td>69</td>\n",
       "      <td>10</td>\n",
       "      <td>1</td>\n",
       "      <td>1</td>\n",
       "      <td>...</td>\n",
       "      <td>0</td>\n",
       "      <td>0</td>\n",
       "      <td>0</td>\n",
       "      <td>0</td>\n",
       "      <td>1</td>\n",
       "    </tr>\n",
       "    <tr>\n",
       "      <th>9998</th>\n",
       "      <td>70</td>\n",
       "      <td>96</td>\n",
       "      <td>1</td>\n",
       "      <td>0</td>\n",
       "      <td>1</td>\n",
       "      <td>...</td>\n",
       "      <td>0</td>\n",
       "      <td>0</td>\n",
       "      <td>0</td>\n",
       "      <td>0</td>\n",
       "      <td>1</td>\n",
       "    </tr>\n",
       "    <tr>\n",
       "      <th>9999</th>\n",
       "      <td>84</td>\n",
       "      <td>49</td>\n",
       "      <td>6</td>\n",
       "      <td>1</td>\n",
       "      <td>0</td>\n",
       "      <td>...</td>\n",
       "      <td>0</td>\n",
       "      <td>0</td>\n",
       "      <td>0</td>\n",
       "      <td>0</td>\n",
       "      <td>1</td>\n",
       "    </tr>\n",
       "  </tbody>\n",
       "</table>\n",
       "<p>10000 rows × 15 columns</p>\n",
       "</div>"
      ],
      "text/plain": [
       "      numberOfRooms  floors  cityPartRange  isNewBuilt  hasStormProtector  \\\n",
       "0           3          63          3             0              1           \n",
       "1          39          98          8             1              0           \n",
       "2          58          19          6             0              0           \n",
       "3          47           6         10             0              1           \n",
       "4          19          90          3             1              0           \n",
       "...             ...     ...            ...         ...                ...   \n",
       "9995       89           5          7             0              1           \n",
       "9996       29          12          9             0              1           \n",
       "9997        3          69         10             1              1           \n",
       "9998       70          96          1             0              1           \n",
       "9999       84          49          6             1              0           \n",
       "\n",
       "      ...  category  PoolAndYard__has pool and has yard  \\\n",
       "0     ...      0                      0                   \n",
       "1     ...      1                      1                   \n",
       "2     ...      0                      0                   \n",
       "3     ...      0                      0                   \n",
       "4     ...      1                      1                   \n",
       "...   ...       ...                                 ...   \n",
       "9995  ...      0                      0                   \n",
       "9996  ...      0                      1                   \n",
       "9997  ...      0                      0                   \n",
       "9998  ...      0                      0                   \n",
       "9999  ...      0                      0                   \n",
       "\n",
       "      PoolAndYard__has pool and no yard  PoolAndYard__no pool and has yard  \\\n",
       "0                     1                                  0                   \n",
       "1                     0                                  0                   \n",
       "2                     1                                  0                   \n",
       "3                     0                                  0                   \n",
       "4                     0                                  0                   \n",
       "...                                 ...                                ...   \n",
       "9995                  1                                  0                   \n",
       "9996                  0                                  0                   \n",
       "9997                  0                                  0                   \n",
       "9998                  0                                  0                   \n",
       "9999                  0                                  0                   \n",
       "\n",
       "      PoolAndYard__no pool and no yard  \n",
       "0                     0                 \n",
       "1                     0                 \n",
       "2                     0                 \n",
       "3                     1                 \n",
       "4                     0                 \n",
       "...                                ...  \n",
       "9995                  0                 \n",
       "9996                  0                 \n",
       "9997                  1                 \n",
       "9998                  1                 \n",
       "9999                  1                 \n",
       "\n",
       "[10000 rows x 15 columns]"
      ]
     },
     "execution_count": 62,
     "metadata": {},
     "output_type": "execute_result"
    }
   ],
   "source": [
    "table"
   ]
  },
  {
   "cell_type": "code",
   "execution_count": null,
   "metadata": {},
   "outputs": [],
   "source": []
  }
 ],
 "metadata": {
  "kernelspec": {
   "display_name": "Python 3",
   "language": "python",
   "name": "python3"
  },
  "language_info": {
   "codemirror_mode": {
    "name": "ipython",
    "version": 3
   },
   "file_extension": ".py",
   "mimetype": "text/x-python",
   "name": "python",
   "nbconvert_exporter": "python",
   "pygments_lexer": "ipython3",
   "version": "3.8.8"
  }
 },
 "nbformat": 4,
 "nbformat_minor": 4
}
