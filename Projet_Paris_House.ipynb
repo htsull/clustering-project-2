{
 "cells": [
  {
   "cell_type": "markdown",
   "metadata": {},
   "source": [
    "# **Contents**"
   ]
  },
  {
   "cell_type": "markdown",
   "metadata": {},
   "source": [
    "1. [**Section 1**](#sec1)\n",
    "    - [**System setup**](#sec1.1)\n",
    "    - [**Importing data**](#sec1.2)\n",
    "    - [**Exploratory data analysis**](#sec1.3)\n",
    "    - [**Models specification**](#sec1.4)\n",
    "    - [**Findings**](#sec1.5)\n",
    "2. [**Section 2**](#sec2)\n",
    "    - [**System setup**](#sec2.1)\n",
    "    - [**Importing data**](#sec2.2)\n",
    "    - [**Exploratory data analysis**](#sec2.3)\n",
    "    - [**Specification**](#sec2.4)\n",
    "        - [**K-means**](#sec2.4.1)\n",
    "        - [**Gaussian Mixture**](#sec2.4.2)\n",
    "    - [**Findings**](#sec2.5)"
   ]
  },
  {
   "cell_type": "markdown",
   "metadata": {},
   "source": [
    "# **Section 1** <a id='sec1'></a>"
   ]
  },
  {
   "cell_type": "markdown",
   "metadata": {},
   "source": [
    "## System setup <a id='sec1.1'></a>"
   ]
  },
  {
   "cell_type": "code",
   "execution_count": 2,
   "metadata": {},
   "outputs": [],
   "source": [
    "import pandas as pd \n",
    "import numpy as np \n",
    "import seaborn as sns\n",
    "import matplotlib.pyplot as plt\n",
    "%matplotlib inline\n",
    "import warnings \n",
    "warnings.filterwarnings(\"ignore\", category=FutureWarning)\n",
    "from IPython.display import display\n",
    "from scipy.stats import norm\n",
    "from sklearn.model_selection import train_test_split\n",
    "from sklearn.neighbors import KNeighborsClassifier\n",
    "from sklearn.metrics import accuracy_score, plot_confusion_matrix, classification_report, f1_score, roc_auc_score, roc_curve\n",
    "from sklearn.model_selection import GridSearchCV, cross_val_score\n",
    "from sklearn.preprocessing import normalize\n",
    "from sklearn.discriminant_analysis import LinearDiscriminantAnalysis\n",
    "from sklearn.linear_model import LogisticRegression\n",
    "from sklearn.svm import SVC\n",
    "from imblearn.under_sampling import RandomUnderSampler\n",
    "from collections import Counter"
   ]
  },
  {
   "cell_type": "code",
   "execution_count": 3,
   "metadata": {},
   "outputs": [],
   "source": [
    "pd.set_option(\"max_rows\", 10) # max rows to show\n",
    "pd.set_option(\"max_columns\",10) # max columns to show\n",
    "pd.set_option(\"precision\", 5) # rounding\n",
    "pd.set_option(\"colheader_justify\", \"center\")# center the values\n",
    "pd.set_option('display.float_format', lambda x: '%.3f' % x)"
   ]
  },
  {
   "cell_type": "markdown",
   "metadata": {},
   "source": [
    "## Importing data <a id='sec1.2'></a>"
   ]
  },
  {
   "cell_type": "code",
   "execution_count": 4,
   "metadata": {},
   "outputs": [],
   "source": [
    "data = pd.read_csv(\"data/ParisHousing/ParisHousing.csv\", sep=',', delimiter=None, \n",
    "                   header='infer',names=None, index_col=None, usecols=None)"
   ]
  },
  {
   "cell_type": "markdown",
   "metadata": {},
   "source": [
    "## Exploratory data analysis <a id='sec1.3'></a>"
   ]
  },
  {
   "cell_type": "markdown",
   "metadata": {},
   "source": [
    "### Description and exploration of the dataset"
   ]
  },
  {
   "cell_type": "code",
   "execution_count": 5,
   "metadata": {},
   "outputs": [
    {
     "data": {
      "text/html": [
       "<div>\n",
       "<style scoped>\n",
       "    .dataframe tbody tr th:only-of-type {\n",
       "        vertical-align: middle;\n",
       "    }\n",
       "\n",
       "    .dataframe tbody tr th {\n",
       "        vertical-align: top;\n",
       "    }\n",
       "\n",
       "    .dataframe thead th {\n",
       "        text-align: right;\n",
       "    }\n",
       "</style>\n",
       "<table border=\"1\" class=\"dataframe\">\n",
       "  <thead>\n",
       "    <tr style=\"text-align: center;\">\n",
       "      <th></th>\n",
       "      <th>Unnamed: 0</th>\n",
       "      <th>squareMeters</th>\n",
       "      <th>floors</th>\n",
       "      <th>cityCode</th>\n",
       "      <th>cityPartRange</th>\n",
       "      <th>...</th>\n",
       "      <th>basement</th>\n",
       "      <th>attic</th>\n",
       "      <th>garage</th>\n",
       "      <th>hasGuestRoom</th>\n",
       "      <th>price</th>\n",
       "    </tr>\n",
       "  </thead>\n",
       "  <tbody>\n",
       "    <tr>\n",
       "      <th>count</th>\n",
       "      <td>10000.000</td>\n",
       "      <td>10000.000</td>\n",
       "      <td>10000.000</td>\n",
       "      <td>10000.000</td>\n",
       "      <td>10000.000</td>\n",
       "      <td>...</td>\n",
       "      <td>10000.000</td>\n",
       "      <td>10000.000</td>\n",
       "      <td>10000.000</td>\n",
       "      <td>10000.000</td>\n",
       "      <td>10000.000</td>\n",
       "    </tr>\n",
       "    <tr>\n",
       "      <th>mean</th>\n",
       "      <td>4999.500</td>\n",
       "      <td>49870.131</td>\n",
       "      <td>50.276</td>\n",
       "      <td>50225.486</td>\n",
       "      <td>5.510</td>\n",
       "      <td>...</td>\n",
       "      <td>5033.104</td>\n",
       "      <td>5028.011</td>\n",
       "      <td>553.121</td>\n",
       "      <td>4.995</td>\n",
       "      <td>4993447.526</td>\n",
       "    </tr>\n",
       "    <tr>\n",
       "      <th>std</th>\n",
       "      <td>2886.896</td>\n",
       "      <td>28774.375</td>\n",
       "      <td>28.889</td>\n",
       "      <td>29006.676</td>\n",
       "      <td>2.872</td>\n",
       "      <td>...</td>\n",
       "      <td>2876.730</td>\n",
       "      <td>2894.332</td>\n",
       "      <td>262.050</td>\n",
       "      <td>3.176</td>\n",
       "      <td>2877424.110</td>\n",
       "    </tr>\n",
       "    <tr>\n",
       "      <th>min</th>\n",
       "      <td>0.000</td>\n",
       "      <td>89.000</td>\n",
       "      <td>1.000</td>\n",
       "      <td>3.000</td>\n",
       "      <td>1.000</td>\n",
       "      <td>...</td>\n",
       "      <td>0.000</td>\n",
       "      <td>1.000</td>\n",
       "      <td>100.000</td>\n",
       "      <td>0.000</td>\n",
       "      <td>10313.500</td>\n",
       "    </tr>\n",
       "    <tr>\n",
       "      <th>25%</th>\n",
       "      <td>2499.750</td>\n",
       "      <td>25098.500</td>\n",
       "      <td>25.000</td>\n",
       "      <td>24693.750</td>\n",
       "      <td>3.000</td>\n",
       "      <td>...</td>\n",
       "      <td>2559.750</td>\n",
       "      <td>2512.000</td>\n",
       "      <td>327.750</td>\n",
       "      <td>2.000</td>\n",
       "      <td>2516401.950</td>\n",
       "    </tr>\n",
       "    <tr>\n",
       "      <th>50%</th>\n",
       "      <td>4999.500</td>\n",
       "      <td>50105.500</td>\n",
       "      <td>50.000</td>\n",
       "      <td>50693.000</td>\n",
       "      <td>5.000</td>\n",
       "      <td>...</td>\n",
       "      <td>5092.500</td>\n",
       "      <td>5045.000</td>\n",
       "      <td>554.000</td>\n",
       "      <td>5.000</td>\n",
       "      <td>5016180.300</td>\n",
       "    </tr>\n",
       "    <tr>\n",
       "      <th>75%</th>\n",
       "      <td>7499.250</td>\n",
       "      <td>74609.750</td>\n",
       "      <td>76.000</td>\n",
       "      <td>75683.250</td>\n",
       "      <td>8.000</td>\n",
       "      <td>...</td>\n",
       "      <td>7511.250</td>\n",
       "      <td>7540.500</td>\n",
       "      <td>777.250</td>\n",
       "      <td>8.000</td>\n",
       "      <td>7469092.450</td>\n",
       "    </tr>\n",
       "    <tr>\n",
       "      <th>max</th>\n",
       "      <td>9999.000</td>\n",
       "      <td>99999.000</td>\n",
       "      <td>100.000</td>\n",
       "      <td>99953.000</td>\n",
       "      <td>10.000</td>\n",
       "      <td>...</td>\n",
       "      <td>10000.000</td>\n",
       "      <td>10000.000</td>\n",
       "      <td>1000.000</td>\n",
       "      <td>10.000</td>\n",
       "      <td>10006771.200</td>\n",
       "    </tr>\n",
       "  </tbody>\n",
       "</table>\n",
       "<p>8 rows × 12 columns</p>\n",
       "</div>"
      ],
      "text/plain": [
       "       Unnamed: 0  squareMeters   floors   cityCode  cityPartRange  ...  \\\n",
       "count  10000.000    10000.000   10000.000 10000.000   10000.000     ...   \n",
       "mean    4999.500    49870.131      50.276 50225.486       5.510     ...   \n",
       "std     2886.896    28774.375      28.889 29006.676       2.872     ...   \n",
       "min        0.000       89.000       1.000     3.000       1.000     ...   \n",
       "25%     2499.750    25098.500      25.000 24693.750       3.000     ...   \n",
       "50%     4999.500    50105.500      50.000 50693.000       5.000     ...   \n",
       "75%     7499.250    74609.750      76.000 75683.250       8.000     ...   \n",
       "max     9999.000    99999.000     100.000 99953.000      10.000     ...   \n",
       "\n",
       "       basement    attic    garage   hasGuestRoom     price     \n",
       "count 10000.000 10000.000 10000.000   10000.000      10000.000  \n",
       "mean   5033.104  5028.011   553.121       4.995    4993447.526  \n",
       "std    2876.730  2894.332   262.050       3.176    2877424.110  \n",
       "min       0.000     1.000   100.000       0.000      10313.500  \n",
       "25%    2559.750  2512.000   327.750       2.000    2516401.950  \n",
       "50%    5092.500  5045.000   554.000       5.000    5016180.300  \n",
       "75%    7511.250  7540.500   777.250       8.000    7469092.450  \n",
       "max   10000.000 10000.000  1000.000      10.000   10006771.200  \n",
       "\n",
       "[8 rows x 12 columns]"
      ]
     },
     "execution_count": 5,
     "metadata": {},
     "output_type": "execute_result"
    }
   ],
   "source": [
    "data.describe()"
   ]
  },
  {
   "cell_type": "code",
   "execution_count": 7,
   "metadata": {},
   "outputs": [
    {
     "name": "stdout",
     "output_type": "stream",
     "text": [
      "Overview of the data :\n"
     ]
    },
    {
     "data": {
      "text/html": [
       "<div>\n",
       "<style scoped>\n",
       "    .dataframe tbody tr th:only-of-type {\n",
       "        vertical-align: middle;\n",
       "    }\n",
       "\n",
       "    .dataframe tbody tr th {\n",
       "        vertical-align: top;\n",
       "    }\n",
       "\n",
       "    .dataframe thead th {\n",
       "        text-align: right;\n",
       "    }\n",
       "</style>\n",
       "<table border=\"1\" class=\"dataframe\">\n",
       "  <thead>\n",
       "    <tr style=\"text-align: center;\">\n",
       "      <th></th>\n",
       "      <th>Unnamed: 0</th>\n",
       "      <th>squareMeters</th>\n",
       "      <th>numberOfRooms</th>\n",
       "      <th>floors</th>\n",
       "      <th>cityCode</th>\n",
       "      <th>...</th>\n",
       "      <th>hasStorageRoom</th>\n",
       "      <th>hasGuestRoom</th>\n",
       "      <th>price</th>\n",
       "      <th>category</th>\n",
       "      <th>PoolAndYard</th>\n",
       "    </tr>\n",
       "  </thead>\n",
       "  <tbody>\n",
       "    <tr>\n",
       "      <th>0</th>\n",
       "      <td>0</td>\n",
       "      <td>75523</td>\n",
       "      <td>three</td>\n",
       "      <td>63</td>\n",
       "      <td>9373</td>\n",
       "      <td>...</td>\n",
       "      <td>False</td>\n",
       "      <td>7</td>\n",
       "      <td>7559081.500</td>\n",
       "      <td>Basic</td>\n",
       "      <td>has pool and no yard</td>\n",
       "    </tr>\n",
       "    <tr>\n",
       "      <th>1</th>\n",
       "      <td>1</td>\n",
       "      <td>80771</td>\n",
       "      <td>thirty-nine</td>\n",
       "      <td>98</td>\n",
       "      <td>39381</td>\n",
       "      <td>...</td>\n",
       "      <td>True</td>\n",
       "      <td>2</td>\n",
       "      <td>8085989.500</td>\n",
       "      <td>Luxury</td>\n",
       "      <td>has pool and has yard</td>\n",
       "    </tr>\n",
       "    <tr>\n",
       "      <th>2</th>\n",
       "      <td>2</td>\n",
       "      <td>55712</td>\n",
       "      <td>fifty-eight</td>\n",
       "      <td>19</td>\n",
       "      <td>34457</td>\n",
       "      <td>...</td>\n",
       "      <td>True</td>\n",
       "      <td>9</td>\n",
       "      <td>5574642.100</td>\n",
       "      <td>Basic</td>\n",
       "      <td>has pool and no yard</td>\n",
       "    </tr>\n",
       "    <tr>\n",
       "      <th>3</th>\n",
       "      <td>3</td>\n",
       "      <td>32316</td>\n",
       "      <td>forty-seven</td>\n",
       "      <td>6</td>\n",
       "      <td>27939</td>\n",
       "      <td>...</td>\n",
       "      <td>False</td>\n",
       "      <td>3</td>\n",
       "      <td>3232561.200</td>\n",
       "      <td>Basic</td>\n",
       "      <td>no pool and no yard</td>\n",
       "    </tr>\n",
       "    <tr>\n",
       "      <th>4</th>\n",
       "      <td>4</td>\n",
       "      <td>70429</td>\n",
       "      <td>nineteen</td>\n",
       "      <td>90</td>\n",
       "      <td>38045</td>\n",
       "      <td>...</td>\n",
       "      <td>True</td>\n",
       "      <td>4</td>\n",
       "      <td>7055052.000</td>\n",
       "      <td>Luxury</td>\n",
       "      <td>has pool and has yard</td>\n",
       "    </tr>\n",
       "    <tr>\n",
       "      <th>5</th>\n",
       "      <td>5</td>\n",
       "      <td>39223</td>\n",
       "      <td>thirty-six</td>\n",
       "      <td>17</td>\n",
       "      <td>39489</td>\n",
       "      <td>...</td>\n",
       "      <td>False</td>\n",
       "      <td>1</td>\n",
       "      <td>3926647.200</td>\n",
       "      <td>Basic</td>\n",
       "      <td>has pool and no yard</td>\n",
       "    </tr>\n",
       "    <tr>\n",
       "      <th>6</th>\n",
       "      <td>6</td>\n",
       "      <td>58682</td>\n",
       "      <td>ten</td>\n",
       "      <td>99</td>\n",
       "      <td>6450</td>\n",
       "      <td>...</td>\n",
       "      <td>False</td>\n",
       "      <td>5</td>\n",
       "      <td>5876376.500</td>\n",
       "      <td>Luxury</td>\n",
       "      <td>has pool and has yard</td>\n",
       "    </tr>\n",
       "    <tr>\n",
       "      <th>7</th>\n",
       "      <td>7</td>\n",
       "      <td>86929</td>\n",
       "      <td>one hundred</td>\n",
       "      <td>11</td>\n",
       "      <td>98155</td>\n",
       "      <td>...</td>\n",
       "      <td>False</td>\n",
       "      <td>10</td>\n",
       "      <td>8696869.300</td>\n",
       "      <td>Basic</td>\n",
       "      <td>no pool and has yard</td>\n",
       "    </tr>\n",
       "    <tr>\n",
       "      <th>8</th>\n",
       "      <td>8</td>\n",
       "      <td>51522</td>\n",
       "      <td>three</td>\n",
       "      <td>61</td>\n",
       "      <td>9047</td>\n",
       "      <td>...</td>\n",
       "      <td>True</td>\n",
       "      <td>5</td>\n",
       "      <td>5154055.200</td>\n",
       "      <td>Basic</td>\n",
       "      <td>no pool and no yard</td>\n",
       "    </tr>\n",
       "    <tr>\n",
       "      <th>9</th>\n",
       "      <td>9</td>\n",
       "      <td>39686</td>\n",
       "      <td>forty-two</td>\n",
       "      <td>15</td>\n",
       "      <td>71019</td>\n",
       "      <td>...</td>\n",
       "      <td>True</td>\n",
       "      <td>3</td>\n",
       "      <td>3970892.100</td>\n",
       "      <td>Basic</td>\n",
       "      <td>no pool and no yard</td>\n",
       "    </tr>\n",
       "  </tbody>\n",
       "</table>\n",
       "<p>10 rows × 18 columns</p>\n",
       "</div>"
      ],
      "text/plain": [
       "   Unnamed: 0  squareMeters numberOfRooms  floors  cityCode  ...  \\\n",
       "0       0          75523            three    63       9373   ...   \n",
       "1       1          80771      thirty-nine    98      39381   ...   \n",
       "2       2          55712      fifty-eight    19      34457   ...   \n",
       "3       3          32316      forty-seven     6      27939   ...   \n",
       "4       4          70429         nineteen    90      38045   ...   \n",
       "5       5          39223       thirty-six    17      39489   ...   \n",
       "6       6          58682              ten    99       6450   ...   \n",
       "7       7          86929      one hundred    11      98155   ...   \n",
       "8       8          51522            three    61       9047   ...   \n",
       "9       9          39686        forty-two    15      71019   ...   \n",
       "\n",
       "   hasStorageRoom  hasGuestRoom     price    category       PoolAndYard       \n",
       "0       False            7      7559081.500    Basic    has pool and no yard  \n",
       "1        True            2      8085989.500   Luxury   has pool and has yard  \n",
       "2        True            9      5574642.100    Basic    has pool and no yard  \n",
       "3       False            3      3232561.200    Basic     no pool and no yard  \n",
       "4        True            4      7055052.000   Luxury   has pool and has yard  \n",
       "5       False            1      3926647.200    Basic    has pool and no yard  \n",
       "6       False            5      5876376.500   Luxury   has pool and has yard  \n",
       "7       False           10      8696869.300    Basic    no pool and has yard  \n",
       "8        True            5      5154055.200    Basic     no pool and no yard  \n",
       "9        True            3      3970892.100    Basic     no pool and no yard  \n",
       "\n",
       "[10 rows x 18 columns]"
      ]
     },
     "execution_count": 7,
     "metadata": {},
     "output_type": "execute_result"
    }
   ],
   "source": [
    "print('Overview of the data :')\n",
    "data.head(10)"
   ]
  },
  {
   "cell_type": "code",
   "execution_count": 8,
   "metadata": {},
   "outputs": [
    {
     "name": "stdout",
     "output_type": "stream",
     "text": [
      "Dimension of the data : (10000, 18)\n",
      "====================================================================================================\n",
      "Description of the variables :\n",
      "<class 'pandas.core.frame.DataFrame'>\n",
      "RangeIndex: 10000 entries, 0 to 9999\n",
      "Data columns (total 18 columns):\n",
      " #   Column             Non-Null Count  Dtype  \n",
      "---  ------             --------------  -----  \n",
      " 0   Unnamed: 0         10000 non-null  int64  \n",
      " 1   squareMeters       10000 non-null  int64  \n",
      " 2   numberOfRooms      10000 non-null  object \n",
      " 3   floors             10000 non-null  int64  \n",
      " 4   cityCode           10000 non-null  int64  \n",
      " 5   cityPartRange      10000 non-null  int64  \n",
      " 6   numPrevOwners      10000 non-null  int64  \n",
      " 7   made               10000 non-null  int64  \n",
      " 8   isNewBuilt         10000 non-null  bool   \n",
      " 9   hasStormProtector  10000 non-null  bool   \n",
      " 10  basement           10000 non-null  int64  \n",
      " 11  attic              10000 non-null  int64  \n",
      " 12  garage             10000 non-null  int64  \n",
      " 13  hasStorageRoom     10000 non-null  bool   \n",
      " 14  hasGuestRoom       10000 non-null  int64  \n",
      " 15  price              10000 non-null  float64\n",
      " 16  category           10000 non-null  object \n",
      " 17  PoolAndYard        10000 non-null  object \n",
      "dtypes: bool(3), float64(1), int64(11), object(3)\n",
      "memory usage: 1.2+ MB\n"
     ]
    }
   ],
   "source": [
    "print(\"Dimension of the data : {}\".format(data.shape))\n",
    "print(\"=\"*100)\n",
    "print(\"Description of the variables :\")\n",
    "data.info()"
   ]
  },
  {
   "cell_type": "code",
   "execution_count": 9,
   "metadata": {},
   "outputs": [
    {
     "name": "stdout",
     "output_type": "stream",
     "text": [
      "Index verification : RangeIndex(start=0, stop=10000, step=1)\n",
      "=================================================================\n",
      "Duplicate Label Detection : True = No duplicated labels\n",
      "=================================================================\n",
      "Duplicate Index Detection : True = No duplicated Indexes\n",
      "=================================================================\n"
     ]
    }
   ],
   "source": [
    "# Index verfication\n",
    "print(\"Index verification : {}\".format(data.index))\n",
    "print(\"=================================================================\")\n",
    "# Duplicate Label Detection\n",
    "print(\"Duplicate Label Detection : {} = No duplicated labels\".format(data.columns.is_unique))\n",
    "print(\"=================================================================\")\n",
    "# Duplicate Index Detection\n",
    "print(\"Duplicate Index Detection : {} = No duplicated Indexes\".format(data.index.is_unique))\n",
    "print(\"=================================================================\")"
   ]
  },
  {
   "cell_type": "code",
   "execution_count": 10,
   "metadata": {},
   "outputs": [],
   "source": [
    "# Missing values handling\n",
    "def missing(df):\n",
    "    na_pourcentage = df.isnull().sum().sort_values(ascending = False)/len(df)*100\n",
    "    return na_pourcentage"
   ]
  },
  {
   "cell_type": "code",
   "execution_count": 11,
   "metadata": {},
   "outputs": [
    {
     "name": "stdout",
     "output_type": "stream",
     "text": [
      "The dataset contains no missing values. \n",
      "\n",
      "Unnamed: 0      0.000\n",
      "squareMeters    0.000\n",
      "category        0.000\n",
      "price           0.000\n",
      "hasGuestRoom    0.000\n",
      "                 ... \n",
      "cityPartRange   0.000\n",
      "cityCode        0.000\n",
      "floors          0.000\n",
      "numberOfRooms   0.000\n",
      "PoolAndYard     0.000\n",
      "Length: 18, dtype: float64\n",
      "====================================================================================================\n"
     ]
    }
   ],
   "source": [
    "print(\"The dataset contains no missing values. \\n\")\n",
    "print(missing(data))\n",
    "print(\"=\"*100)"
   ]
  },
  {
   "cell_type": "markdown",
   "metadata": {},
   "source": [
    "### Outliers handling"
   ]
  },
  {
   "cell_type": "code",
   "execution_count": 13,
   "metadata": {},
   "outputs": [
    {
     "name": "stdout",
     "output_type": "stream",
     "text": [
      "Verification of outliers and symmetry (`Price` variable case) :\n"
     ]
    },
    {
     "data": {
      "image/png": "[encoded data removed]",
      "text/plain": [
       "<Figure size 432x288 with 1 Axes>"
      ]
     },
     "metadata": {
      "needs_background": "light"
     },
     "output_type": "display_data"
    },
    {
     "name": "stdout",
     "output_type": "stream",
     "text": [
      "=================================================================\n"
     ]
    },
    {
     "data": {
      "image/png": "[encoded data removed]",
      "text/plain": [
       "<Figure size 432x288 with 1 Axes>"
      ]
     },
     "metadata": {
      "needs_background": "light"
     },
     "output_type": "display_data"
    },
    {
     "name": "stdout",
     "output_type": "stream",
     "text": [
      "=================================================================\n"
     ]
    }
   ],
   "source": [
    "print(\"Verification of outliers and symmetry (`Price` variable case) :\")\n",
    "sns.boxplot(data['price']);\n",
    "plt.title(\"Boxplot of price\")\n",
    "plt.show()\n",
    "print(\"=================================================================\")\n",
    "#On cherche à savoir si la variable est symétrique ou pas\n",
    "sns.distplot(data['price']);\n",
    "plt.title(\"Distribution of price\")\n",
    "plt.show()\n",
    "print(\"=================================================================\")"
   ]
  },
  {
   "cell_type": "markdown",
   "metadata": {},
   "source": [
    "Comment : There are no outliers in the price variable"
   ]
  },
  {
   "cell_type": "markdown",
   "metadata": {},
   "source": [
    "### Data Visualization"
   ]
  },
  {
   "cell_type": "code",
   "execution_count": 14,
   "metadata": {},
   "outputs": [
    {
     "data": {
      "text/html": [
       "<style>\n",
       ".output_png {display: table-cell; text-align: center; vertical-align: middle;}\n",
       "</style>"
      ],
      "text/plain": [
       "<IPython.core.display.HTML object>"
      ]
     },
     "execution_count": 14,
     "metadata": {},
     "output_type": "execute_result"
    }
   ],
   "source": [
    "### HTML layout display setup\n",
    "from IPython.core.display import HTML\n",
    "HTML(\"\"\"<style>\n",
    ".output_png {display: table-cell; text-align: center; vertical-align: middle;}\n",
    "</style>\"\"\")"
   ]
  },
  {
   "cell_type": "code",
   "execution_count": 15,
   "metadata": {},
   "outputs": [
    {
     "data": {
      "image/png": "[encoded data removed]",
      "text/plain": [
       "<Figure size 432x288 with 1 Axes>"
      ]
     },
     "metadata": {},
     "output_type": "display_data"
    }
   ],
   "source": [
    "#Création d'un camembert de la variable Category pour les 2 modalités : Basic et Luxury\n",
    "plt.title(\"Pie chart of the `Cateogory` variable\", fontsize=14)\n",
    "labels =\"Basic\", \"Luxury\"\n",
    "colors = [\"#3791D7\", \"#D72626\"]\n",
    "dt = data[\"category\"].value_counts()\n",
    "dt.plot.pie(explode=[0,0.15], autopct='%1.1f%%', shadow=True, colors=colors, labels=labels, fontsize=11, startangle=70);\n",
    "plt.show();"
   ]
  },
  {
   "cell_type": "markdown",
   "metadata": {},
   "source": [
    "Comment : There are a majority of the houses (`87.3%`) are classed as `basic` house and the `luxury` ones are accounted for `12.6%`."
   ]
  },
  {
   "cell_type": "code",
   "execution_count": 16,
   "metadata": {},
   "outputs": [
    {
     "data": {
      "image/png": "[encoded data removed]",
      "text/plain": [
       "<Figure size 1440x864 with 2 Axes>"
      ]
     },
     "metadata": {
      "needs_background": "light"
     },
     "output_type": "display_data"
    }
   ],
   "source": [
    "fig = plt.figure(figsize=(20,12)) \n",
    "ax1 = fig.add_subplot(221)\n",
    "ax2 = fig.add_subplot(222)\n",
    "\n",
    "cmap = plt.cm.coolwarm_r\n",
    "\n",
    "loans_by_region = data.groupby(['hasStormProtector', 'category']).size()\n",
    "loans_by_region.unstack().plot(kind='bar', stacked=True, colormap=cmap, ax=ax1, grid=False)\n",
    "ax1.set_title('Storm protection per categories', fontsize=14)\n",
    "\n",
    "loans_by_grade = data.groupby(['hasStorageRoom', 'category']).size()\n",
    "loans_by_grade.unstack().plot(kind='bar', stacked=True, colormap=cmap, ax=ax2, grid=False)\n",
    "ax2.set_title('Storage room per categories', fontsize=14);\n"
   ]
  },
  {
   "cell_type": "markdown",
   "metadata": {},
   "source": [
    "Comment : "
   ]
  },
  {
   "cell_type": "code",
   "execution_count": 18,
   "metadata": {},
   "outputs": [
    {
     "data": {
      "image/png": "[encoded data removed]",
      "text/plain": [
       "<Figure size 1440x720 with 2 Axes>"
      ]
     },
     "metadata": {
      "needs_background": "light"
     },
     "output_type": "display_data"
    }
   ],
   "source": [
    "plt.figure(figsize=(20,10))\n",
    "\n",
    "palette = ['#009393', '#930000']\n",
    "plt.subplot(221)\n",
    "ax = sns.countplot(x='PoolAndYard', data=data, \n",
    "                  palette=palette, hue='category')\n",
    "\n",
    "ax.set_title('Categories of houses by Pool and Yard', fontsize=14)\n",
    "ax.set_xlabel('PoolAndYard', fontsize=12)\n",
    "ax.set_ylabel('Count')\n",
    "for p in ax.patches:\n",
    "    ax.annotate(format(p.get_height(), '.0f'), \n",
    "                   (p.get_x() + p.get_width() / 2., p.get_height()), \n",
    "                   ha = 'center', va = 'center', \n",
    "                   xytext = (0, -9), \n",
    "                   textcoords = 'offset points')\n",
    "ax.legend(loc='upper right')\n",
    "\n",
    "plt.subplot(222)\n",
    "ax1 = sns.countplot(x='category', data=data, \n",
    "                   palette=palette, hue='category')\n",
    "\n",
    "ax1.set_title('Categories of houses', fontsize=14)\n",
    "ax1.set_xlabel('Category', fontsize=12)\n",
    "ax1.set_ylabel('Count')  \n",
    "\n",
    "\n",
    "low = data['PoolAndYard'].loc[data['category'] == 'Basic'].values\n",
    "high = data['PoolAndYard'].loc[data['category'] == 'Luxury'].values\n",
    "\n"
   ]
  },
  {
   "cell_type": "markdown",
   "metadata": {},
   "source": [
    "Comment : "
   ]
  },
  {
   "cell_type": "markdown",
   "metadata": {},
   "source": [
    "### Descriptive Statistics"
   ]
  },
  {
   "cell_type": "code",
   "execution_count": 19,
   "metadata": {},
   "outputs": [
    {
     "data": {
      "text/html": [
       "<div>\n",
       "<style scoped>\n",
       "    .dataframe tbody tr th:only-of-type {\n",
       "        vertical-align: middle;\n",
       "    }\n",
       "\n",
       "    .dataframe tbody tr th {\n",
       "        vertical-align: top;\n",
       "    }\n",
       "\n",
       "    .dataframe thead th {\n",
       "        text-align: right;\n",
       "    }\n",
       "</style>\n",
       "<table border=\"1\" class=\"dataframe\">\n",
       "  <thead>\n",
       "    <tr style=\"text-align: center;\">\n",
       "      <th></th>\n",
       "      <th>Unnamed: 0</th>\n",
       "      <th>squareMeters</th>\n",
       "      <th>floors</th>\n",
       "      <th>cityCode</th>\n",
       "      <th>cityPartRange</th>\n",
       "      <th>...</th>\n",
       "      <th>basement</th>\n",
       "      <th>attic</th>\n",
       "      <th>garage</th>\n",
       "      <th>hasGuestRoom</th>\n",
       "      <th>price</th>\n",
       "    </tr>\n",
       "  </thead>\n",
       "  <tbody>\n",
       "    <tr>\n",
       "      <th>count</th>\n",
       "      <td>10000.000</td>\n",
       "      <td>10000.000</td>\n",
       "      <td>10000.000</td>\n",
       "      <td>10000.000</td>\n",
       "      <td>10000.000</td>\n",
       "      <td>...</td>\n",
       "      <td>10000.000</td>\n",
       "      <td>10000.000</td>\n",
       "      <td>10000.000</td>\n",
       "      <td>10000.000</td>\n",
       "      <td>10000.000</td>\n",
       "    </tr>\n",
       "    <tr>\n",
       "      <th>mean</th>\n",
       "      <td>4999.500</td>\n",
       "      <td>49870.131</td>\n",
       "      <td>50.276</td>\n",
       "      <td>50225.486</td>\n",
       "      <td>5.510</td>\n",
       "      <td>...</td>\n",
       "      <td>5033.104</td>\n",
       "      <td>5028.011</td>\n",
       "      <td>553.121</td>\n",
       "      <td>4.995</td>\n",
       "      <td>4993447.526</td>\n",
       "    </tr>\n",
       "    <tr>\n",
       "      <th>std</th>\n",
       "      <td>2886.896</td>\n",
       "      <td>28774.375</td>\n",
       "      <td>28.889</td>\n",
       "      <td>29006.676</td>\n",
       "      <td>2.872</td>\n",
       "      <td>...</td>\n",
       "      <td>2876.730</td>\n",
       "      <td>2894.332</td>\n",
       "      <td>262.050</td>\n",
       "      <td>3.176</td>\n",
       "      <td>2877424.110</td>\n",
       "    </tr>\n",
       "    <tr>\n",
       "      <th>min</th>\n",
       "      <td>0.000</td>\n",
       "      <td>89.000</td>\n",
       "      <td>1.000</td>\n",
       "      <td>3.000</td>\n",
       "      <td>1.000</td>\n",
       "      <td>...</td>\n",
       "      <td>0.000</td>\n",
       "      <td>1.000</td>\n",
       "      <td>100.000</td>\n",
       "      <td>0.000</td>\n",
       "      <td>10313.500</td>\n",
       "    </tr>\n",
       "    <tr>\n",
       "      <th>25%</th>\n",
       "      <td>2499.750</td>\n",
       "      <td>25098.500</td>\n",
       "      <td>25.000</td>\n",
       "      <td>24693.750</td>\n",
       "      <td>3.000</td>\n",
       "      <td>...</td>\n",
       "      <td>2559.750</td>\n",
       "      <td>2512.000</td>\n",
       "      <td>327.750</td>\n",
       "      <td>2.000</td>\n",
       "      <td>2516401.950</td>\n",
       "    </tr>\n",
       "    <tr>\n",
       "      <th>50%</th>\n",
       "      <td>4999.500</td>\n",
       "      <td>50105.500</td>\n",
       "      <td>50.000</td>\n",
       "      <td>50693.000</td>\n",
       "      <td>5.000</td>\n",
       "      <td>...</td>\n",
       "      <td>5092.500</td>\n",
       "      <td>5045.000</td>\n",
       "      <td>554.000</td>\n",
       "      <td>5.000</td>\n",
       "      <td>5016180.300</td>\n",
       "    </tr>\n",
       "    <tr>\n",
       "      <th>75%</th>\n",
       "      <td>7499.250</td>\n",
       "      <td>74609.750</td>\n",
       "      <td>76.000</td>\n",
       "      <td>75683.250</td>\n",
       "      <td>8.000</td>\n",
       "      <td>...</td>\n",
       "      <td>7511.250</td>\n",
       "      <td>7540.500</td>\n",
       "      <td>777.250</td>\n",
       "      <td>8.000</td>\n",
       "      <td>7469092.450</td>\n",
       "    </tr>\n",
       "    <tr>\n",
       "      <th>max</th>\n",
       "      <td>9999.000</td>\n",
       "      <td>99999.000</td>\n",
       "      <td>100.000</td>\n",
       "      <td>99953.000</td>\n",
       "      <td>10.000</td>\n",
       "      <td>...</td>\n",
       "      <td>10000.000</td>\n",
       "      <td>10000.000</td>\n",
       "      <td>1000.000</td>\n",
       "      <td>10.000</td>\n",
       "      <td>10006771.200</td>\n",
       "    </tr>\n",
       "  </tbody>\n",
       "</table>\n",
       "<p>8 rows × 12 columns</p>\n",
       "</div>"
      ],
      "text/plain": [
       "       Unnamed: 0  squareMeters   floors   cityCode  cityPartRange  ...  \\\n",
       "count  10000.000    10000.000   10000.000 10000.000   10000.000     ...   \n",
       "mean    4999.500    49870.131      50.276 50225.486       5.510     ...   \n",
       "std     2886.896    28774.375      28.889 29006.676       2.872     ...   \n",
       "min        0.000       89.000       1.000     3.000       1.000     ...   \n",
       "25%     2499.750    25098.500      25.000 24693.750       3.000     ...   \n",
       "50%     4999.500    50105.500      50.000 50693.000       5.000     ...   \n",
       "75%     7499.250    74609.750      76.000 75683.250       8.000     ...   \n",
       "max     9999.000    99999.000     100.000 99953.000      10.000     ...   \n",
       "\n",
       "       basement    attic    garage   hasGuestRoom     price     \n",
       "count 10000.000 10000.000 10000.000   10000.000      10000.000  \n",
       "mean   5033.104  5028.011   553.121       4.995    4993447.526  \n",
       "std    2876.730  2894.332   262.050       3.176    2877424.110  \n",
       "min       0.000     1.000   100.000       0.000      10313.500  \n",
       "25%    2559.750  2512.000   327.750       2.000    2516401.950  \n",
       "50%    5092.500  5045.000   554.000       5.000    5016180.300  \n",
       "75%    7511.250  7540.500   777.250       8.000    7469092.450  \n",
       "max   10000.000 10000.000  1000.000      10.000   10006771.200  \n",
       "\n",
       "[8 rows x 12 columns]"
      ]
     },
     "execution_count": 19,
     "metadata": {},
     "output_type": "execute_result"
    }
   ],
   "source": [
    "data.describe() # numerical variables description"
   ]
  },
  {
   "cell_type": "code",
   "execution_count": 20,
   "metadata": {},
   "outputs": [
    {
     "name": "stdout",
     "output_type": "stream",
     "text": [
      "Categoricals variables in the dataset : \n",
      "['numberOfRooms', 'category', 'PoolAndYard']\n",
      "====================================================================\n",
      "The variable `numberOfRooms` contains 100 unique values.\n",
      "The variable `category` contains 2 unique values.\n",
      "The variable `PoolAndYard` contains 4 unique values.\n",
      "====================================================================\n",
      "Descritpion of these values :\n"
     ]
    },
    {
     "data": {
      "text/html": [
       "<div>\n",
       "<style scoped>\n",
       "    .dataframe tbody tr th:only-of-type {\n",
       "        vertical-align: middle;\n",
       "    }\n",
       "\n",
       "    .dataframe tbody tr th {\n",
       "        vertical-align: top;\n",
       "    }\n",
       "\n",
       "    .dataframe thead th {\n",
       "        text-align: right;\n",
       "    }\n",
       "</style>\n",
       "<table border=\"1\" class=\"dataframe\">\n",
       "  <thead>\n",
       "    <tr style=\"text-align: center;\">\n",
       "      <th></th>\n",
       "      <th>numberOfRooms</th>\n",
       "      <th>category</th>\n",
       "      <th>PoolAndYard</th>\n",
       "    </tr>\n",
       "  </thead>\n",
       "  <tbody>\n",
       "    <tr>\n",
       "      <th>count</th>\n",
       "      <td>10000</td>\n",
       "      <td>10000</td>\n",
       "      <td>10000</td>\n",
       "    </tr>\n",
       "    <tr>\n",
       "      <th>unique</th>\n",
       "      <td>100</td>\n",
       "      <td>2</td>\n",
       "      <td>4</td>\n",
       "    </tr>\n",
       "    <tr>\n",
       "      <th>top</th>\n",
       "      <td>fifty-four</td>\n",
       "      <td>Basic</td>\n",
       "      <td>has pool and has yard</td>\n",
       "    </tr>\n",
       "    <tr>\n",
       "      <th>freq</th>\n",
       "      <td>129</td>\n",
       "      <td>8735</td>\n",
       "      <td>2566</td>\n",
       "    </tr>\n",
       "  </tbody>\n",
       "</table>\n",
       "</div>"
      ],
      "text/plain": [
       "       numberOfRooms category      PoolAndYard      \n",
       "count         10000    10000                   10000\n",
       "unique          100        2                       4\n",
       "top      fifty-four    Basic   has pool and has yard\n",
       "freq            129     8735                    2566"
      ]
     },
     "metadata": {},
     "output_type": "display_data"
    },
    {
     "name": "stdout",
     "output_type": "stream",
     "text": [
      "====================================================================\n"
     ]
    }
   ],
   "source": [
    "# Verfication of the categorical variables in the dataset\n",
    "cat = [col for col in data.columns if data[col].dtype=='O']\n",
    "print(\"Categoricals variables in the dataset : \\n{}\".format(cat))\n",
    "print(\"====================================================================\")\n",
    "for col in cat:\n",
    "    print(f\"The variable `{col}` contains {data[col].nunique()} unique values.\") \n",
    "print(\"====================================================================\")\n",
    "print(\"Descritpion of these values :\")\n",
    "display(data.describe(include=['object']))\n",
    "print(\"====================================================================\")\n"
   ]
  },
  {
   "cell_type": "code",
   "execution_count": 22,
   "metadata": {},
   "outputs": [
    {
     "data": {
      "image/png": "[encoded data removed]",
      "text/plain": [
       "<Figure size 1080x360 with 2 Axes>"
      ]
     },
     "metadata": {
      "needs_background": "light"
     },
     "output_type": "display_data"
    }
   ],
   "source": [
    "plt.subplots(figsize=(15, 5));\n",
    "sns.heatmap(data.corr(), annot = True, cmap = \"coolwarm\", mask = np.triu(data.corr()));\n",
    "plt.title(\"Correlation Matrix\")\n",
    "plt.xlabel(\"Variables\")\n",
    "plt.ylabel(\"Variables\");"
   ]
  },
  {
   "cell_type": "markdown",
   "metadata": {},
   "source": [
    "Comment : The squareMeters variables have a high correlation with the price so we have to drop it."
   ]
  },
  {
   "cell_type": "code",
   "execution_count": 23,
   "metadata": {},
   "outputs": [],
   "source": [
    "# Removal of highly correlated variable\n",
    "data = data.drop('squareMeters', axis = 1)"
   ]
  },
  {
   "cell_type": "code",
   "execution_count": 25,
   "metadata": {},
   "outputs": [
    {
     "data": {
      "image/png": "[encoded data removed]",
      "text/plain": [
       "<Figure size 1080x360 with 2 Axes>"
      ]
     },
     "metadata": {
      "needs_background": "light"
     },
     "output_type": "display_data"
    }
   ],
   "source": [
    "plt.subplots(figsize=(15, 5));\n",
    "sns.heatmap(data.corr(), annot = True, cmap = \"coolwarm\", mask = np.triu(data.corr()));\n",
    "plt.title(\"Correlation Matrix\")\n",
    "plt.xlabel(\"Variables\")\n",
    "plt.ylabel(\"Variables\");"
   ]
  },
  {
   "cell_type": "markdown",
   "metadata": {},
   "source": [
    "### Processing the `numberOfRooms` variable"
   ]
  },
  {
   "cell_type": "markdown",
   "metadata": {},
   "source": [
    "The `numberOfRooms` variable is `categorical` in the dataset and we are going to define a function (`parse_int()`) that will parse the text and convert it to `numeric` type in order to use it in the prediction part of this report."
   ]
  },
  {
   "cell_type": "code",
   "execution_count": 26,
   "metadata": {},
   "outputs": [],
   "source": [
    "# Processing the `numberOfRooms` variable\n",
    "def parse_int(textnum, numwords={}):\n",
    "    # create our default word-lists\n",
    "    if not numwords:\n",
    "\n",
    "      # singles\n",
    "      units = [\n",
    "        \"zero\", \"one\", \"two\", \"three\", \"four\", \"five\", \"six\", \"seven\", \"eight\",\n",
    "        \"nine\", \"ten\", \"eleven\", \"twelve\", \"thirteen\", \"fourteen\", \"fifteen\",\n",
    "        \"sixteen\", \"seventeen\", \"eighteen\", \"nineteen\",\n",
    "      ]\n",
    "\n",
    "      # tens\n",
    "      tens = [\"\", \"\", \"twenty\", \"thirty\", \"forty\", \"fifty\", \"sixty\", \"seventy\", \"eighty\", \"ninety\"]\n",
    "\n",
    "      # larger scales\n",
    "      scales = [\"hundred\", \"thousand\", \"million\", \"billion\", \"trillion\"]\n",
    "\n",
    "      # divisors\n",
    "      numwords[\"and\"] = (1, 0)\n",
    "\n",
    "      # perform our loops and start the swap\n",
    "      for idx, word in enumerate(units):    numwords[word] = (1, idx)\n",
    "      for idx, word in enumerate(tens):     numwords[word] = (1, idx * 10)\n",
    "      for idx, word in enumerate(scales):   numwords[word] = (10 ** (idx * 3 or 2), 0)\n",
    "\n",
    "    # primary loop\n",
    "    current = result = 0\n",
    "    # loop while splitting to break into individual words\n",
    "    for word in textnum.replace(\"-\",\" \").split():\n",
    "        # if problem then fail-safe\n",
    "        if word not in numwords:\n",
    "          raise Exception(\"Illegal word: \" + word)\n",
    "\n",
    "        # use the index by the multiplier\n",
    "        scale, increment = numwords[word]\n",
    "        current = current * scale + increment\n",
    "       \n",
    "        # if larger than 100 then push for a round 2\n",
    "        if scale > 100:\n",
    "            result += current\n",
    "            current = 0\n",
    "\n",
    "    # return the result plus the current\n",
    "    return result + current"
   ]
  },
  {
   "cell_type": "code",
   "execution_count": 27,
   "metadata": {},
   "outputs": [
    {
     "name": "stdout",
     "output_type": "stream",
     "text": [
      "Verification of the process (10 first observations) : \n",
      "{'three': 3, 'thirty-nine': 39, 'fifty-eight': 58, 'forty-seven': 47, 'nineteen': 19, 'thirty-six': 36, 'ten': 10, 'one hundred': 100}\n",
      "====================================================================================\n",
      "Replacing the values of the `numberOfRooms` variable by the new processed values.\n",
      "====================================================================================\n"
     ]
    }
   ],
   "source": [
    "values = []\n",
    "for i in data['numberOfRooms']:\n",
    "    values.append(parse_int(i, numwords={}))\n",
    "keys = data.numberOfRooms[0:9].tolist()\n",
    "print(\"Verification of the process (10 first observations) : \\n{}\".format(dict(zip(keys, values))))\n",
    "print(\"====================================================================================\")\n",
    "print(\"Replacing the values of the `numberOfRooms` variable by the new processed values.\")\n",
    "data[\"numberOfRooms\"]=values\n",
    "print(\"====================================================================================\")"
   ]
  },
  {
   "cell_type": "markdown",
   "metadata": {},
   "source": [
    "### Encoding of some variables"
   ]
  },
  {
   "cell_type": "code",
   "execution_count": 28,
   "metadata": {},
   "outputs": [
    {
     "name": "stdout",
     "output_type": "stream",
     "text": [
      "`category` variable encoding (labels : basic = 0, luxury = 1).\n",
      "====================================================================================\n",
      "`hasStormProtector` variable processing (labels : False = 0, True = 1)\n",
      "====================================================================================\n",
      "Categorical variables in the dataset at tis point  :  ['PoolAndYard']\n",
      "\n",
      "Hot encoding of these variables : ['PoolAndYard']\n",
      "====================================================================================\n"
     ]
    }
   ],
   "source": [
    "# `category` variable encoding\n",
    "print(\"`category` variable encoding (labels : basic = 0, luxury = 1).\")\n",
    "enc = {'Basic':0, 'Luxury':1}\n",
    "data['category'] = data['category'].map(enc)\n",
    "print(\"====================================================================================\")\n",
    "# `hasStormProtector` variable encoding\n",
    "print(\"`hasStormProtector` variable processing (labels : False = 0, True = 1)\")\n",
    "data=data.replace(False, 0)\n",
    "data=data.replace(True, 1)\n",
    "print(\"====================================================================================\")\n",
    "# verficiation of categorical variables in the data set at this point\n",
    "var_OHE = [col for col in data.columns if data[col].dtype=='O']\n",
    "print(\"Categorical variables in the dataset at tis point  : \", var_OHE)\n",
    "print('\\nHot encoding of these variables : {}'.format(var_OHE))\n",
    "for col in var_OHE:\n",
    "    data = pd.get_dummies(data, columns = [col], prefix=col+'_')\n",
    "print(\"====================================================================================\")"
   ]
  },
  {
   "cell_type": "markdown",
   "metadata": {},
   "source": [
    "### Removal of variables deemed irrelevant to the models."
   ]
  },
  {
   "cell_type": "markdown",
   "metadata": {},
   "source": [
    "- `cityCode`,    `made`,     `Unnamed: 0`"
   ]
  },
  {
   "cell_type": "code",
   "execution_count": 29,
   "metadata": {},
   "outputs": [],
   "source": [
    "data = data.drop([\"cityCode\",  \"made\", \"Unnamed: 0\"], axis=1)"
   ]
  },
  {
   "cell_type": "code",
   "execution_count": 31,
   "metadata": {},
   "outputs": [
    {
     "name": "stdout",
     "output_type": "stream",
     "text": [
      "Columns in the dataset :\n"
     ]
    },
    {
     "data": {
      "text/plain": [
       "Index(['numberOfRooms', 'floors', 'cityPartRange', 'numPrevOwners',\n",
       "       'isNewBuilt', 'hasStormProtector', 'basement', 'attic', 'garage',\n",
       "       'hasStorageRoom', 'hasGuestRoom', 'price', 'category',\n",
       "       'PoolAndYard__has pool and has yard',\n",
       "       'PoolAndYard__has pool and no yard',\n",
       "       'PoolAndYard__no pool and has yard',\n",
       "       'PoolAndYard__no pool and no yard'],\n",
       "      dtype='object')"
      ]
     },
     "execution_count": 31,
     "metadata": {},
     "output_type": "execute_result"
    }
   ],
   "source": [
    "print('Columns in the dataset :')\n",
    "data.columns"
   ]
  },
  {
   "cell_type": "code",
   "execution_count": 32,
   "metadata": {},
   "outputs": [
    {
     "name": "stdout",
     "output_type": "stream",
     "text": [
      "Dimension of the dataset at this point  : (10000, 17)\n",
      "====================================================================================\n",
      "Overview of the data :\n"
     ]
    },
    {
     "data": {
      "text/html": [
       "<div>\n",
       "<style scoped>\n",
       "    .dataframe tbody tr th:only-of-type {\n",
       "        vertical-align: middle;\n",
       "    }\n",
       "\n",
       "    .dataframe tbody tr th {\n",
       "        vertical-align: top;\n",
       "    }\n",
       "\n",
       "    .dataframe thead th {\n",
       "        text-align: right;\n",
       "    }\n",
       "</style>\n",
       "<table border=\"1\" class=\"dataframe\">\n",
       "  <thead>\n",
       "    <tr style=\"text-align: center;\">\n",
       "      <th></th>\n",
       "      <th>numberOfRooms</th>\n",
       "      <th>floors</th>\n",
       "      <th>cityPartRange</th>\n",
       "      <th>numPrevOwners</th>\n",
       "      <th>isNewBuilt</th>\n",
       "      <th>...</th>\n",
       "      <th>category</th>\n",
       "      <th>PoolAndYard__has pool and has yard</th>\n",
       "      <th>PoolAndYard__has pool and no yard</th>\n",
       "      <th>PoolAndYard__no pool and has yard</th>\n",
       "      <th>PoolAndYard__no pool and no yard</th>\n",
       "    </tr>\n",
       "  </thead>\n",
       "  <tbody>\n",
       "    <tr>\n",
       "      <th>0</th>\n",
       "      <td>3</td>\n",
       "      <td>63</td>\n",
       "      <td>3</td>\n",
       "      <td>8</td>\n",
       "      <td>0</td>\n",
       "      <td>...</td>\n",
       "      <td>0</td>\n",
       "      <td>0</td>\n",
       "      <td>1</td>\n",
       "      <td>0</td>\n",
       "      <td>0</td>\n",
       "    </tr>\n",
       "    <tr>\n",
       "      <th>1</th>\n",
       "      <td>39</td>\n",
       "      <td>98</td>\n",
       "      <td>8</td>\n",
       "      <td>6</td>\n",
       "      <td>1</td>\n",
       "      <td>...</td>\n",
       "      <td>1</td>\n",
       "      <td>1</td>\n",
       "      <td>0</td>\n",
       "      <td>0</td>\n",
       "      <td>0</td>\n",
       "    </tr>\n",
       "    <tr>\n",
       "      <th>2</th>\n",
       "      <td>58</td>\n",
       "      <td>19</td>\n",
       "      <td>6</td>\n",
       "      <td>8</td>\n",
       "      <td>0</td>\n",
       "      <td>...</td>\n",
       "      <td>0</td>\n",
       "      <td>0</td>\n",
       "      <td>1</td>\n",
       "      <td>0</td>\n",
       "      <td>0</td>\n",
       "    </tr>\n",
       "    <tr>\n",
       "      <th>3</th>\n",
       "      <td>47</td>\n",
       "      <td>6</td>\n",
       "      <td>10</td>\n",
       "      <td>4</td>\n",
       "      <td>0</td>\n",
       "      <td>...</td>\n",
       "      <td>0</td>\n",
       "      <td>0</td>\n",
       "      <td>0</td>\n",
       "      <td>0</td>\n",
       "      <td>1</td>\n",
       "    </tr>\n",
       "    <tr>\n",
       "      <th>4</th>\n",
       "      <td>19</td>\n",
       "      <td>90</td>\n",
       "      <td>3</td>\n",
       "      <td>7</td>\n",
       "      <td>1</td>\n",
       "      <td>...</td>\n",
       "      <td>1</td>\n",
       "      <td>1</td>\n",
       "      <td>0</td>\n",
       "      <td>0</td>\n",
       "      <td>0</td>\n",
       "    </tr>\n",
       "  </tbody>\n",
       "</table>\n",
       "<p>5 rows × 17 columns</p>\n",
       "</div>"
      ],
      "text/plain": [
       "   numberOfRooms  floors  cityPartRange  numPrevOwners  isNewBuilt  ...  \\\n",
       "0        3          63          3              8             0      ...   \n",
       "1       39          98          8              6             1      ...   \n",
       "2       58          19          6              8             0      ...   \n",
       "3       47           6         10              4             0      ...   \n",
       "4       19          90          3              7             1      ...   \n",
       "\n",
       "   category  PoolAndYard__has pool and has yard  \\\n",
       "0      0                      0                   \n",
       "1      1                      1                   \n",
       "2      0                      0                   \n",
       "3      0                      0                   \n",
       "4      1                      1                   \n",
       "\n",
       "   PoolAndYard__has pool and no yard  PoolAndYard__no pool and has yard  \\\n",
       "0                  1                                  0                   \n",
       "1                  0                                  0                   \n",
       "2                  1                                  0                   \n",
       "3                  0                                  0                   \n",
       "4                  0                                  0                   \n",
       "\n",
       "   PoolAndYard__no pool and no yard  \n",
       "0                  0                 \n",
       "1                  0                 \n",
       "2                  0                 \n",
       "3                  1                 \n",
       "4                  0                 \n",
       "\n",
       "[5 rows x 17 columns]"
      ]
     },
     "metadata": {},
     "output_type": "display_data"
    },
    {
     "name": "stdout",
     "output_type": "stream",
     "text": [
      "====================================================================================\n"
     ]
    }
   ],
   "source": [
    "print(\"Dimension of the dataset at this point  : {}\".format(data.shape))\n",
    "print(\"====================================================================================\")\n",
    "print(\"Overview of the data :\")\n",
    "display(data.head())\n",
    "print(\"====================================================================================\")"
   ]
  },
  {
   "cell_type": "markdown",
   "metadata": {},
   "source": [
    "The variable `category` is the target in this case."
   ]
  },
  {
   "cell_type": "code",
   "execution_count": 33,
   "metadata": {},
   "outputs": [
    {
     "name": "stdout",
     "output_type": "stream",
     "text": [
      "Distribution of the target :\n",
      "Labels : 0 = Basic, 1 = Luxury\n"
     ]
    },
    {
     "data": {
      "text/plain": [
       "0   0.874\n",
       "1   0.127\n",
       "Name: category, dtype: float64"
      ]
     },
     "execution_count": 33,
     "metadata": {},
     "output_type": "execute_result"
    }
   ],
   "source": [
    "print(\"Distribution of the target :\")\n",
    "print(\"Labels : 0 = Basic, 1 = Luxury\")\n",
    "data.category.value_counts(normalize=True)"
   ]
  },
  {
   "cell_type": "markdown",
   "metadata": {},
   "source": [
    "## Models specification <a id='sec1.4'></a>"
   ]
  },
  {
   "cell_type": "code",
   "execution_count": 34,
   "metadata": {},
   "outputs": [],
   "source": [
    "X = data.drop('category', axis=1)\n",
    "X = normalize(X.values)\n",
    "y = data['category'].values\n",
    "X_train, X_test, y_train, y_test = train_test_split(X, y, random_state=0, test_size= .4)"
   ]
  },
  {
   "cell_type": "markdown",
   "metadata": {},
   "source": [
    "### Model Accuracy function "
   ]
  },
  {
   "cell_type": "code",
   "execution_count": 35,
   "metadata": {},
   "outputs": [],
   "source": [
    "def model_accuracy(model):\n",
    "    \"\"\"Perform the fitting, print out the accuracy, classification report and confusion matrix with the given model\n",
    "\n",
    "    Args:\n",
    "        model(string) : model to perform. 'svm' : Support Vector Machine, 'knn' : K-Nearest Neighbors.\n",
    "\n",
    "    Returns:\n",
    "        classifier: model fit to the train set.\n",
    "    \"\"\"\n",
    "    if model == 'svm':\n",
    "        print(\"Support Vector Machine model\")\n",
    "        model_svm = SVC(kernel='linear').fit(X_train,y_train)\n",
    "        predictions_test = model_svm.predict(X_test)\n",
    "        print(\"=========================================================================\")\n",
    "        print('Accuracy on the train set : {:04.3f}'.format(model_svm.score(X_train, y_train)))\n",
    "        print(\"=========================================================================\")\n",
    "        print('Base model accuracy on the test set : {:04.3f}'.format(model_svm.score(X_test, y_test)))\n",
    "        print(\"=========================================================================\")\n",
    "        print(\"Classification report : \")\n",
    "        print(classification_report(y_test, predictions_test, digits=3, zero_division = 1)),\n",
    "        disp = plot_confusion_matrix(model_svm, X_test, y_test, cmap='Reds', values_format='d',\n",
    "                                    xticks_rotation= 'vertical')\n",
    "        print(\"=========================================================================\")\n",
    "        print(\"Confusion matrix : \")\n",
    "        return model_svm\n",
    "    \n",
    "    elif model == 'knn':\n",
    "        print(\"K-Nearest Neighbors model\")\n",
    "        # fitting  \n",
    "        model_knn = KNeighborsClassifier().fit(X_train, y_train)\n",
    "        predictions_test = model_knn.predict(X_test)\n",
    "        print(\"=========================================================================\")\n",
    "        print('Accuracy on the train set : {:04.3f}'.format(model_knn.score(X_train, y_train)))\n",
    "        print(\"=========================================================================\")\n",
    "        print('Base model accuracy on the test set : {:04.3f}'.format(model_knn.score(X_test, y_test)))\n",
    "        print(\"=========================================================================\")\n",
    "        print(\"Classification report : \")\n",
    "        print(classification_report(y_test, predictions_test, digits=3, zero_division = 1)),\n",
    "        disp = plot_confusion_matrix(model_knn, X_test, y_test, cmap='Reds', values_format='d',\n",
    "                                    xticks_rotation= 'vertical')\n",
    "        print(\"=========================================================================\")\n",
    "        print(\"Confusion matrix : \")\n",
    "        return model_knn\n",
    "    \n",
    "    elif model == 'lda':\n",
    "        print(\"Linear Discriminant Analysis\")\n",
    "        # fitting  \n",
    "        model_lda = LinearDiscriminantAnalysis().fit(X_train, y_train)\n",
    "        predictions_test = model_lda.predict(X_test)\n",
    "        print(\"=========================================================================\")\n",
    "        print('Accuracy on the train set : {:04.3f}'.format(model_lda.score(X_train, y_train)))\n",
    "        print(\"=========================================================================\")\n",
    "        print('Base model accuracy on the test set : {:04.3f}'.format(model_lda.score(X_test, y_test)))\n",
    "        print(\"=========================================================================\")\n",
    "        print(\"Classification report : \")\n",
    "        print(classification_report(y_test, predictions_test, digits=3, zero_division = 1)),\n",
    "        disp = plot_confusion_matrix(model_lda, X_test, y_test, cmap='Reds', values_format='d',\n",
    "                                    xticks_rotation= 'vertical')\n",
    "        print(\"=========================================================================\")\n",
    "        print(\"Confusion matrix : \")\n",
    "        return model_lda\n",
    "    \n",
    "    elif model == 'logreg':\n",
    "        print(\"Logistic regression\")\n",
    "        # fitting  \n",
    "        model_logreg = LogisticRegression().fit(X_train, y_train)\n",
    "        predictions_test = model_logreg.predict(X_test)\n",
    "        print(\"=========================================================================\")\n",
    "        print('Accuracy on the train set : {:04.3f}'.format(model_logreg.score(X_train, y_train)))\n",
    "        print(\"=========================================================================\")\n",
    "        print('Base model accuracy on the test set : {:04.3f}'.format(model_logreg.score(X_test, y_test)))\n",
    "        print(\"=========================================================================\")\n",
    "        print(\"Classification report : \")\n",
    "        print(classification_report(y_test, predictions_test, digits=3, zero_division = 1)),\n",
    "        disp = plot_confusion_matrix(model_logreg, X_test, y_test, cmap='Reds', values_format='d',\n",
    "                                    xticks_rotation= 'vertical')\n",
    "        print(\"=========================================================================\")\n",
    "        print(\"Confusion matrix : \")\n",
    "        return model_logreg\n",
    "    \n",
    "    else :\n",
    "        print(\"Enter a valid choice.\")"
   ]
  },
  {
   "cell_type": "markdown",
   "metadata": {},
   "source": [
    "### kNN"
   ]
  },
  {
   "cell_type": "code",
   "execution_count": 36,
   "metadata": {},
   "outputs": [
    {
     "name": "stdout",
     "output_type": "stream",
     "text": [
      "K-Nearest Neighbors model\n",
      "=========================================================================\n",
      "Accuracy on the train set : 0.877\n",
      "=========================================================================\n",
      "Base model accuracy on the test set : 0.857\n",
      "=========================================================================\n",
      "Classification report : \n",
      "              precision    recall  f1-score   support\n",
      "\n",
      "           0      0.872     0.979     0.923      3492\n",
      "           1      0.098     0.016     0.027       508\n",
      "\n",
      "    accuracy                          0.857      4000\n",
      "   macro avg      0.485     0.497     0.475      4000\n",
      "weighted avg      0.774     0.857     0.809      4000\n",
      "\n",
      "=========================================================================\n",
      "Confusion matrix : \n"
     ]
    },
    {
     "data": {
      "image/png": "[encoded data removed]",
      "text/plain": [
       "<Figure size 432x288 with 2 Axes>"
      ]
     },
     "metadata": {
      "needs_background": "light"
     },
     "output_type": "display_data"
    }
   ],
   "source": [
    "model_knn = model_accuracy('knn')"
   ]
  },
  {
   "cell_type": "markdown",
   "metadata": {},
   "source": [
    "### SVM"
   ]
  },
  {
   "cell_type": "code",
   "execution_count": 37,
   "metadata": {},
   "outputs": [
    {
     "name": "stdout",
     "output_type": "stream",
     "text": [
      "Support Vector Machine model\n",
      "=========================================================================\n",
      "Accuracy on the train set : 0.874\n",
      "=========================================================================\n",
      "Base model accuracy on the test set : 0.873\n",
      "=========================================================================\n",
      "Classification report : \n",
      "              precision    recall  f1-score   support\n",
      "\n",
      "           0      0.873     1.000     0.932      3492\n",
      "           1      1.000     0.000     0.000       508\n",
      "\n",
      "    accuracy                          0.873      4000\n",
      "   macro avg      0.936     0.500     0.466      4000\n",
      "weighted avg      0.889     0.873     0.814      4000\n",
      "\n",
      "=========================================================================\n",
      "Confusion matrix : \n"
     ]
    },
    {
     "data": {
      "image/png": "[encoded data removed]",
      "text/plain": [
       "<Figure size 432x288 with 2 Axes>"
      ]
     },
     "metadata": {
      "needs_background": "light"
     },
     "output_type": "display_data"
    }
   ],
   "source": [
    "model_svm = model_accuracy('svm')"
   ]
  },
  {
   "cell_type": "markdown",
   "metadata": {},
   "source": [
    "### LDA"
   ]
  },
  {
   "cell_type": "code",
   "execution_count": 38,
   "metadata": {},
   "outputs": [
    {
     "name": "stdout",
     "output_type": "stream",
     "text": [
      "Linear Discriminant Analysis\n",
      "=========================================================================\n",
      "Accuracy on the train set : 0.875\n",
      "=========================================================================\n",
      "Base model accuracy on the test set : 0.875\n",
      "=========================================================================\n",
      "Classification report : \n",
      "              precision    recall  f1-score   support\n",
      "\n",
      "           0      0.876     0.998     0.933      3492\n",
      "           1      0.682     0.030     0.057       508\n",
      "\n",
      "    accuracy                          0.875      4000\n",
      "   macro avg      0.779     0.514     0.495      4000\n",
      "weighted avg      0.851     0.875     0.822      4000\n",
      "\n",
      "=========================================================================\n",
      "Confusion matrix : \n"
     ]
    },
    {
     "data": {
      "image/png": "[encoded data removed]",
      "text/plain": [
       "<Figure size 432x288 with 2 Axes>"
      ]
     },
     "metadata": {
      "needs_background": "light"
     },
     "output_type": "display_data"
    }
   ],
   "source": [
    "model_lda = model_accuracy('lda')"
   ]
  },
  {
   "cell_type": "markdown",
   "metadata": {},
   "source": [
    "### LOGREG"
   ]
  },
  {
   "cell_type": "code",
   "execution_count": 39,
   "metadata": {},
   "outputs": [
    {
     "name": "stdout",
     "output_type": "stream",
     "text": [
      "Logistic regression\n",
      "=========================================================================\n",
      "Accuracy on the train set : 0.874\n",
      "=========================================================================\n",
      "Base model accuracy on the test set : 0.873\n",
      "=========================================================================\n",
      "Classification report : \n",
      "              precision    recall  f1-score   support\n",
      "\n",
      "           0      0.873     1.000     0.932      3492\n",
      "           1      1.000     0.000     0.000       508\n",
      "\n",
      "    accuracy                          0.873      4000\n",
      "   macro avg      0.936     0.500     0.466      4000\n",
      "weighted avg      0.889     0.873     0.814      4000\n",
      "\n",
      "=========================================================================\n",
      "Confusion matrix : \n"
     ]
    },
    {
     "data": {
      "image/png": "[encoded data removed]",
      "text/plain": [
       "<Figure size 432x288 with 2 Axes>"
      ]
     },
     "metadata": {
      "needs_background": "light"
     },
     "output_type": "display_data"
    }
   ],
   "source": [
    "model_logreg = model_accuracy('logreg')"
   ]
  },
  {
   "cell_type": "markdown",
   "metadata": {},
   "source": [
    "### Score Summary function"
   ]
  },
  {
   "cell_type": "code",
   "execution_count": 40,
   "metadata": {},
   "outputs": [],
   "source": [
    "def score_summary(model_logreg, model_knn, model_svm, model_lda):\n",
    "    \n",
    "    models = [] # append all models or predictive models \n",
    "    score_results = [] # cross validation result\n",
    "\n",
    "    models.append(model_logreg)\n",
    "    models.append(model_knn)\n",
    "    models.append(model_svm)\n",
    "    models.append(model_lda)\n",
    "\n",
    "    for model in models :\n",
    "        score_results.append(model.score(X_test, y_test)*100)\n",
    "            \n",
    "    cv_frame = pd.DataFrame(\n",
    "        {\n",
    "            \"Algorithms\":[\n",
    "                        \"LogisticRegression\",\n",
    "                        \"KNeighboors\",\n",
    "                        \"SupportVectorMachines\",                      \n",
    "                        \"LinearDiscriminantAnalysis\"\n",
    "                        ],\n",
    "            \"score_results\":score_results\n",
    "        })\n",
    "\n",
    "    cv_plot = sns.barplot(x=\"score_results\",y=\"Algorithms\", data = cv_frame,\n",
    "                    palette=\"Paired\", orient = \"h\");\n",
    "\n",
    "    for p in cv_plot.patches:\n",
    "        _x = p.get_x() + p.get_width() - 8\n",
    "        _y = p.get_y() + p.get_height() - (p.get_height()*0.5)\n",
    "        value = '{:.2f}%'.format(p.get_width())\n",
    "        cv_plot.text(_x, _y, value, ha=\"left\")\n",
    "\n",
    "    cv_plot.set_xlabel(\"Accuracy\")\n",
    "    cv_plot = cv_plot.set_title(\"Algorithms Scores Graph\");"
   ]
  },
  {
   "cell_type": "markdown",
   "metadata": {},
   "source": [
    "### ROC curve analysis"
   ]
  },
  {
   "cell_type": "code",
   "execution_count": 41,
   "metadata": {},
   "outputs": [
    {
     "data": {
      "image/png": "[encoded data removed]",
      "text/plain": [
       "<Figure size 432x288 with 1 Axes>"
      ]
     },
     "metadata": {
      "needs_background": "light"
     },
     "output_type": "display_data"
    }
   ],
   "source": [
    "from sklearn.metrics import plot_roc_curve\n",
    "\n",
    "classifiers = [model_logreg, model_knn, model_svm, model_lda]\n",
    "ax = plt.gca()\n",
    "for i in classifiers:\n",
    "    plot_roc_curve(i, X_test, y_test, ax = ax)"
   ]
  },
  {
   "cell_type": "code",
   "execution_count": 42,
   "metadata": {},
   "outputs": [
    {
     "data": {
      "image/png": "[encoded data removed]",
      "text/plain": [
       "<Figure size 432x288 with 1 Axes>"
      ]
     },
     "metadata": {
      "needs_background": "light"
     },
     "output_type": "display_data"
    }
   ],
   "source": [
    "score_summary(model_logreg, model_knn, model_svm, model_lda)"
   ]
  },
  {
   "cell_type": "markdown",
   "metadata": {},
   "source": [
    "Comment : For the 4 models that we have implemented we have the scores in the following order : \n",
    "- `KNN` : 85.65%\n",
    "- `logreg`: 87.30%\n",
    "- `SVM`: 87.30%\n",
    "- `LDA`: 87.50%\n",
    "But when we look at the AUC score in the ROC curve figure we can see that only the `LDA` model have a high power of prediction and all the other are gravitating around 0.50. This score menas that the other models can't successfully classified the data points and it's a big problem that have to be addressed."
   ]
  },
  {
   "cell_type": "markdown",
   "metadata": {},
   "source": [
    "### Undersampling"
   ]
  },
  {
   "cell_type": "markdown",
   "metadata": {},
   "source": [
    "`Undersampling` is a technique to balance uneven datasets by keeping all of the data in the minority class and decreasing the size of the majority class. It is one of several techniques data scientists can use to extract more accurate information from originally imbalanced datasets. Though it has disadvantages, such as the loss of potentially important information, it remains a common technique used to counter the problem at hand. In our case, we chose it over the oversampling technique because of the computating limitation so that the model can we can evaluate the models more easily. "
   ]
  },
  {
   "cell_type": "code",
   "execution_count": 43,
   "metadata": {},
   "outputs": [
    {
     "name": "stdout",
     "output_type": "stream",
     "text": [
      "Original dataset shape :  Counter({0: 8735, 1: 1265})\n",
      "Resample dataset shape :  Counter({0: 1265, 1: 1265})\n"
     ]
    }
   ],
   "source": [
    "rus = RandomUnderSampler(random_state=42, replacement=True)\n",
    "X_rus, y_rus = rus.fit_resample(X, y)\n",
    "print('Original dataset shape : ', Counter(y))\n",
    "print('Resample dataset shape : ', Counter(y_rus))"
   ]
  },
  {
   "cell_type": "code",
   "execution_count": 45,
   "metadata": {},
   "outputs": [],
   "source": [
    "# Splitting the dataset into train and test sets\n",
    "X_train, X_test, y_train, y_test = train_test_split(X_rus, y_rus, random_state=42, test_size=.3)"
   ]
  },
  {
   "cell_type": "markdown",
   "metadata": {},
   "source": [
    "Now we have to perform the same models on the resampled dataset"
   ]
  },
  {
   "cell_type": "markdown",
   "metadata": {},
   "source": [
    "### kNN"
   ]
  },
  {
   "cell_type": "code",
   "execution_count": 46,
   "metadata": {},
   "outputs": [
    {
     "name": "stdout",
     "output_type": "stream",
     "text": [
      "K-Nearest Neighbors model\n",
      "=========================================================================\n",
      "Accuracy on the train set : 0.671\n",
      "=========================================================================\n",
      "Base model accuracy on the test set : 0.485\n",
      "=========================================================================\n",
      "Classification report : \n",
      "              precision    recall  f1-score   support\n",
      "\n",
      "           0      0.482     0.507     0.494       377\n",
      "           1      0.488     0.463     0.475       382\n",
      "\n",
      "    accuracy                          0.485       759\n",
      "   macro avg      0.485     0.485     0.485       759\n",
      "weighted avg      0.485     0.485     0.485       759\n",
      "\n",
      "=========================================================================\n",
      "Confusion matrix : \n"
     ]
    },
    {
     "data": {
      "image/png": "[encoded data removed]",
      "text/plain": [
       "<Figure size 432x288 with 2 Axes>"
      ]
     },
     "metadata": {
      "needs_background": "light"
     },
     "output_type": "display_data"
    }
   ],
   "source": [
    "model_knn_rus = model_accuracy('knn')"
   ]
  },
  {
   "cell_type": "markdown",
   "metadata": {},
   "source": [
    "### SVM"
   ]
  },
  {
   "cell_type": "code",
   "execution_count": 47,
   "metadata": {},
   "outputs": [
    {
     "name": "stdout",
     "output_type": "stream",
     "text": [
      "Support Vector Machine model\n",
      "=========================================================================\n",
      "Accuracy on the train set : 0.501\n",
      "=========================================================================\n",
      "Base model accuracy on the test set : 0.497\n",
      "=========================================================================\n",
      "Classification report : \n",
      "              precision    recall  f1-score   support\n",
      "\n",
      "           0      0.497     1.000     0.664       377\n",
      "           1      1.000     0.000     0.000       382\n",
      "\n",
      "    accuracy                          0.497       759\n",
      "   macro avg      0.748     0.500     0.332       759\n",
      "weighted avg      0.750     0.497     0.330       759\n",
      "\n",
      "=========================================================================\n",
      "Confusion matrix : \n"
     ]
    },
    {
     "data": {
      "image/png": "[encoded data removed]",
      "text/plain": [
       "<Figure size 432x288 with 2 Axes>"
      ]
     },
     "metadata": {
      "needs_background": "light"
     },
     "output_type": "display_data"
    }
   ],
   "source": [
    "model_svm_rus = model_accuracy('svm')"
   ]
  },
  {
   "cell_type": "markdown",
   "metadata": {},
   "source": [
    "### LDA"
   ]
  },
  {
   "cell_type": "code",
   "execution_count": 48,
   "metadata": {},
   "outputs": [
    {
     "name": "stdout",
     "output_type": "stream",
     "text": [
      "Linear Discriminant Analysis\n",
      "=========================================================================\n",
      "Accuracy on the train set : 0.922\n",
      "=========================================================================\n",
      "Base model accuracy on the test set : 0.914\n",
      "=========================================================================\n",
      "Classification report : \n",
      "              precision    recall  f1-score   support\n",
      "\n",
      "           0      0.943     0.881     0.911       377\n",
      "           1      0.889     0.948     0.918       382\n",
      "\n",
      "    accuracy                          0.914       759\n",
      "   macro avg      0.916     0.914     0.914       759\n",
      "weighted avg      0.916     0.914     0.914       759\n",
      "\n",
      "=========================================================================\n",
      "Confusion matrix : \n"
     ]
    },
    {
     "data": {
      "image/png": "[encoded data removed]",
      "text/plain": [
       "<Figure size 432x288 with 2 Axes>"
      ]
     },
     "metadata": {
      "needs_background": "light"
     },
     "output_type": "display_data"
    }
   ],
   "source": [
    "model_lda_rus = model_accuracy('lda')"
   ]
  },
  {
   "cell_type": "markdown",
   "metadata": {},
   "source": [
    "### LOGREG"
   ]
  },
  {
   "cell_type": "code",
   "execution_count": 49,
   "metadata": {},
   "outputs": [
    {
     "name": "stdout",
     "output_type": "stream",
     "text": [
      "Logistic regression\n",
      "=========================================================================\n",
      "Accuracy on the train set : 0.501\n",
      "=========================================================================\n",
      "Base model accuracy on the test set : 0.497\n",
      "=========================================================================\n",
      "Classification report : \n",
      "              precision    recall  f1-score   support\n",
      "\n",
      "           0      0.497     1.000     0.664       377\n",
      "           1      1.000     0.000     0.000       382\n",
      "\n",
      "    accuracy                          0.497       759\n",
      "   macro avg      0.748     0.500     0.332       759\n",
      "weighted avg      0.750     0.497     0.330       759\n",
      "\n",
      "=========================================================================\n",
      "Confusion matrix : \n"
     ]
    },
    {
     "data": {
      "image/png": "[encoded data removed]",
      "text/plain": [
       "<Figure size 432x288 with 2 Axes>"
      ]
     },
     "metadata": {
      "needs_background": "light"
     },
     "output_type": "display_data"
    }
   ],
   "source": [
    "model_logreg_rus = model_accuracy('logreg')"
   ]
  },
  {
   "cell_type": "code",
   "execution_count": 168,
   "metadata": {},
   "outputs": [
    {
     "name": "stdout",
     "output_type": "stream",
     "text": [
      "After undersampling : \n"
     ]
    },
    {
     "data": {
      "image/png": "[encoded data removed]",
      "text/plain": [
       "<Figure size 432x288 with 1 Axes>"
      ]
     },
     "metadata": {
      "needs_background": "light"
     },
     "output_type": "display_data"
    }
   ],
   "source": [
    "print(\"After undersampling : \")\n",
    "score_summary(model_logreg_rus, model_knn_rus, model_svm_rus, model_lda_rus)"
   ]
  },
  {
   "cell_type": "markdown",
   "metadata": {},
   "source": [
    "### ROC curve analysis"
   ]
  },
  {
   "cell_type": "code",
   "execution_count": 51,
   "metadata": {},
   "outputs": [
    {
     "data": {
      "image/png": "[encoded data removed]",
      "text/plain": [
       "<Figure size 432x288 with 1 Axes>"
      ]
     },
     "metadata": {
      "needs_background": "light"
     },
     "output_type": "display_data"
    }
   ],
   "source": [
    "from sklearn.metrics import plot_roc_curve\n",
    "\n",
    "classifiers = [model_logreg_rus, model_knn_rus, model_svm_rus, model_lda_rus]\n",
    "ax = plt.gca()\n",
    "for i in classifiers:\n",
    "    plot_roc_curve(i, X_test, y_test, ax = ax)"
   ]
  },
  {
   "cell_type": "code",
   "execution_count": 52,
   "metadata": {},
   "outputs": [
    {
     "data": {
      "image/png": "[encoded data removed]",
      "text/plain": [
       "<Figure size 432x288 with 1 Axes>"
      ]
     },
     "metadata": {
      "needs_background": "light"
     },
     "output_type": "display_data"
    }
   ],
   "source": [
    "score_summary(model_logreg_rus, model_knn_rus, model_svm_rus, model_lda_rus)"
   ]
  },
  {
   "cell_type": "markdown",
   "metadata": {},
   "source": [
    "Comment : Now we can see that only the accuracy of the `LDA` model has improved after the undersampling. Now in order to conclude we have to perform the part where we tune the hyperparameters."
   ]
  },
  {
   "cell_type": "markdown",
   "metadata": {},
   "source": [
    "#### Hyperparameters tuning"
   ]
  },
  {
   "cell_type": "markdown",
   "metadata": {},
   "source": [
    "##### Hyperparameters grids and fitting"
   ]
  },
  {
   "cell_type": "code",
   "execution_count": 53,
   "metadata": {},
   "outputs": [],
   "source": [
    "# Define the grids of parameters\n",
    "\n",
    "param_grid_knn = {\n",
    "    'n_neighbors': [i for i in range(2, 16)],\n",
    "    'weights':['distance'],\n",
    "    'algorithm':['auto', 'ball_tree', 'kd_tree', 'brute'],\n",
    "    'leaf_size':[2, 3, 4],\n",
    "    'p':[1, 2],\n",
    "    'metric':['manhattan', 'minkowski']\n",
    "}\n",
    "\n",
    "param_grid_svm = {\n",
    "    'C': [0.1, 1, 10, 100],\n",
    "    'gamma': [0.1, 0.01, 0.001, 1],\n",
    "    'kernel': ['rbf', 'poly', 'sigmoid']\n",
    "}\n",
    "\n",
    "param_grid_logreg = {\n",
    "    'penalty' : ['l1', 'none'], \n",
    "    'C' : np.logspace(-4, 4, 5), \n",
    "    'solver': ['newton-cg','sag', 'lbfgs']\n",
    "}"
   ]
  },
  {
   "cell_type": "code",
   "execution_count": 54,
   "metadata": {},
   "outputs": [],
   "source": [
    "# kNN\n",
    "# Instantiate the grid search model\n",
    "grid_knn = GridSearchCV(estimator = model_knn_rus, param_grid = param_grid_knn, cv = 5, n_jobs=-1)\n",
    "# Fit the grid search to the data\n",
    "best_knn_grid = grid_knn.fit(X_train, y_train)"
   ]
  },
  {
   "cell_type": "code",
   "execution_count": 55,
   "metadata": {},
   "outputs": [],
   "source": [
    "# SVM\n",
    "# Instantiate the grid search model\n",
    "grid_svm = GridSearchCV(estimator = model_svm_rus, param_grid = param_grid_svm, cv = 5, n_jobs=-1)\n",
    "# Fit the grid search to the data\n",
    "best_svm_grid = grid_svm.fit(X_train, y_train)"
   ]
  },
  {
   "cell_type": "code",
   "execution_count": null,
   "metadata": {},
   "outputs": [],
   "source": [
    "# logreg\n",
    "# Instantiate the grid search model\n",
    "grid_logreg = GridSearchCV(estimator = model_logreg_rus, param_grid = param_grid_logreg, cv = 5, n_jobs=-1)\n",
    "# Fit the grid search to the data\n",
    "best_logreg_grid = grid_logreg.fit(X_train, y_train)"
   ]
  },
  {
   "cell_type": "markdown",
   "metadata": {},
   "source": [
    "##### Tuning function"
   ]
  },
  {
   "cell_type": "code",
   "execution_count": 57,
   "metadata": {},
   "outputs": [],
   "source": [
    "def tuning(model):\n",
    "    \"\"\"Perform tuning of the models parameters\n",
    "\n",
    "    Args:\n",
    "        model: perfomed models by the model_accuracy() function\n",
    "    \"\"\"\n",
    "    if model == 'knn':\n",
    "        \n",
    "        print('KNN best parameters :\\n', best_knn_grid.best_params_)\n",
    "        best_knn_model = best_knn_grid.best_estimator_\n",
    "        print(\"==============================================================================\")\n",
    "        print(\"KNN final model :\\n\", best_knn_model)\n",
    "        print(\"==============================================================================\")\n",
    "        print('Fitting to the train set : {:04.3f}'.format(best_knn_model.score(X_train, y_train)))\n",
    "        print(\"==============================================================================\")\n",
    "        score_best_knn = best_knn_model.score(X_test, y_test)\n",
    "        print('Final model Accuracy : {:04.3f}'.format(score_best_knn))\n",
    "        print(\"==============================================================================\")\n",
    "        score_base_knn = model_knn_rus.score(X_test, y_test)\n",
    "        print(\"Base model accuracy : {:04.3f}\".format(score_base_knn))\n",
    "        print(\"==============================================================================\")\n",
    "        print(\"Classification report : \")\n",
    "        best_knn_pred = best_knn_model.predict(X_test)\n",
    "        print(classification_report(y_test, best_knn_pred, \n",
    "                                    digits=3, zero_division = 1))\n",
    "        print(\"==============================================================================\")\n",
    "        print(\"Confusion matrix : \")\n",
    "        disp = plot_confusion_matrix(best_knn_model, X_test, y_test, cmap='Reds', values_format='d',\n",
    "                                    #  display_labels=labels_disp,\n",
    "                                    xticks_rotation='vertical')\n",
    "        return best_knn_model\n",
    "    \n",
    "    elif model == 'svm':\n",
    "        \n",
    "        print('SVM best parameters :', best_svm_grid.best_params_)\n",
    "        best_svm_model = best_svm_grid.best_estimator_\n",
    "        print(\"==============================================================================\")\n",
    "        print(\"SVM final model :\", best_svm_model)\n",
    "        print(\"==============================================================================\")\n",
    "        print('Fitting to the train set : {:04.3f}'.format(best_svm_model.score(X_train, y_train)))\n",
    "        print(\"==============================================================================\")\n",
    "        score_best_svm = best_svm_model.score(X_test, y_test)\n",
    "        print('Final model Accuracy : {:04.3f}'.format(score_best_svm))\n",
    "        print(\"==============================================================================\")\n",
    "        score_base_svm = model_svm_rus.score(X_test, y_test)\n",
    "        print(\"Base model accuracy : {:04.3f}\".format(score_base_svm))\n",
    "        print(\"==============================================================================\")\n",
    "        print(\"Classification report : \")\n",
    "        best_svm_pred = best_svm_model.predict(X_test)\n",
    "        print(classification_report(y_test, best_svm_pred, \n",
    "                                    digits=3, zero_division = 1))\n",
    "        print(\"==============================================================================\")\n",
    "        print(\"Confusion matrix : \")\n",
    "        disp = plot_confusion_matrix(best_svm_model, X_test, y_test, cmap='Reds', values_format='d',\n",
    "                                    #  display_labels=labels_disp,\n",
    "                                    xticks_rotation='vertical')\n",
    "        return best_svm_model\n",
    "    \n",
    "    elif model == 'logreg':\n",
    "        \n",
    "        print('Logistic Regression best parameters :\\n', best_logreg_grid.best_params_)\n",
    "        best_logreg_model = best_logreg_grid.best_estimator_\n",
    "        print(\"==============================================================================\")\n",
    "        print(\"Logistic Regression final model :\\n\", best_logreg_model)\n",
    "        print(\"==============================================================================\")\n",
    "        print('Fitting to the train set : {:04.3f}'.format(best_logreg_model.score(X_train, y_train)))\n",
    "        print(\"==============================================================================\")\n",
    "        score_best_logreg = best_logreg_model.score(X_test, y_test)\n",
    "        print('Final model Accuracy : {:04.3f}'.format(score_best_logreg))\n",
    "        print(\"==============================================================================\")\n",
    "        score_base_logreg = model_logreg_rus.score(X_test, y_test)\n",
    "        print(\"Base model accuracy : {:04.3f}\".format(score_base_logreg))\n",
    "        print(\"==============================================================================\")\n",
    "        print(\"Classification report : \")\n",
    "        best_logreg_pred = best_logreg_model.predict(X_test)\n",
    "        print(classification_report(y_test, best_logreg_pred, \n",
    "                                    digits=3, zero_division = 1))\n",
    "        print(\"==============================================================================\")\n",
    "        print(\"Confusion matrix : \")\n",
    "        disp = plot_confusion_matrix(best_logreg_model, X_test, y_test, cmap='Reds', values_format='d',\n",
    "                                    #  display_labels=labels_disp,\n",
    "                                    xticks_rotation='vertical')\n",
    "        return best_logreg_model\n",
    "    \n",
    "    else :\n",
    "        print(\"'Enter a valid option...\")"
   ]
  },
  {
   "cell_type": "markdown",
   "metadata": {},
   "source": [
    "#### Tuning of the models"
   ]
  },
  {
   "cell_type": "code",
   "execution_count": 58,
   "metadata": {},
   "outputs": [
    {
     "name": "stdout",
     "output_type": "stream",
     "text": [
      "KNN best parameters :\n",
      " {'algorithm': 'auto', 'leaf_size': 2, 'metric': 'minkowski', 'n_neighbors': 7, 'p': 2, 'weights': 'distance'}\n",
      "==============================================================================\n",
      "KNN final model :\n",
      " KNeighborsClassifier(leaf_size=2, n_neighbors=7, weights='distance')\n",
      "==============================================================================\n",
      "Fitting to the train set : 1.000\n",
      "==============================================================================\n",
      "Final model Accuracy : 0.522\n",
      "==============================================================================\n",
      "Base model accuracy : 0.485\n",
      "==============================================================================\n",
      "Classification report : \n",
      "              precision    recall  f1-score   support\n",
      "\n",
      "           0      0.517     0.573     0.543       377\n",
      "           1      0.528     0.471     0.498       382\n",
      "\n",
      "    accuracy                          0.522       759\n",
      "   macro avg      0.522     0.522     0.521       759\n",
      "weighted avg      0.522     0.522     0.521       759\n",
      "\n",
      "==============================================================================\n",
      "Confusion matrix : \n"
     ]
    },
    {
     "data": {
      "image/png": "[encoded data removed]",
      "text/plain": [
       "<Figure size 432x288 with 2 Axes>"
      ]
     },
     "metadata": {
      "needs_background": "light"
     },
     "output_type": "display_data"
    }
   ],
   "source": [
    "best_knn_model_out = tuning('knn')"
   ]
  },
  {
   "cell_type": "code",
   "execution_count": 59,
   "metadata": {},
   "outputs": [
    {
     "name": "stdout",
     "output_type": "stream",
     "text": [
      "Logistic Regression best parameters :\n",
      " {'C': 0.0001, 'penalty': 'none', 'solver': 'newton-cg'}\n",
      "==============================================================================\n",
      "Logistic Regression final model :\n",
      " LogisticRegression(C=0.0001, penalty='none', solver='newton-cg')\n",
      "==============================================================================\n",
      "Fitting to the train set : 0.973\n",
      "==============================================================================\n",
      "Final model Accuracy : 0.971\n",
      "==============================================================================\n",
      "Base model accuracy : 0.497\n",
      "==============================================================================\n",
      "Classification report : \n",
      "              precision    recall  f1-score   support\n",
      "\n",
      "           0      1.000     0.942     0.970       377\n",
      "           1      0.946     1.000     0.972       382\n",
      "\n",
      "    accuracy                          0.971       759\n",
      "   macro avg      0.973     0.971     0.971       759\n",
      "weighted avg      0.973     0.971     0.971       759\n",
      "\n",
      "==============================================================================\n",
      "Confusion matrix : \n"
     ]
    },
    {
     "data": {
      "image/png": "[encoded data removed]",
      "text/plain": [
       "<Figure size 432x288 with 2 Axes>"
      ]
     },
     "metadata": {
      "needs_background": "light"
     },
     "output_type": "display_data"
    }
   ],
   "source": [
    "best_logreg_model_out = tuning('logreg')"
   ]
  },
  {
   "cell_type": "code",
   "execution_count": 60,
   "metadata": {},
   "outputs": [
    {
     "name": "stdout",
     "output_type": "stream",
     "text": [
      "SVM best parameters : {'C': 0.1, 'gamma': 0.1, 'kernel': 'rbf'}\n",
      "==============================================================================\n",
      "SVM final model : SVC(C=0.1, gamma=0.1)\n",
      "==============================================================================\n",
      "Fitting to the train set : 0.501\n",
      "==============================================================================\n",
      "Final model Accuracy : 0.497\n",
      "==============================================================================\n",
      "Base model accuracy : 0.497\n",
      "==============================================================================\n",
      "Classification report : \n",
      "              precision    recall  f1-score   support\n",
      "\n",
      "           0      0.497     1.000     0.664       377\n",
      "           1      1.000     0.000     0.000       382\n",
      "\n",
      "    accuracy                          0.497       759\n",
      "   macro avg      0.748     0.500     0.332       759\n",
      "weighted avg      0.750     0.497     0.330       759\n",
      "\n",
      "==============================================================================\n",
      "Confusion matrix : \n"
     ]
    },
    {
     "data": {
      "image/png": "[encoded data removed]",
      "text/plain": [
       "<Figure size 432x288 with 2 Axes>"
      ]
     },
     "metadata": {
      "needs_background": "light"
     },
     "output_type": "display_data"
    }
   ],
   "source": [
    "best_svm_model_out = tuning('svm')"
   ]
  },
  {
   "cell_type": "code",
   "execution_count": 61,
   "metadata": {},
   "outputs": [
    {
     "data": {
      "image/png": "[encoded data removed]",
      "text/plain": [
       "<Figure size 432x288 with 1 Axes>"
      ]
     },
     "metadata": {
      "needs_background": "light"
     },
     "output_type": "display_data"
    }
   ],
   "source": [
    "score_summary(best_logreg_model_out, best_knn_model_out, best_svm_model_out, model_lda_rus)"
   ]
  },
  {
   "cell_type": "code",
   "execution_count": 62,
   "metadata": {},
   "outputs": [
    {
     "data": {
      "image/png": "[encoded data removed]",
      "text/plain": [
       "<Figure size 432x288 with 1 Axes>"
      ]
     },
     "metadata": {
      "needs_background": "light"
     },
     "output_type": "display_data"
    }
   ],
   "source": [
    "classifiers = [best_logreg_model_out, best_knn_model_out, best_svm_model_out, model_lda_rus]\n",
    "ax = plt.gca()\n",
    "for i in classifiers:\n",
    "    plot_roc_curve(i, X_test, y_test, ax = ax)"
   ]
  },
  {
   "cell_type": "markdown",
   "metadata": {},
   "source": [
    "Comment : After the undersampling and tuning of the models, we can see the accuracy scores distributed as :\n",
    "- `logreg` : 97.10%\n",
    "- `LDA` : 91.44%\n",
    "- `KNN` : 52.17%\n",
    "- `SVM` : 49.67%\n",
    "The `logreg` and the `LDA` models are performing way better than the others and we can see that the confusion matrices and AUC scores shows that KNN and SVM don't have much prediction power. We can also look at the confusion matrices for validation and that is reflectedin the AUC scores. These scores are presented in the graph and we can see clearly that the `logreg` model perform better than all the others. It is reflected in the tuning ouput, the accuracies score are :\n",
    "- `Training set : 97.3%`, proves the model has learned the relationship between the features and the target\n",
    "- `Test set : 97.1%`, great performance on the testing set so no suspicion of overfitting\n",
    "-  and we can see in the confusion matrix that the classification is way better than the oter models."
   ]
  },
  {
   "cell_type": "markdown",
   "metadata": {},
   "source": [
    "## Findings <a id='sec1.5'></a>"
   ]
  },
  {
   "cell_type": "markdown",
   "metadata": {},
   "source": []
  },
  {
   "cell_type": "markdown",
   "metadata": {},
   "source": [
    "Comment : After the tuning, we can see the scores distributed as :\n",
    "- `logreg` : 97.10%\n",
    "- `LDA` : 91.44%\n",
    "- `KNN` : 52.17%\n",
    "- `SVM` : 49.67%\n",
    "The `logreg` and the `LDA`models are performing way better than the others and we can see that the confusion matrices and AUC scores shows that KNN and SVM don't have much prediction power."
   ]
  },
  {
   "cell_type": "markdown",
   "metadata": {},
   "source": [
    "We found that the three methods `(Lasso, Gradient Boosting, Principal Components Analysis)` that we used have the same power of prediction `(AUC = 0.89)` as the `base logistic model (logreg)` performed as a benchmark to compare the models performances. Given that the distribution of the target `(quality)`is unbalanced `(Bad : 86%, Good : 14%)` The differences between the three methods is more reflated in the accuracy metric (because they have hte same power of prediction `AUC = 0.89`) so we have to break it down to have a better understanding of the matter :\n",
    "- For the Lasso method, the quality of the model is improved as the accuracy comparison proves it : `88.7% for logreg versus 89.5% for lasso`. The confusion matrix shows also that we have an `precision of 70%` in the prediction of the minority class. This method dropped the features : `('free sulfur dioxide'` and `'pH')`.\n",
    "- We can make the same conclusion as before for the Gradient Boosting (GB) strategy because the accuracy is improved : `88.7% for logreg versus 89.0% for GB` and this method dropped `'residual sugar'` and `pH`. As for the confusion matrix, we have seen that it presents a `precision of 65.5%` in predicting the minority class.\n",
    "- As for the Pricipal Components Analysis (PCA), the accuracy slightly dropped : `88.7% for logreg versus 88.5% for PCA`. We also conclude with this strategy specifies that nine components is enough to capture the essence of the information contained in the original dataset and this method  we have `60% precision` in the prediction of the minority class."
   ]
  },
  {
   "cell_type": "markdown",
   "metadata": {},
   "source": [
    "## Trash"
   ]
  },
  {
   "cell_type": "markdown",
   "metadata": {},
   "source": [
    "### ads"
   ]
  },
  {
   "cell_type": "code",
   "execution_count": null,
   "metadata": {},
   "outputs": [],
   "source": [
    "# # define lists to collect scores\n",
    "# train_scores, test_scores = list(), list()\n",
    "# # define the tree depths to evaluate\n",
    "# values = [i for i in range(1, 16)]\n",
    "# # evaluate a decision tree for each depth\n",
    "# for i in values:\n",
    "# \t# configure the model\n",
    "# \tmodel = KNeighborsClassifier(n_neighbors=i)\n",
    "# \t# fit model on the training dataset\n",
    "# \tmodel.fit(X_train, y_train)\n",
    "# \t# evaluate on the train dataset\n",
    "# \ttrain_yhat = model.predict(X_train)\n",
    "# \ttrain_acc = accuracy_score(y_train, train_yhat)\n",
    "# \ttrain_scores.append(train_acc)\n",
    "# \t# evaluate on the test dataset\n",
    "# \ttest_yhat = model.predict(X_test)\n",
    "# \ttest_acc = accuracy_score(y_test, test_yhat)\n",
    "# \ttest_scores.append(test_acc)\n",
    "# \t# summarize progress\n",
    "# \tprint('>%d, train: %.3f, test: %.3f' % (i, train_acc, test_acc))\n",
    "# # plot of train and test scores vs number of neighbors\n",
    "# plt.plot(values, train_scores, '-o', label='Train')\n",
    "# plt.plot(values, test_scores, '-o', label='Test')\n",
    "# plt.legend()\n",
    "# plt.show()"
   ]
  },
  {
   "cell_type": "code",
   "execution_count": null,
   "metadata": {},
   "outputs": [],
   "source": [
    "# from sklearn.pipeline import Pipeline\n",
    "# for name, estimator, grid in zip(names, estimators, grids):\n",
    "#     # clf_pipe = Pipeline([\n",
    "#     #     ('clf', estimator),\n",
    "#     # ])\n",
    "#     gs_clf = GridSearchCV(estimator=estimator, param_grid=grid, n_jobs=-1)\n",
    "#     clf = gs_clf.fit(X_train, y_train)\n",
    "#     score = clf.score(X_test, y_test)\n",
    "#     print(\"{} score: {:.3f}\".format(name, score))"
   ]
  },
  {
   "cell_type": "code",
   "execution_count": null,
   "metadata": {},
   "outputs": [],
   "source": [
    "# for grid, estimator in zip(grids, estimators) :\n",
    "#     # estimator = estimators[grid]\n",
    "#     best_params = []\n",
    "#     grid_S = GridSearchCV(estimator=estimator, param_grid=grid, cv=5, n_jobs=-1)\n",
    "#     grid_S_out = grid_S.fit(X_train, y_train).best_estimator_\n",
    "#     best_params = best_params.append(grid_S_out)"
   ]
  },
  {
   "cell_type": "code",
   "execution_count": null,
   "metadata": {},
   "outputs": [],
   "source": [
    "# for grid, estimator in zip(grids, estimators) :\n",
    "#     print(grid,'for', estimator)"
   ]
  },
  {
   "cell_type": "code",
   "execution_count": null,
   "metadata": {},
   "outputs": [],
   "source": [
    "# for grid in grids :\n",
    "#     estimator = estimators[i]\n",
    "#     print(grid, estimator)"
   ]
  },
  {
   "cell_type": "code",
   "execution_count": 130,
   "metadata": {},
   "outputs": [],
   "source": [
    "\n",
    "# # Instantiate the grid search model\n",
    "# grid = GridSearchCV(estimator = model_knn, param_grid = param_grid_knn, cv = 5, n_jobs=-1)\n",
    "# # Fit the grid search to the data\n",
    "# best_knn_grid = grid.fit(X_train, y_train)"
   ]
  },
  {
   "cell_type": "code",
   "execution_count": null,
   "metadata": {},
   "outputs": [],
   "source": [
    "# best_knn_grid.best_estimator_"
   ]
  },
  {
   "cell_type": "code",
   "execution_count": null,
   "metadata": {},
   "outputs": [],
   "source": [
    "# plt.xlabel('LD1')\n",
    "# plt.ylabel('LD2')\n",
    "# plt.scatter(lda.fit_transform(X, y)[:,0],lda.fit_transform(X_train, y_train)[:,1],c=y,cmap='rainbow',edgecolors='r')"
   ]
  },
  {
   "cell_type": "code",
   "execution_count": 35,
   "metadata": {},
   "outputs": [
    {
     "data": {
      "text/plain": [
       "KNeighborsClassifier(leaf_size=2, n_neighbors=15)"
      ]
     },
     "execution_count": 35,
     "metadata": {},
     "output_type": "execute_result"
    }
   ],
   "source": [
    "# best_knn_grid.best_estimator_"
   ]
  },
  {
   "cell_type": "code",
   "execution_count": 36,
   "metadata": {},
   "outputs": [],
   "source": [
    "# def tuning(model):\n",
    "#     \"\"\"Perform tuning of the models parameters\n",
    "\n",
    "#     Args:\n",
    "#         model: perfomed models by the model_accuracy() function\n",
    "#     \"\"\"\n",
    "#     if model == 'svm':\n",
    "#         pass\n",
    "    \n",
    "#     elif model == 'knn':\n",
    "        \n",
    "#         print('KNN best parameters :', best_knn_grid.best_params_)\n",
    "#         best_knn_model = best_knn_grid.best_estimator_\n",
    "#         print(\"==============================================================================\")\n",
    "#         print(\"KNN final model :\", best_knn_model)\n",
    "#         print(\"==============================================================================\")\n",
    "#         print('Fitting to the train set : {:04.3f}'.format(best_knn_model.score(X_train, y_train)))\n",
    "#         print(\"==============================================================================\")\n",
    "#         score_best_knn = best_knn_model.score(X_test, y_test)\n",
    "#         print('Final model Accuracy : {:04.3f}'.format(score_best_knn))\n",
    "#         print(\"==============================================================================\")\n",
    "#         score_base_knn = model_knn.score(X_test, y_test)\n",
    "#         print(\"Base model accuracy : {:04.3f}\".format(score_base_knn))\n",
    "#         print(\"==============================================================================\")\n",
    "#         print(\"Classification report : \")\n",
    "#         best_knn_pred = best_knn_model.predict(X_test)\n",
    "#         print(classification_report(y_test, best_knn_pred, \n",
    "#                                     digits=3, zero_division = 1))\n",
    "#         print(\"==============================================================================\")\n",
    "#         print(\"Confusion matrix : \")\n",
    "#         disp = plot_confusion_matrix(best_knn_model, X_test, y_test, cmap='Reds', values_format='d',\n",
    "#                                     xticks_rotation='vertical')\n",
    "#     else :\n",
    "#         print(\"'Enter a valid option...\")"
   ]
  },
  {
   "cell_type": "code",
   "execution_count": null,
   "metadata": {},
   "outputs": [],
   "source": [
    "# tuning('knn')"
   ]
  },
  {
   "cell_type": "code",
   "execution_count": null,
   "metadata": {},
   "outputs": [],
   "source": []
  },
  {
   "cell_type": "markdown",
   "metadata": {},
   "source": [
    "#### SVM"
   ]
  },
  {
   "cell_type": "code",
   "execution_count": 38,
   "metadata": {},
   "outputs": [],
   "source": [
    "# model_svm = model_accuracy('svm')"
   ]
  },
  {
   "cell_type": "code",
   "execution_count": 39,
   "metadata": {},
   "outputs": [],
   "source": [
    "# param_grid = {\n",
    "#     'C': [0.1, 1, 10, 100], \n",
    "#     'gamma': [1,0.1,0.01],\n",
    "#     # 'kernel': ['rbf', 'poly', 'sigmoid']\n",
    "#     }"
   ]
  },
  {
   "cell_type": "code",
   "execution_count": 40,
   "metadata": {},
   "outputs": [],
   "source": [
    "# grid = GridSearchCV(estimator=model_svm,param_grid= param_grid, cv=5, n_jobs=-1)\n",
    "# grid.fit(X_train,y_train)"
   ]
  },
  {
   "cell_type": "code",
   "execution_count": 41,
   "metadata": {},
   "outputs": [],
   "source": [
    "# print(grid.best_estimator_)"
   ]
  },
  {
   "cell_type": "code",
   "execution_count": 42,
   "metadata": {},
   "outputs": [],
   "source": [
    "# grid_predictions = grid.predict(X_test)\n",
    "# print(plot_confusion_matrix(grid.best_estimator_, X_test, y_test, cmap='Reds', values_format='d',\n",
    "#                                     xticks_rotation='vertical'))\n",
    "# print(classification_report(y_test,grid_predictions))\n",
    "# # confusion_matrix(y_test, y_pred_svm, normalize='true')"
   ]
  },
  {
   "cell_type": "code",
   "execution_count": 43,
   "metadata": {},
   "outputs": [],
   "source": [
    "# tuning('svm')"
   ]
  },
  {
   "cell_type": "code",
   "execution_count": 44,
   "metadata": {},
   "outputs": [],
   "source": [
    "# # define lists to collect scores\n",
    "# train_scores, test_scores = list(), list()\n",
    "# # define the tree depths to evaluate\n",
    "# values = [i for i in range(1, 21)]\n",
    "# # evaluate a decision tree for each depth\n",
    "# for i in values:\n",
    "# \t# configure the model\n",
    "# \tmodel = KNeighborsClassifier(n_neighbors=i)\n",
    "# \t# fit model on the training dataset\n",
    "# \tmodel.fit(X_train, y_train)\n",
    "# \t# evaluate on the train dataset\n",
    "# \ttrain_yhat = model.predict(X_train)\n",
    "# \ttrain_acc = accuracy_score(y_train, train_yhat)\n",
    "# \ttrain_scores.append(train_acc)\n",
    "# \t# evaluate on the test dataset\n",
    "# \ttest_yhat = model.predict(X_test)\n",
    "# \ttest_acc = accuracy_score(y_test, test_yhat)\n",
    "# \ttest_scores.append(test_acc)\n",
    "# \t# summarize progress\n",
    "# \tprint('>%d, train: %.3f, test: %.3f' % (i, train_acc, test_acc))\n",
    "# # plot of train and test scores vs number of neighbors\n",
    "# plt.plot(values, train_scores, '-o', label='Train')\n",
    "# plt.plot(values, test_scores, '-o', label='Test')\n",
    "# plt.legend()\n",
    "# plt.show()"
   ]
  },
  {
   "cell_type": "code",
   "execution_count": 45,
   "metadata": {},
   "outputs": [
    {
     "data": {
      "text/plain": [
       "LinearDiscriminantAnalysis()"
      ]
     },
     "execution_count": 45,
     "metadata": {},
     "output_type": "execute_result"
    }
   ],
   "source": [
    "# from sklearn.discriminant_analysis import LinearDiscriminantAnalysis\n",
    "\n",
    "# clf = LinearDiscriminantAnalysis()\n",
    "# clf.fit(X_train, y_train)"
   ]
  },
  {
   "cell_type": "code",
   "execution_count": 46,
   "metadata": {},
   "outputs": [],
   "source": [
    "# pred = clf.predict(X_test)"
   ]
  },
  {
   "cell_type": "code",
   "execution_count": 47,
   "metadata": {},
   "outputs": [
    {
     "data": {
      "text/plain": [
       "0.875"
      ]
     },
     "execution_count": 47,
     "metadata": {},
     "output_type": "execute_result"
    }
   ],
   "source": [
    "# clf.score(X_test, y_test)"
   ]
  },
  {
   "cell_type": "code",
   "execution_count": null,
   "metadata": {},
   "outputs": [],
   "source": [
    "# plot_confusion_matrix(clf, X_test, y_test, cmap='Reds', values_format='d', xticks_rotation= 'vertical')"
   ]
  },
  {
   "cell_type": "code",
   "execution_count": null,
   "metadata": {},
   "outputs": [],
   "source": [
    "# X_train1, X_test1, y_train1, y_test1 = train_test_split(X_rus, y_rus, random_state=0, test_size=.3)"
   ]
  },
  {
   "cell_type": "code",
   "execution_count": null,
   "metadata": {},
   "outputs": [],
   "source": [
    "# clf=clf.fit_transform(X_train1, y_train1)"
   ]
  },
  {
   "cell_type": "code",
   "execution_count": null,
   "metadata": {},
   "outputs": [],
   "source": [
    "# clf.score(X_test, y_test)"
   ]
  },
  {
   "cell_type": "code",
   "execution_count": null,
   "metadata": {},
   "outputs": [],
   "source": [
    "# clf.score(X_test1, y_test1)"
   ]
  },
  {
   "cell_type": "code",
   "execution_count": null,
   "metadata": {},
   "outputs": [],
   "source": [
    "# plot_confusion_matrix(clf, X_test1, y_test1, cmap='Reds', values_format='d', xticks_rotation= 'vertical')"
   ]
  },
  {
   "cell_type": "code",
   "execution_count": null,
   "metadata": {},
   "outputs": [],
   "source": [
    "# from numpy import where"
   ]
  },
  {
   "cell_type": "code",
   "execution_count": null,
   "metadata": {},
   "outputs": [],
   "source": [
    "# counter = Counter(y)\n",
    "# for label, _ in counter.items():\n",
    "#     row_ix = where(y == label)[0]\n",
    "# \tplt.scatter(X[row_ix, 0], X[row_ix, 1], label=str(label))\n",
    "# plt.legend()\n",
    "# plt.show()"
   ]
  },
  {
   "cell_type": "code",
   "execution_count": null,
   "metadata": {},
   "outputs": [],
   "source": [
    "# data.columns"
   ]
  },
  {
   "cell_type": "code",
   "execution_count": null,
   "metadata": {},
   "outputs": [],
   "source": [
    "# groups = data.groupby('category')\n",
    "# for name, group in groups:\n",
    "#     plt.plot(group[0], group[1], marker=\"o\", linestyle=\"\", label=name)\n",
    "# plt.legend()"
   ]
  },
  {
   "cell_type": "code",
   "execution_count": null,
   "metadata": {},
   "outputs": [],
   "source": [
    "# a = data.loc[data.category == 0]\n",
    "# b = data.loc[data.category == 1]# from imblearn.under_sampling import RandomUnderSampler\n",
    "# from collections import Counter\n",
    "\n",
    "# rus = RandomUnderSampler(random_state=42, replacement=True)\n",
    "# X_rus, y_rus = rus.fit_resample(X, y)\n",
    "# print('Original dataset shape : ', Counter(y))\n",
    "# print('Resample dataset shape : ', Counter(y_rus))\n",
    "# from imblearn.under_sampling import RandomUnderSampler\n",
    "# from collections import Counter\n",
    "\n",
    "# rus = RandomUnderSampler(random_state=42, replacement=True)\n",
    "# X_rus, y_rus = rus.fit_resample(X, y)\n",
    "# print('Original dataset shape : ', Counter(y))\n",
    "# print('Resample dataset shape : ', Counter(y_rus))\n",
    "# X_train, X_test, y_train, y_test = train_test_split(X_rus, y_rus, random_state=0, test_size=.3)\n",
    "# tuning('knn')"
   ]
  },
  {
   "cell_type": "code",
   "execution_count": null,
   "metadata": {},
   "outputs": [],
   "source": [
    "# roc_auc_score(y_train, model_knn.predict(X_train))"
   ]
  },
  {
   "cell_type": "code",
   "execution_count": null,
   "metadata": {},
   "outputs": [],
   "source": [
    "# roc_auc_score(y_test, model_knn.predict(X_test))"
   ]
  },
  {
   "cell_type": "code",
   "execution_count": null,
   "metadata": {},
   "outputs": [],
   "source": [
    "# from sklearn.preprocessing import StandardScaler\n",
    "\n",
    "# #Independent variables \n",
    "# X = data.drop('category',axis=1).values\n",
    "# #Dependent variable\n",
    "# y = data.category.values\n",
    "\n",
    "# scaler=StandardScaler()\n",
    "# X = scaler.fit_transform(X)\n",
    "\n",
    "# X_train, X_test, y_train, y_test = train_test_split(X, y, random_state=0, test_size= .3)"
   ]
  },
  {
   "cell_type": "code",
   "execution_count": null,
   "metadata": {},
   "outputs": [],
   "source": [
    "# plt.figure(figsize=(12, 4))\n",
    "# plt.subplot(121)\n",
    "# plt.scatter(X_train[:, 0], X_train[:, 1], c=y_train, alpha=0.8)\n",
    "# plt.title('Train set')\n",
    "# plt.subplot(122)\n",
    "# plt.scatter(X_test[:, 0], X_test[:, 1],c=y_test, alpha=0.8)\n",
    "# plt.title('Test set');"
   ]
  },
  {
   "cell_type": "code",
   "execution_count": null,
   "metadata": {},
   "outputs": [],
   "source": [
    "# clf = SVC(kernel='linear', C=1, random_state=42).fit(X_train, y_train)\n",
    "# scores = cross_val_score(clf, X, y, cv=5)"
   ]
  },
  {
   "cell_type": "code",
   "execution_count": null,
   "metadata": {},
   "outputs": [],
   "source": [
    "# scores.mean()"
   ]
  },
  {
   "cell_type": "code",
   "execution_count": null,
   "metadata": {},
   "outputs": [],
   "source": [
    "# plot_confusion_matrix(clf, X_test, y_test, cmap='Reds', values_format='d',\n",
    "#                                     xticks_rotation= 'vertical')"
   ]
  },
  {
   "cell_type": "code",
   "execution_count": null,
   "metadata": {},
   "outputs": [],
   "source": [
    "# plt.xlabel('LD1')\n",
    "# plt.ylabel('LD2')\n",
    "# plt.scatter(lda.fit_transform(X, y)[:,0],lda.fit_transform(X_train, y_train)[:,1],c=y,cmap='rainbow',edgecolors='r')"
   ]
  },
  {
   "cell_type": "markdown",
   "metadata": {},
   "source": [
    "#### Hyperparameters tuning"
   ]
  },
  {
   "cell_type": "code",
   "execution_count": null,
   "metadata": {},
   "outputs": [],
   "source": [
    "# Define the grid of parameters\n",
    "# param_grid = {\n",
    "#     'n_neighbors': [i for i in range(2, 21)],\n",
    "#     # 'n_neighbors': [5, 7, 10, 15],\n",
    "#     # 'weights' : ['distance']\n",
    "#     # 'algorithm' : ['auto', 'ball_tree', 'kd_tree', 'brute']\n",
    "# }\n",
    "\n",
    "# param_grid = {'n_neighbors':[3, 5, 7, 9, 11, 13, 15],\n",
    "#               'weights':['uniform', 'distance'],\n",
    "#               'algorithm':['auto', 'ball_tree', 'kd_tree', 'brute'],\n",
    "#               'leaf_size':[25, 30, 35, 40],\n",
    "#               'p':[1, 2],\n",
    "#               'metric':['manhattan', 'minkowski']\n",
    "#              }\n",
    "# param_grid = {'n_neighbors':[3, 5, 7, 9, 11, 13, 15],\n",
    "#               'leaf_size':[2, 3, 4]\n",
    "#              }\n",
    "\n",
    "\n",
    "# # Instantiate the grid search model\n",
    "# grid = GridSearchCV(estimator = model_knn, param_grid = param_grid, cv = 5, n_jobs=-1)\n",
    "# # Fit the grid search to the data\n",
    "# best_knn_grid = grid.fit(X_train, y_train)"
   ]
  },
  {
   "cell_type": "code",
   "execution_count": null,
   "metadata": {},
   "outputs": [
    {
     "data": {
      "text/plain": [
       "KNeighborsClassifier(leaf_size=2, n_neighbors=15)"
      ]
     },
     "metadata": {},
     "output_type": "display_data"
    }
   ],
   "source": [
    "# best_knn_grid.best_estimator_"
   ]
  },
  {
   "cell_type": "code",
   "execution_count": null,
   "metadata": {},
   "outputs": [],
   "source": [
    "# def tuning(model):\n",
    "#     \"\"\"Perform tuning of the models parameters\n",
    "\n",
    "#     Args:\n",
    "#         model: perfomed models by the model_accuracy() function\n",
    "#     \"\"\"\n",
    "#     if model == 'svm':\n",
    "#         pass\n",
    "    \n",
    "#     elif model == 'knn':\n",
    "        \n",
    "#         print('KNN best parameters :', best_knn_grid.best_params_)\n",
    "#         best_knn_model = best_knn_grid.best_estimator_\n",
    "#         print(\"==============================================================================\")\n",
    "#         print(\"KNN final model :\", best_knn_model)\n",
    "#         print(\"==============================================================================\")\n",
    "#         print('Fitting to the train set : {:04.3f}'.format(best_knn_model.score(X_train, y_train)))\n",
    "#         print(\"==============================================================================\")\n",
    "#         score_best_knn = best_knn_model.score(X_test, y_test)\n",
    "#         print('Final model Accuracy : {:04.3f}'.format(score_best_knn))\n",
    "#         print(\"==============================================================================\")\n",
    "#         score_base_knn = model_knn.score(X_test, y_test)\n",
    "#         print(\"Base model accuracy : {:04.3f}\".format(score_base_knn))\n",
    "#         print(\"==============================================================================\")\n",
    "#         print(\"Classification report : \")\n",
    "#         best_knn_pred = best_knn_model.predict(X_test)\n",
    "#         print(classification_report(y_test, best_knn_pred, \n",
    "#                                     digits=3, zero_division = 1))\n",
    "#         print(\"==============================================================================\")\n",
    "#         print(\"Confusion matrix : \")\n",
    "#         disp = plot_confusion_matrix(best_knn_model, X_test, y_test, cmap='Reds', values_format='d',\n",
    "#                                     xticks_rotation='vertical')\n",
    "#     else :\n",
    "#         print(\"'Enter a valid option...\")"
   ]
  },
  {
   "cell_type": "code",
   "execution_count": null,
   "metadata": {},
   "outputs": [],
   "source": [
    "# tuning('knn')"
   ]
  },
  {
   "cell_type": "code",
   "execution_count": null,
   "metadata": {},
   "outputs": [],
   "source": []
  },
  {
   "cell_type": "code",
   "execution_count": null,
   "metadata": {},
   "outputs": [
    {
     "data": {
      "image/png": "[encoded data removed]",
      "text/plain": [
       "<Figure size 432x288 with 1 Axes>"
      ]
     },
     "metadata": {},
     "output_type": "display_data"
    }
   ],
   "source": [
    "# score_summary()"
   ]
  },
  {
   "cell_type": "markdown",
   "metadata": {},
   "source": [
    "# **Section 2** <a id = 'sec2'></a>"
   ]
  },
  {
   "cell_type": "markdown",
   "metadata": {},
   "source": [
    "## System setup <a id='sec2.1'></a>"
   ]
  },
  {
   "cell_type": "code",
   "execution_count": 185,
   "metadata": {},
   "outputs": [],
   "source": [
    "from sklearn.cluster import KMeans\n",
    "from sklearn.mixture import GaussianMixture\n",
    "from sklearn.preprocessing import StandardScaler"
   ]
  },
  {
   "cell_type": "markdown",
   "metadata": {},
   "source": [
    "## Importing Data <a id='sec2.2'></a>"
   ]
  },
  {
   "cell_type": "code",
   "execution_count": 196,
   "metadata": {},
   "outputs": [],
   "source": [
    "data2 = pd.read_csv('data/covid19data/covidcases.csv', sep=',', delimiter=None, header='infer', names=None, index_col=None, usecols=None)"
   ]
  },
  {
   "cell_type": "markdown",
   "metadata": {},
   "source": [
    "## Exploratory data analysis<a id='sec2.3'></a>"
   ]
  },
  {
   "cell_type": "code",
   "execution_count": 200,
   "metadata": {},
   "outputs": [
    {
     "data": {
      "text/html": [
       "<div>\n",
       "<style scoped>\n",
       "    .dataframe tbody tr th:only-of-type {\n",
       "        vertical-align: middle;\n",
       "    }\n",
       "\n",
       "    .dataframe tbody tr th {\n",
       "        vertical-align: top;\n",
       "    }\n",
       "\n",
       "    .dataframe thead th {\n",
       "        text-align: right;\n",
       "    }\n",
       "</style>\n",
       "<table border=\"1\" class=\"dataframe\">\n",
       "  <thead>\n",
       "    <tr style=\"text-align: center;\">\n",
       "      <th></th>\n",
       "      <th>ID</th>\n",
       "      <th>Country</th>\n",
       "      <th>TotalCases</th>\n",
       "      <th>TotalDeaths</th>\n",
       "      <th>TotalRecovered</th>\n",
       "      <th>...</th>\n",
       "      <th>TotalCasesPerMillion</th>\n",
       "      <th>TotalDeathsPerMillion</th>\n",
       "      <th>TotalTests</th>\n",
       "      <th>TotalTestsPerMillion</th>\n",
       "      <th>TotalPopulation</th>\n",
       "    </tr>\n",
       "  </thead>\n",
       "  <tbody>\n",
       "    <tr>\n",
       "      <th>0</th>\n",
       "      <td>1</td>\n",
       "      <td>Yemen</td>\n",
       "      <td>9369</td>\n",
       "      <td>1778.000</td>\n",
       "      <td>5921</td>\n",
       "      <td>...</td>\n",
       "      <td>306</td>\n",
       "      <td>58.000</td>\n",
       "      <td>265253.000</td>\n",
       "      <td>8651.000</td>\n",
       "      <td>30660443</td>\n",
       "    </tr>\n",
       "    <tr>\n",
       "      <th>1</th>\n",
       "      <td>2</td>\n",
       "      <td>Vietnam</td>\n",
       "      <td>839662</td>\n",
       "      <td>20555.000</td>\n",
       "      <td>782199</td>\n",
       "      <td>...</td>\n",
       "      <td>8529</td>\n",
       "      <td>209.000</td>\n",
       "      <td>42517091.000</td>\n",
       "      <td>431850.000</td>\n",
       "      <td>98453377</td>\n",
       "    </tr>\n",
       "    <tr>\n",
       "      <th>2</th>\n",
       "      <td>3</td>\n",
       "      <td>Uzbekistan</td>\n",
       "      <td>178637</td>\n",
       "      <td>1271.000</td>\n",
       "      <td>174213</td>\n",
       "      <td>...</td>\n",
       "      <td>5241</td>\n",
       "      <td>37.000</td>\n",
       "      <td>1377915.000</td>\n",
       "      <td>40425.000</td>\n",
       "      <td>34086135</td>\n",
       "    </tr>\n",
       "    <tr>\n",
       "      <th>3</th>\n",
       "      <td>4</td>\n",
       "      <td>UAE</td>\n",
       "      <td>737890</td>\n",
       "      <td>2114.000</td>\n",
       "      <td>731295</td>\n",
       "      <td>...</td>\n",
       "      <td>73477</td>\n",
       "      <td>211.000</td>\n",
       "      <td>87246490.000</td>\n",
       "      <td>8687776.000</td>\n",
       "      <td>10042442</td>\n",
       "    </tr>\n",
       "    <tr>\n",
       "      <th>4</th>\n",
       "      <td>5</td>\n",
       "      <td>Turkey</td>\n",
       "      <td>7444552</td>\n",
       "      <td>66180.000</td>\n",
       "      <td>6893476</td>\n",
       "      <td>...</td>\n",
       "      <td>87077</td>\n",
       "      <td>774.000</td>\n",
       "      <td>89847975.000</td>\n",
       "      <td>1050928.000</td>\n",
       "      <td>85493959</td>\n",
       "    </tr>\n",
       "  </tbody>\n",
       "</table>\n",
       "<p>5 rows × 11 columns</p>\n",
       "</div>"
      ],
      "text/plain": [
       "   ID   Country    TotalCases  TotalDeaths  TotalRecovered  ...  \\\n",
       "0   1       Yemen       9369    1778.000           5921     ...   \n",
       "1   2     Vietnam     839662   20555.000         782199     ...   \n",
       "2   3  Uzbekistan     178637    1271.000         174213     ...   \n",
       "3   4         UAE     737890    2114.000         731295     ...   \n",
       "4   5      Turkey    7444552   66180.000        6893476     ...   \n",
       "\n",
       "   TotalCasesPerMillion  TotalDeathsPerMillion  TotalTests   \\\n",
       "0            306                58.000           265253.000   \n",
       "1           8529               209.000         42517091.000   \n",
       "2           5241                37.000          1377915.000   \n",
       "3          73477               211.000         87246490.000   \n",
       "4          87077               774.000         89847975.000   \n",
       "\n",
       "   TotalTestsPerMillion  TotalPopulation  \n",
       "0         8651.000          30660443      \n",
       "1       431850.000          98453377      \n",
       "2        40425.000          34086135      \n",
       "3      8687776.000          10042442      \n",
       "4      1050928.000          85493959      \n",
       "\n",
       "[5 rows x 11 columns]"
      ]
     },
     "metadata": {},
     "output_type": "display_data"
    },
    {
     "name": "stdout",
     "output_type": "stream",
     "text": [
      "Valeurs manquantes : 4 - La dimension de la data est: (49, 11)\n"
     ]
    }
   ],
   "source": [
    "display(data2.head())\n",
    "print(\"Valeurs manquantes :\", data2.isna().sum().sum(), \"- La dimension de la data est:\", data2.shape)"
   ]
  },
  {
   "cell_type": "code",
   "execution_count": 201,
   "metadata": {},
   "outputs": [
    {
     "name": "stdout",
     "output_type": "stream",
     "text": [
      "<class 'pandas.core.frame.DataFrame'>\n",
      "RangeIndex: 49 entries, 0 to 48\n",
      "Data columns (total 11 columns):\n",
      " #   Column                 Non-Null Count  Dtype  \n",
      "---  ------                 --------------  -----  \n",
      " 0   ID                     49 non-null     int64  \n",
      " 1   Country                49 non-null     object \n",
      " 2   TotalCases             49 non-null     int64  \n",
      " 3   TotalDeaths            48 non-null     float64\n",
      " 4   TotalRecovered         49 non-null     int64  \n",
      " 5   ActiveCases            49 non-null     int64  \n",
      " 6   TotalCasesPerMillion   49 non-null     int64  \n",
      " 7   TotalDeathsPerMillion  48 non-null     float64\n",
      " 8   TotalTests             48 non-null     float64\n",
      " 9   TotalTestsPerMillion   48 non-null     float64\n",
      " 10  TotalPopulation        49 non-null     int64  \n",
      "dtypes: float64(4), int64(6), object(1)\n",
      "memory usage: 4.3+ KB\n"
     ]
    }
   ],
   "source": [
    "data2.info()"
   ]
  },
  {
   "cell_type": "code",
   "execution_count": 215,
   "metadata": {},
   "outputs": [],
   "source": [
    "# data2.duplicated().sum(),\n",
    "#Removing all the duplicated records\n",
    "data2.drop_duplicates(inplace=True)\n"
   ]
  },
  {
   "cell_type": "code",
   "execution_count": 203,
   "metadata": {},
   "outputs": [
    {
     "name": "stdout",
     "output_type": "stream",
     "text": [
      "TotalDeaths 1\n",
      "TotalDeathsPerMillion 1\n",
      "TotalTests 1\n",
      "TotalTestsPerMillion 1\n"
     ]
    }
   ],
   "source": [
    " # permet d afficher les colonnes avec les données manquantes à coté \n",
    "column_with_nan = data2.columns[data2.isnull().any()]\n",
    "for column in column_with_nan:\n",
    "    print(column, data2[column].isnull().sum())"
   ]
  },
  {
   "cell_type": "code",
   "execution_count": 204,
   "metadata": {},
   "outputs": [
    {
     "data": {
      "text/plain": [
       "TotalDeaths             2.041\n",
       "TotalDeathsPerMillion   2.041\n",
       "TotalTests              2.041\n",
       "TotalTestsPerMillion    2.041\n",
       "ID                      0.000\n",
       "                         ... \n",
       "TotalCases              0.000\n",
       "TotalRecovered          0.000\n",
       "ActiveCases             0.000\n",
       "TotalCasesPerMillion    0.000\n",
       "TotalPopulation         0.000\n",
       "Length: 11, dtype: float64"
      ]
     },
     "execution_count": 204,
     "metadata": {},
     "output_type": "execute_result"
    }
   ],
   "source": [
    "missing(data2)"
   ]
  },
  {
   "cell_type": "code",
   "execution_count": 205,
   "metadata": {},
   "outputs": [],
   "source": [
    "data2=data2.dropna(how='any') "
   ]
  },
  {
   "cell_type": "code",
   "execution_count": 207,
   "metadata": {},
   "outputs": [],
   "source": [
    "# valeur abérante\n",
    "def outliers(df): \n",
    "    numerics = ['int16', 'int32', 'int64', 'float16', 'float32', 'float64']\n",
    "    numerical_vars = list(df.select_dtypes(include=numerics).columns)\n",
    "    # ff= df.columns\n",
    "    for i in  numerical_vars :\n",
    "        Q1=df[i].quantile(0.25)\n",
    "        Q3=df[i].quantile(0.75)\n",
    "        \n",
    "        IQR = Q3 - Q1\n",
    "        \n",
    "        lower_lim = Q1 - 1.5*IQR\n",
    "        upper_lim = Q3 - 1.5*IQR\n",
    "        \n",
    "        outlier_low = (df[i] < lower_lim)\n",
    "        outlier_up =(df[i]> upper_lim)\n",
    "        sans_val= df[(outlier_low |outlier_up )]\n",
    "        \n",
    "    return  sans_val"
   ]
  },
  {
   "cell_type": "code",
   "execution_count": 208,
   "metadata": {},
   "outputs": [
    {
     "data": {
      "text/html": [
       "<div>\n",
       "<style scoped>\n",
       "    .dataframe tbody tr th:only-of-type {\n",
       "        vertical-align: middle;\n",
       "    }\n",
       "\n",
       "    .dataframe tbody tr th {\n",
       "        vertical-align: top;\n",
       "    }\n",
       "\n",
       "    .dataframe thead th {\n",
       "        text-align: right;\n",
       "    }\n",
       "</style>\n",
       "<table border=\"1\" class=\"dataframe\">\n",
       "  <thead>\n",
       "    <tr style=\"text-align: center;\">\n",
       "      <th></th>\n",
       "      <th>ID</th>\n",
       "      <th>Country</th>\n",
       "      <th>TotalCases</th>\n",
       "      <th>TotalDeaths</th>\n",
       "      <th>TotalRecovered</th>\n",
       "      <th>...</th>\n",
       "      <th>TotalCasesPerMillion</th>\n",
       "      <th>TotalDeathsPerMillion</th>\n",
       "      <th>TotalTests</th>\n",
       "      <th>TotalTestsPerMillion</th>\n",
       "      <th>TotalPopulation</th>\n",
       "    </tr>\n",
       "  </thead>\n",
       "  <tbody>\n",
       "    <tr>\n",
       "      <th>0</th>\n",
       "      <td>1</td>\n",
       "      <td>Yemen</td>\n",
       "      <td>9369</td>\n",
       "      <td>1778.000</td>\n",
       "      <td>5921</td>\n",
       "      <td>...</td>\n",
       "      <td>306</td>\n",
       "      <td>58.000</td>\n",
       "      <td>265253.000</td>\n",
       "      <td>8651.000</td>\n",
       "      <td>30660443</td>\n",
       "    </tr>\n",
       "    <tr>\n",
       "      <th>1</th>\n",
       "      <td>2</td>\n",
       "      <td>Vietnam</td>\n",
       "      <td>839662</td>\n",
       "      <td>20555.000</td>\n",
       "      <td>782199</td>\n",
       "      <td>...</td>\n",
       "      <td>8529</td>\n",
       "      <td>209.000</td>\n",
       "      <td>42517091.000</td>\n",
       "      <td>431850.000</td>\n",
       "      <td>98453377</td>\n",
       "    </tr>\n",
       "    <tr>\n",
       "      <th>2</th>\n",
       "      <td>3</td>\n",
       "      <td>Uzbekistan</td>\n",
       "      <td>178637</td>\n",
       "      <td>1271.000</td>\n",
       "      <td>174213</td>\n",
       "      <td>...</td>\n",
       "      <td>5241</td>\n",
       "      <td>37.000</td>\n",
       "      <td>1377915.000</td>\n",
       "      <td>40425.000</td>\n",
       "      <td>34086135</td>\n",
       "    </tr>\n",
       "    <tr>\n",
       "      <th>3</th>\n",
       "      <td>4</td>\n",
       "      <td>UAE</td>\n",
       "      <td>737890</td>\n",
       "      <td>2114.000</td>\n",
       "      <td>731295</td>\n",
       "      <td>...</td>\n",
       "      <td>73477</td>\n",
       "      <td>211.000</td>\n",
       "      <td>87246490.000</td>\n",
       "      <td>8687776.000</td>\n",
       "      <td>10042442</td>\n",
       "    </tr>\n",
       "    <tr>\n",
       "      <th>4</th>\n",
       "      <td>5</td>\n",
       "      <td>Turkey</td>\n",
       "      <td>7444552</td>\n",
       "      <td>66180.000</td>\n",
       "      <td>6893476</td>\n",
       "      <td>...</td>\n",
       "      <td>87077</td>\n",
       "      <td>774.000</td>\n",
       "      <td>89847975.000</td>\n",
       "      <td>1050928.000</td>\n",
       "      <td>85493959</td>\n",
       "    </tr>\n",
       "    <tr>\n",
       "      <th>...</th>\n",
       "      <td>...</td>\n",
       "      <td>...</td>\n",
       "      <td>...</td>\n",
       "      <td>...</td>\n",
       "      <td>...</td>\n",
       "      <td>...</td>\n",
       "      <td>...</td>\n",
       "      <td>...</td>\n",
       "      <td>...</td>\n",
       "      <td>...</td>\n",
       "      <td>...</td>\n",
       "    </tr>\n",
       "    <tr>\n",
       "      <th>44</th>\n",
       "      <td>45</td>\n",
       "      <td>Bangladesh</td>\n",
       "      <td>1562359</td>\n",
       "      <td>27688.000</td>\n",
       "      <td>1523833</td>\n",
       "      <td>...</td>\n",
       "      <td>9368</td>\n",
       "      <td>166.000</td>\n",
       "      <td>9952196.000</td>\n",
       "      <td>59673.000</td>\n",
       "      <td>166777589</td>\n",
       "    </tr>\n",
       "    <tr>\n",
       "      <th>45</th>\n",
       "      <td>46</td>\n",
       "      <td>Bahrain</td>\n",
       "      <td>275654</td>\n",
       "      <td>1390.000</td>\n",
       "      <td>273672</td>\n",
       "      <td>...</td>\n",
       "      <td>155162</td>\n",
       "      <td>782.000</td>\n",
       "      <td>6597180.000</td>\n",
       "      <td>3713470.000</td>\n",
       "      <td>1776554</td>\n",
       "    </tr>\n",
       "    <tr>\n",
       "      <th>46</th>\n",
       "      <td>47</td>\n",
       "      <td>Azerbaijan</td>\n",
       "      <td>492179</td>\n",
       "      <td>6664.000</td>\n",
       "      <td>473023</td>\n",
       "      <td>...</td>\n",
       "      <td>47992</td>\n",
       "      <td>650.000</td>\n",
       "      <td>4952737.000</td>\n",
       "      <td>482935.000</td>\n",
       "      <td>10255503</td>\n",
       "    </tr>\n",
       "    <tr>\n",
       "      <th>47</th>\n",
       "      <td>48</td>\n",
       "      <td>Armenia</td>\n",
       "      <td>272957</td>\n",
       "      <td>5575.000</td>\n",
       "      <td>249158</td>\n",
       "      <td>...</td>\n",
       "      <td>91895</td>\n",
       "      <td>1877.000</td>\n",
       "      <td>1811131.000</td>\n",
       "      <td>609747.000</td>\n",
       "      <td>2970299</td>\n",
       "    </tr>\n",
       "    <tr>\n",
       "      <th>48</th>\n",
       "      <td>49</td>\n",
       "      <td>Afghanistan</td>\n",
       "      <td>155540</td>\n",
       "      <td>7228.000</td>\n",
       "      <td>126459</td>\n",
       "      <td>...</td>\n",
       "      <td>3884</td>\n",
       "      <td>181.000</td>\n",
       "      <td>764934.000</td>\n",
       "      <td>19103.000</td>\n",
       "      <td>40041972</td>\n",
       "    </tr>\n",
       "  </tbody>\n",
       "</table>\n",
       "<p>47 rows × 11 columns</p>\n",
       "</div>"
      ],
      "text/plain": [
       "    ID   Country     TotalCases  TotalDeaths  TotalRecovered  ...  \\\n",
       "0    1        Yemen       9369    1778.000           5921     ...   \n",
       "1    2      Vietnam     839662   20555.000         782199     ...   \n",
       "2    3   Uzbekistan     178637    1271.000         174213     ...   \n",
       "3    4          UAE     737890    2114.000         731295     ...   \n",
       "4    5       Turkey    7444552   66180.000        6893476     ...   \n",
       "..  ..          ...         ...          ...             ...  ...   \n",
       "44  45   Bangladesh    1562359   27688.000        1523833     ...   \n",
       "45  46      Bahrain     275654    1390.000         273672     ...   \n",
       "46  47   Azerbaijan     492179    6664.000         473023     ...   \n",
       "47  48      Armenia     272957    5575.000         249158     ...   \n",
       "48  49  Afghanistan     155540    7228.000         126459     ...   \n",
       "\n",
       "    TotalCasesPerMillion  TotalDeathsPerMillion  TotalTests   \\\n",
       "0             306                 58.000          265253.000   \n",
       "1            8529                209.000        42517091.000   \n",
       "2            5241                 37.000         1377915.000   \n",
       "3           73477                211.000        87246490.000   \n",
       "4           87077                774.000        89847975.000   \n",
       "..                   ...                    ...          ...   \n",
       "44           9368                166.000         9952196.000   \n",
       "45         155162                782.000         6597180.000   \n",
       "46          47992                650.000         4952737.000   \n",
       "47          91895               1877.000         1811131.000   \n",
       "48           3884                181.000          764934.000   \n",
       "\n",
       "    TotalTestsPerMillion  TotalPopulation  \n",
       "0          8651.000           30660443     \n",
       "1        431850.000           98453377     \n",
       "2         40425.000           34086135     \n",
       "3       8687776.000           10042442     \n",
       "4       1050928.000           85493959     \n",
       "..                   ...              ...  \n",
       "44        59673.000          166777589     \n",
       "45      3713470.000            1776554     \n",
       "46       482935.000           10255503     \n",
       "47       609747.000            2970299     \n",
       "48        19103.000           40041972     \n",
       "\n",
       "[47 rows x 11 columns]"
      ]
     },
     "execution_count": 208,
     "metadata": {},
     "output_type": "execute_result"
    }
   ],
   "source": [
    "outliers(data2)"
   ]
  },
  {
   "cell_type": "code",
   "execution_count": 209,
   "metadata": {},
   "outputs": [
    {
     "data": {
      "text/html": [
       "<div>\n",
       "<style scoped>\n",
       "    .dataframe tbody tr th:only-of-type {\n",
       "        vertical-align: middle;\n",
       "    }\n",
       "\n",
       "    .dataframe tbody tr th {\n",
       "        vertical-align: top;\n",
       "    }\n",
       "\n",
       "    .dataframe thead th {\n",
       "        text-align: right;\n",
       "    }\n",
       "</style>\n",
       "<table border=\"1\" class=\"dataframe\">\n",
       "  <thead>\n",
       "    <tr style=\"text-align: center;\">\n",
       "      <th></th>\n",
       "      <th>ID</th>\n",
       "      <th>TotalCases</th>\n",
       "      <th>TotalDeaths</th>\n",
       "      <th>TotalRecovered</th>\n",
       "      <th>ActiveCases</th>\n",
       "      <th>TotalCasesPerMillion</th>\n",
       "      <th>TotalDeathsPerMillion</th>\n",
       "      <th>TotalTests</th>\n",
       "      <th>TotalTestsPerMillion</th>\n",
       "      <th>TotalPopulation</th>\n",
       "    </tr>\n",
       "  </thead>\n",
       "  <tbody>\n",
       "    <tr>\n",
       "      <th>count</th>\n",
       "      <td>47.000</td>\n",
       "      <td>47.000</td>\n",
       "      <td>47.000</td>\n",
       "      <td>47.000</td>\n",
       "      <td>47.000</td>\n",
       "      <td>47.000</td>\n",
       "      <td>47.000</td>\n",
       "      <td>47.000</td>\n",
       "      <td>47.000</td>\n",
       "      <td>47.000</td>\n",
       "    </tr>\n",
       "    <tr>\n",
       "      <th>mean</th>\n",
       "      <td>25.362</td>\n",
       "      <td>1641312.872</td>\n",
       "      <td>24235.255</td>\n",
       "      <td>1573923.489</td>\n",
       "      <td>43154.128</td>\n",
       "      <td>45698.957</td>\n",
       "      <td>464.787</td>\n",
       "      <td>30157361.766</td>\n",
       "      <td>1198093.404</td>\n",
       "      <td>98768976.936</td>\n",
       "    </tr>\n",
       "    <tr>\n",
       "      <th>std</th>\n",
       "      <td>14.375</td>\n",
       "      <td>5038739.187</td>\n",
       "      <td>69507.812</td>\n",
       "      <td>4922669.563</td>\n",
       "      <td>91412.612</td>\n",
       "      <td>46357.962</td>\n",
       "      <td>490.275</td>\n",
       "      <td>87343801.704</td>\n",
       "      <td>1876392.788</td>\n",
       "      <td>287264489.092</td>\n",
       "    </tr>\n",
       "    <tr>\n",
       "      <th>min</th>\n",
       "      <td>1.000</td>\n",
       "      <td>2613.000</td>\n",
       "      <td>3.000</td>\n",
       "      <td>2603.000</td>\n",
       "      <td>7.000</td>\n",
       "      <td>67.000</td>\n",
       "      <td>3.000</td>\n",
       "      <td>103566.000</td>\n",
       "      <td>5741.000</td>\n",
       "      <td>442811.000</td>\n",
       "    </tr>\n",
       "    <tr>\n",
       "      <th>25%</th>\n",
       "      <td>13.500</td>\n",
       "      <td>123304.000</td>\n",
       "      <td>1420.000</td>\n",
       "      <td>104450.000</td>\n",
       "      <td>2223.000</td>\n",
       "      <td>7646.000</td>\n",
       "      <td>136.000</td>\n",
       "      <td>2524080.500</td>\n",
       "      <td>145819.000</td>\n",
       "      <td>5261775.000</td>\n",
       "    </tr>\n",
       "    <tr>\n",
       "      <th>50%</th>\n",
       "      <td>26.000</td>\n",
       "      <td>413410.000</td>\n",
       "      <td>5575.000</td>\n",
       "      <td>409002.000</td>\n",
       "      <td>17815.000</td>\n",
       "      <td>24452.000</td>\n",
       "      <td>330.000</td>\n",
       "      <td>9201621.000</td>\n",
       "      <td>431850.000</td>\n",
       "      <td>18040518.000</td>\n",
       "    </tr>\n",
       "    <tr>\n",
       "      <th>75%</th>\n",
       "      <td>37.500</td>\n",
       "      <td>1082300.000</td>\n",
       "      <td>17846.000</td>\n",
       "      <td>1018009.000</td>\n",
       "      <td>30726.500</td>\n",
       "      <td>79691.500</td>\n",
       "      <td>634.500</td>\n",
       "      <td>25200158.500</td>\n",
       "      <td>1038131.500</td>\n",
       "      <td>53099811.500</td>\n",
       "    </tr>\n",
       "    <tr>\n",
       "      <th>max</th>\n",
       "      <td>49.000</td>\n",
       "      <td>33971607.000</td>\n",
       "      <td>450814.000</td>\n",
       "      <td>33293478.000</td>\n",
       "      <td>484896.000</td>\n",
       "      <td>159718.000</td>\n",
       "      <td>2329.000</td>\n",
       "      <td>583631490.000</td>\n",
       "      <td>8687776.000</td>\n",
       "      <td>1439323776.000</td>\n",
       "    </tr>\n",
       "  </tbody>\n",
       "</table>\n",
       "</div>"
      ],
      "text/plain": [
       "        ID    TotalCases   TotalDeaths  TotalRecovered  ActiveCases  \\\n",
       "count 47.000       47.000      47.000          47.000       47.000    \n",
       "mean  25.362  1641312.872   24235.255     1573923.489    43154.128    \n",
       "std   14.375  5038739.187   69507.812     4922669.563    91412.612    \n",
       "min    1.000     2613.000       3.000        2603.000        7.000    \n",
       "25%   13.500   123304.000    1420.000      104450.000     2223.000    \n",
       "50%   26.000   413410.000    5575.000      409002.000    17815.000    \n",
       "75%   37.500  1082300.000   17846.000     1018009.000    30726.500    \n",
       "max   49.000 33971607.000  450814.000    33293478.000   484896.000    \n",
       "\n",
       "       TotalCasesPerMillion  TotalDeathsPerMillion   TotalTests   \\\n",
       "count           47.000               47.000               47.000   \n",
       "mean         45698.957              464.787         30157361.766   \n",
       "std          46357.962              490.275         87343801.704   \n",
       "min             67.000                3.000           103566.000   \n",
       "25%           7646.000              136.000          2524080.500   \n",
       "50%          24452.000              330.000          9201621.000   \n",
       "75%          79691.500              634.500         25200158.500   \n",
       "max         159718.000             2329.000        583631490.000   \n",
       "\n",
       "       TotalTestsPerMillion  TotalPopulation  \n",
       "count           47.000               47.000   \n",
       "mean       1198093.404         98768976.936   \n",
       "std        1876392.788        287264489.092   \n",
       "min           5741.000           442811.000   \n",
       "25%         145819.000          5261775.000   \n",
       "50%         431850.000         18040518.000   \n",
       "75%        1038131.500         53099811.500   \n",
       "max        8687776.000       1439323776.000   "
      ]
     },
     "execution_count": 209,
     "metadata": {},
     "output_type": "execute_result"
    }
   ],
   "source": [
    "data2.describe()"
   ]
  },
  {
   "cell_type": "code",
   "execution_count": 210,
   "metadata": {},
   "outputs": [
    {
     "data": {
      "image/png": "[encoded data removed]",
      "text/plain": [
       "<Figure size 1440x360 with 2 Axes>"
      ]
     },
     "metadata": {
      "needs_background": "light"
     },
     "output_type": "display_data"
    }
   ],
   "source": [
    "plt.subplots(figsize=(20, 5));\n",
    "sns.heatmap(data2.corr(), annot = True, cmap = \"coolwarm\", mask = np.triu(data2.corr()));\n",
    "plt.title(\"Correlation Matrix\")\n",
    "plt.xlabel(\"Variables\")\n",
    "plt.ylabel(\"Variables\");"
   ]
  },
  {
   "cell_type": "code",
   "execution_count": 211,
   "metadata": {},
   "outputs": [],
   "source": [
    "# Recuperer les varaibles ayant une certaine corélation \n",
    "def corr_selection(dataset, threshold):\n",
    "    col_corr = set()  # Set of all the names of correlated columns\n",
    "    corr_matrix = dataset.corr()\n",
    "    for i in range(len(corr_matrix.columns)):\n",
    "        for j in range(i):\n",
    "            if abs(corr_matrix.iloc[i, j]) > threshold: # we are interested in absolute coeff value\n",
    "                colname = corr_matrix.columns[i]  # getting the name of column\n",
    "                col_corr.add(colname)\n",
    "    return col_corr"
   ]
  },
  {
   "cell_type": "code",
   "execution_count": 217,
   "metadata": {},
   "outputs": [
    {
     "data": {
      "text/plain": [
       "{'TotalDeaths', 'TotalRecovered', 'TotalTests'}"
      ]
     },
     "execution_count": 217,
     "metadata": {},
     "output_type": "execute_result"
    }
   ],
   "source": [
    "corr_features = corr_selection(data2, 0.9)\n",
    "corr_features"
   ]
  },
  {
   "cell_type": "code",
   "execution_count": 218,
   "metadata": {},
   "outputs": [],
   "source": [
    "data2=data2.drop([\"ID\", \"Country\",],axis=1)"
   ]
  },
  {
   "cell_type": "markdown",
   "metadata": {},
   "source": [
    "## Specification<a id='sec2.4'></a>"
   ]
  },
  {
   "cell_type": "markdown",
   "metadata": {},
   "source": [
    "### K-Means <a id='sec2.4.1'></a>"
   ]
  },
  {
   "cell_type": "code",
   "execution_count": 219,
   "metadata": {},
   "outputs": [],
   "source": [
    "X2 = StandardScaler().fit_transform(data2)"
   ]
  },
  {
   "cell_type": "code",
   "execution_count": null,
   "metadata": {},
   "outputs": [],
   "source": [
    "sumSqDistance = []\n",
    "K = range(1,10)\n",
    "for k in K:\n",
    "    km = KMeans(n_clusters=k)\n",
    "    km = km.fit(X2)\n",
    "    sumSqDistance.append(km.inertia_)"
   ]
  },
  {
   "cell_type": "code",
   "execution_count": 225,
   "metadata": {},
   "outputs": [
    {
     "data": {
      "image/png": "[encoded data removed]",
      "text/plain": [
       "<Figure size 432x288 with 1 Axes>"
      ]
     },
     "metadata": {
      "needs_background": "light"
     },
     "output_type": "display_data"
    }
   ],
   "source": [
    "plt.plot(K, sumSqDistance, '-o')\n",
    "plt.xlabel('k')\n",
    "plt.ylabel('Sum of squared distances')\n",
    "plt.title('Elbow Method For Optimal \"k\"')\n",
    "plt.show()"
   ]
  },
  {
   "cell_type": "code",
   "execution_count": 226,
   "metadata": {},
   "outputs": [
    {
     "name": "stdout",
     "output_type": "stream",
     "text": [
      "[0.79181214 0.3960937  0.43037223 0.43849765 0.45874069 0.42635655\n",
      " 0.40468206 0.36750489 0.43752458 0.37332103]\n"
     ]
    }
   ],
   "source": [
    "from sklearn import metrics\n",
    "#utilisation de la métrique \"silhouette\" #faire varier le nombre de clusters de 2 à 10\n",
    "res = np.arange(10,dtype=\"double\")\n",
    "for k in np.arange(10):\n",
    "    km = KMeans(n_clusters=k+2)\n",
    "    km.fit(X2)\n",
    "    res[k] = metrics.silhouette_score(X2,km.labels_)\n",
    "print(res)"
   ]
  },
  {
   "cell_type": "code",
   "execution_count": 228,
   "metadata": {},
   "outputs": [
    {
     "data": {
      "image/png": "[encoded data removed]",
      "text/plain": [
       "<Figure size 432x288 with 1 Axes>"
      ]
     },
     "metadata": {
      "needs_background": "light"
     },
     "output_type": "display_data"
    }
   ],
   "source": [
    "#graphique\n",
    "import matplotlib.pyplot as plt \n",
    "plt.title(\"Silhouette\") \n",
    "plt.xlabel(\"# of clusters\") \n",
    "plt.plot(np.arange(2,12,1),res, '-o') \n",
    "plt.show()"
   ]
  },
  {
   "cell_type": "code",
   "execution_count": 229,
   "metadata": {},
   "outputs": [
    {
     "data": {
      "text/plain": [
       "array([0, 0, 0, 0, 0, 0, 0, 0, 0, 0, 0, 0, 0, 0, 0, 0, 0, 0, 0, 0, 0, 0,\n",
       "       0, 0, 0, 0, 0, 0, 0, 0, 0, 0, 0, 0, 1, 0, 0, 0, 0, 0, 0, 0, 0, 0,\n",
       "       0, 0, 0])"
      ]
     },
     "execution_count": 229,
     "metadata": {},
     "output_type": "execute_result"
    }
   ],
   "source": [
    "kmean = KMeans(n_clusters= 2)\n",
    "kmeans_model=kmean.fit(X2)\n",
    "kmean.predict(X2)"
   ]
  },
  {
   "cell_type": "code",
   "execution_count": 230,
   "metadata": {},
   "outputs": [
    {
     "data": {
      "text/plain": [
       "(array([0, 1]), array([46,  1], dtype=int64))"
      ]
     },
     "execution_count": 230,
     "metadata": {},
     "output_type": "execute_result"
    }
   ],
   "source": [
    "np.unique(kmean.labels_,return_counts=True)"
   ]
  },
  {
   "cell_type": "code",
   "execution_count": 232,
   "metadata": {},
   "outputs": [
    {
     "data": {
      "text/plain": [
       "0     0\n",
       "1     0\n",
       "2     0\n",
       "3     0\n",
       "4     0\n",
       "     ..\n",
       "44    0\n",
       "45    0\n",
       "46    0\n",
       "47    0\n",
       "48    0\n",
       "Name: labels, Length: 47, dtype: int32"
      ]
     },
     "execution_count": 232,
     "metadata": {},
     "output_type": "execute_result"
    }
   ],
   "source": [
    "# warnings.filterwarnings('ignore')\n",
    "data2[\"labels\"]=kmean.labels_\n",
    "data2[\"labels\"] # si on veux voir quelle observation "
   ]
  },
  {
   "cell_type": "code",
   "execution_count": 235,
   "metadata": {},
   "outputs": [
    {
     "data": {
      "image/png": "[encoded data removed]",
      "text/plain": [
       "<Figure size 432x288 with 1 Axes>"
      ]
     },
     "metadata": {
      "needs_background": "light"
     },
     "output_type": "display_data"
    }
   ],
   "source": [
    "plt.scatter(X2[:,0],X2[:,1],c=kmean.predict(X2));"
   ]
  },
  {
   "cell_type": "markdown",
   "metadata": {},
   "source": [
    "Avec la metrics.silhouette_score,lescore est compris entre -1 pour un clustering incorrect et +1 pour un clustering très dense.\n",
    "Les scores autour de zéro indiquent des clusters qui se chevauchent.\n",
    "Le score est plus élevé lorsque les clusters sont denses et bien séparés, ce qui correspond à un concept standard de cluster."
   ]
  },
  {
   "cell_type": "code",
   "execution_count": 236,
   "metadata": {},
   "outputs": [
    {
     "name": "stdout",
     "output_type": "stream",
     "text": [
      "0.7918121355123672\n",
      "37.98447208675011\n"
     ]
    }
   ],
   "source": [
    "labels = kmeans_model.labels_\n",
    "print(metrics.silhouette_score(X2, labels, metric='euclidean'))\n",
    "print(metrics.calinski_harabasz_score(X2, labels))\n"
   ]
  },
  {
   "cell_type": "markdown",
   "metadata": {},
   "source": [
    "### Gaussian Mixture <a id='sec2.4.2'></a>"
   ]
  },
  {
   "cell_type": "code",
   "execution_count": 237,
   "metadata": {},
   "outputs": [
    {
     "data": {
      "image/png": "[encoded data removed]",
      "text/plain": [
       "<Figure size 800x600 with 1 Axes>"
      ]
     },
     "metadata": {
      "needs_background": "light"
     },
     "output_type": "display_data"
    }
   ],
   "source": [
    "fig = plt.figure(figsize=(8, 6), dpi=100)\n",
    "sns.distplot(X2, bins=50, kde=True, norm_hist=True, label='Normal distribution 1');"
   ]
  },
  {
   "cell_type": "code",
   "execution_count": 240,
   "metadata": {},
   "outputs": [
    {
     "name": "stdout",
     "output_type": "stream",
     "text": [
      "Covariance matrix :\n",
      " [[ 0.06989536  0.07362163  0.06687926 ... -0.04525972 -0.2161928\n",
      "   0.05941565]\n",
      " [ 0.07362163  0.08958447  0.06869046 ... -0.04754596 -0.21560307\n",
      "   0.06616431]\n",
      " [ 0.06687926  0.06869046  0.06548446 ... -0.0467251  -0.22747882\n",
      "   0.0548924 ]\n",
      " ...\n",
      " [-0.04525972 -0.04754596 -0.0467251  ...  0.05951585  0.26272474\n",
      "  -0.03161223]\n",
      " [-0.2161928  -0.21560307 -0.22747882 ...  0.26272474  1.21689354\n",
      "  -0.1469064 ]\n",
      " [ 0.05941565  0.06616431  0.0548924  ... -0.03161223 -0.1469064\n",
      "   0.057622  ]]\n"
     ]
    }
   ],
   "source": [
    "print(\"Covariance matrix :\\n\", np.cov(X2))# permet de justifier l'utilisation full "
   ]
  },
  {
   "cell_type": "code",
   "execution_count": 241,
   "metadata": {},
   "outputs": [
    {
     "data": {
      "image/png": "[encoded data removed]",
      "text/plain": [
       "<Figure size 432x288 with 1 Axes>"
      ]
     },
     "metadata": {
      "needs_background": "light"
     },
     "output_type": "display_data"
    }
   ],
   "source": [
    "n_components = np.arange(1, 9)\n",
    "models = [GaussianMixture(n,random_state=0,covariance_type=\"full\").fit(X2)\n",
    "          for n in n_components]\n",
    "\n",
    "plt.plot(n_components, [m.bic(X2) for m in models], label='BIC')\n",
    "plt.plot(n_components, [m.aic(X2) for m in models], label='AIC')\n",
    "plt.legend(loc='best')\n",
    "plt.xlabel('n_components');"
   ]
  },
  {
   "cell_type": "code",
   "execution_count": 242,
   "metadata": {},
   "outputs": [
    {
     "name": "stdout",
     "output_type": "stream",
     "text": [
      "Converged: True\n"
     ]
    }
   ],
   "source": [
    "# fit model\n",
    "from sklearn.mixture import GaussianMixture\n",
    "\n",
    "GMM = GaussianMixture(n_components = 3, init_params = 'random')\n",
    "GMM.fit(X2)\n",
    "print('Converged:', GMM.converged_) # check if the model has converged"
   ]
  },
  {
   "cell_type": "code",
   "execution_count": 243,
   "metadata": {},
   "outputs": [
    {
     "data": {
      "text/plain": [
       "array([0, 0, 0, 0, 1, 0, 0, 0, 0, 0, 0, 0, 0, 0, 0, 0, 0, 0, 0, 0, 0, 0,\n",
       "       0, 0, 0, 0, 0, 0, 0, 0, 0, 0, 1, 0, 1, 0, 0, 0, 0, 0, 0, 0, 0, 0,\n",
       "       0, 0, 0], dtype=int64)"
      ]
     },
     "execution_count": 243,
     "metadata": {},
     "output_type": "execute_result"
    }
   ],
   "source": [
    "gmm= GaussianMixture(n_components=2)\n",
    "gmm.fit(X2)\n",
    "gmm.predict(X2)"
   ]
  },
  {
   "cell_type": "code",
   "execution_count": 244,
   "metadata": {},
   "outputs": [
    {
     "data": {
      "image/png": "[encoded data removed]",
      "text/plain": [
       "<Figure size 432x288 with 1 Axes>"
      ]
     },
     "metadata": {
      "needs_background": "light"
     },
     "output_type": "display_data"
    }
   ],
   "source": [
    "plt.scatter(X2[:,0],X2[:,1],c=gmm.predict(X2));"
   ]
  },
  {
   "cell_type": "markdown",
   "metadata": {},
   "source": [
    "## Findings <a id='sec2.5'></a>"
   ]
  }
 ],
 "metadata": {
  "kernelspec": {
   "display_name": "Python 3",
   "language": "python",
   "name": "python3"
  },
  "language_info": {
   "codemirror_mode": {
    "name": "ipython",
    "version": 3
   },
   "file_extension": ".py",
   "mimetype": "text/x-python",
   "name": "python",
   "nbconvert_exporter": "python",
   "pygments_lexer": "ipython3",
   "version": "3.8.8"
  }
 },
 "nbformat": 4,
 "nbformat_minor": 4
}
